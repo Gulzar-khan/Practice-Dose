{
  "cells": [
    {
      "cell_type": "markdown",
      "source": [
        "28OR50,37OR27"
      ],
      "metadata": {
        "id": "Gen71v6B0CYe"
      }
    },
    {
      "cell_type": "markdown",
      "source": [
        "5."
      ],
      "metadata": {
        "id": "oRCStolmtGFb"
      }
    },
    {
      "cell_type": "code",
      "execution_count": null,
      "metadata": {
        "id": "Yk2K68SBrKxa"
      },
      "outputs": [],
      "source": [
        "trr='ABCDEFGHIKLMNOPQRSTUVWXYZ'\n",
        "n=4"
      ]
    },
    {
      "cell_type": "code",
      "execution_count": null,
      "metadata": {
        "colab": {
          "base_uri": "https://localhost:8080/"
        },
        "id": "6OTvJcjxzZYS",
        "outputId": "e9fef369-344d-44ca-d870-003b31b29de1"
      },
      "outputs": [
        {
          "output_type": "stream",
          "name": "stdout",
          "text": [
            "A\n",
            "AB\n",
            "ABC\n",
            "ABCD\n"
          ]
        }
      ],
      "source": [
        "a=0\n",
        "b=1\n",
        "\n",
        "while b<=4:\n",
        "  tr=trr[a:b]\n",
        "  b+=1\n",
        "  print(tr)\n",
        "\n"
      ]
    },
    {
      "cell_type": "code",
      "source": [
        "for i in range(5):\n",
        "  print(trr[:i])"
      ],
      "metadata": {
        "colab": {
          "base_uri": "https://localhost:8080/"
        },
        "id": "PjLJP-inv-w2",
        "outputId": "b78da812-88aa-41b2-8e61-7e7e23393b7e"
      },
      "execution_count": null,
      "outputs": [
        {
          "output_type": "stream",
          "name": "stdout",
          "text": [
            "\n",
            "A\n",
            "AB\n",
            "ABC\n",
            "ABCD\n"
          ]
        }
      ]
    },
    {
      "cell_type": "markdown",
      "source": [
        "5.1"
      ],
      "metadata": {
        "id": "TMb3f761tT9O"
      }
    },
    {
      "cell_type": "code",
      "source": [
        "for i in range(65,70):\n",
        "  for j in range(65,i+1):\n",
        "    print(chr(i),end=\"\")\n",
        "    i=i+1\n",
        "  print()"
      ],
      "metadata": {
        "colab": {
          "base_uri": "https://localhost:8080/"
        },
        "id": "tTkjR18TtR_S",
        "outputId": "40b114be-69fb-479f-da0b-554f9da3ecb5"
      },
      "execution_count": null,
      "outputs": [
        {
          "output_type": "stream",
          "name": "stdout",
          "text": [
            "A\n",
            "BC\n",
            "CDE\n",
            "DEFG\n",
            "EFGHI\n"
          ]
        }
      ]
    },
    {
      "cell_type": "code",
      "source": [
        "for i in range(0,n):\n",
        "  for j in range(0,i+1):\n",
        "    print(trr[i],end=\"\")\n",
        "    i=i+1\n",
        "  print()"
      ],
      "metadata": {
        "colab": {
          "base_uri": "https://localhost:8080/"
        },
        "id": "yxpM6N2CtnHG",
        "outputId": "a0311566-aa23-429f-c8c9-c808db1e8af7"
      },
      "execution_count": null,
      "outputs": [
        {
          "output_type": "stream",
          "name": "stdout",
          "text": [
            "A\n",
            "BC\n",
            "CDE\n",
            "DEFG\n",
            "EFGHI\n"
          ]
        }
      ]
    },
    {
      "cell_type": "markdown",
      "source": [
        "6."
      ],
      "metadata": {
        "id": "Z8U_rTuDuVel"
      }
    },
    {
      "cell_type": "code",
      "source": [
        "trr"
      ],
      "metadata": {
        "colab": {
          "base_uri": "https://localhost:8080/",
          "height": 35
        },
        "id": "jROBRPk5u6hy",
        "outputId": "9dbd08cf-4ba5-47e8-9ebe-0c54dcba711e"
      },
      "execution_count": null,
      "outputs": [
        {
          "output_type": "execute_result",
          "data": {
            "text/plain": [
              "'ABCDEFGHIKLMNOPQRSTUVWXYZ'"
            ],
            "application/vnd.google.colaboratory.intrinsic+json": {
              "type": "string"
            }
          },
          "metadata": {},
          "execution_count": 211
        }
      ]
    },
    {
      "cell_type": "code",
      "source": [
        "N=4"
      ],
      "metadata": {
        "id": "IJMsEypM7nWL"
      },
      "execution_count": null,
      "outputs": []
    },
    {
      "cell_type": "code",
      "source": [
        "bb=list(range(N))"
      ],
      "metadata": {
        "id": "R_1gPiUF5dlA"
      },
      "execution_count": null,
      "outputs": []
    },
    {
      "cell_type": "code",
      "source": [
        "bb.reverse()"
      ],
      "metadata": {
        "id": "ZiHvwoBt5tBV"
      },
      "execution_count": null,
      "outputs": []
    },
    {
      "cell_type": "code",
      "source": [
        "for i in bb:\n",
        "  print(trr[i:N])"
      ],
      "metadata": {
        "colab": {
          "base_uri": "https://localhost:8080/"
        },
        "id": "RxgIWFLVveXU",
        "outputId": "39b0cb7a-44fd-4804-b4fe-3b04c0fe3e56"
      },
      "execution_count": null,
      "outputs": [
        {
          "output_type": "stream",
          "name": "stdout",
          "text": [
            "D\n",
            "CD\n",
            "BCD\n",
            "ABCD\n"
          ]
        }
      ]
    },
    {
      "cell_type": "markdown",
      "source": [
        "7."
      ],
      "metadata": {
        "id": "5FFEikwV7-oc"
      }
    },
    {
      "cell_type": "code",
      "source": [
        "n=4"
      ],
      "metadata": {
        "id": "slPX9RWy79S0"
      },
      "execution_count": null,
      "outputs": []
    },
    {
      "cell_type": "code",
      "source": [
        "for i in range(n):\n",
        "  print(trr[:i+1])\n"
      ],
      "metadata": {
        "colab": {
          "base_uri": "https://localhost:8080/"
        },
        "id": "hj4-TtpAy6QN",
        "outputId": "a17df60a-874f-4b6d-aa2e-f20b0058d50c"
      },
      "execution_count": null,
      "outputs": [
        {
          "output_type": "stream",
          "name": "stdout",
          "text": [
            "A\n",
            "AB\n",
            "ABC\n",
            "ABCD\n"
          ]
        }
      ]
    },
    {
      "cell_type": "markdown",
      "source": [
        "8."
      ],
      "metadata": {
        "id": "LgpC4pEi9ZEn"
      }
    },
    {
      "cell_type": "code",
      "source": [
        "st='1'"
      ],
      "metadata": {
        "id": "P1QzvvG5-c3K"
      },
      "execution_count": null,
      "outputs": []
    },
    {
      "cell_type": "code",
      "source": [
        "for i in range(1,n+1):\n",
        "  print(i*'1')"
      ],
      "metadata": {
        "colab": {
          "base_uri": "https://localhost:8080/"
        },
        "id": "oa9LRUlK9alB",
        "outputId": "ec3f7079-3306-4129-900d-fa23836d8922"
      },
      "execution_count": null,
      "outputs": [
        {
          "output_type": "stream",
          "name": "stdout",
          "text": [
            "1\n",
            "11\n",
            "111\n",
            "1111\n"
          ]
        }
      ]
    },
    {
      "cell_type": "markdown",
      "source": [
        "9."
      ],
      "metadata": {
        "id": "uKgxnPpXAKtd"
      }
    },
    {
      "cell_type": "code",
      "source": [
        "n=4"
      ],
      "metadata": {
        "id": "oTV9innhLEVl"
      },
      "execution_count": null,
      "outputs": []
    },
    {
      "cell_type": "code",
      "source": [
        "for i in range(n):\n",
        "  if i==0:\n",
        "    print(1)\n",
        "  print(str(i+1)+(i)*str(0)+str(i+1))\n",
        "\n",
        "  \n"
      ],
      "metadata": {
        "id": "UvG1iRLuAMRj",
        "colab": {
          "base_uri": "https://localhost:8080/"
        },
        "outputId": "b624b9c1-38a7-49d3-9c58-78a5c731da77"
      },
      "execution_count": null,
      "outputs": [
        {
          "output_type": "stream",
          "name": "stdout",
          "text": [
            "1\n",
            "11\n",
            "202\n",
            "3003\n",
            "40004\n"
          ]
        }
      ]
    },
    {
      "cell_type": "markdown",
      "source": [
        "10."
      ],
      "metadata": {
        "id": "Tbo9jLKsFUiq"
      }
    },
    {
      "cell_type": "code",
      "source": [
        "for i in range(n):\n",
        "  if i==0:\n",
        "    print(1)\n",
        "  print(str(1)+(i)*str(2)+str(1))"
      ],
      "metadata": {
        "id": "iNlRD-e5tm3T",
        "colab": {
          "base_uri": "https://localhost:8080/"
        },
        "outputId": "2db94590-9692-4f2b-8d86-42d903ebfde6"
      },
      "execution_count": null,
      "outputs": [
        {
          "output_type": "stream",
          "name": "stdout",
          "text": [
            "1\n",
            "11\n",
            "121\n",
            "1221\n",
            "12221\n"
          ]
        }
      ]
    },
    {
      "cell_type": "markdown",
      "source": [
        "11."
      ],
      "metadata": {
        "id": "q9180GZ4Qu22"
      }
    },
    {
      "cell_type": "code",
      "source": [
        "# a=[]\n",
        "strr='12345'\n",
        "for j in range(n):\n",
        "  print(strr[j::-1])"
      ],
      "metadata": {
        "colab": {
          "base_uri": "https://localhost:8080/"
        },
        "id": "pqwe7SIxQxTB",
        "outputId": "a57679b1-4228-4203-8af3-9fbaed578f07"
      },
      "execution_count": null,
      "outputs": [
        {
          "output_type": "stream",
          "name": "stdout",
          "text": [
            "1\n",
            "21\n",
            "321\n",
            "4321\n"
          ]
        }
      ]
    },
    {
      "cell_type": "code",
      "source": [
        "strr[5::-1]"
      ],
      "metadata": {
        "colab": {
          "base_uri": "https://localhost:8080/",
          "height": 35
        },
        "id": "r5YffpewQxKm",
        "outputId": "ab7ce9db-13fa-47d8-c1a6-c44f5081ebfd"
      },
      "execution_count": null,
      "outputs": [
        {
          "output_type": "execute_result",
          "data": {
            "text/plain": [
              "'54321'"
            ],
            "application/vnd.google.colaboratory.intrinsic+json": {
              "type": "string"
            }
          },
          "metadata": {},
          "execution_count": 224
        }
      ]
    },
    {
      "cell_type": "markdown",
      "source": [
        "12."
      ],
      "metadata": {
        "id": "9c6sBj5UXIKj"
      }
    },
    {
      "cell_type": "code",
      "source": [
        "for i in range(1,n+1):\n",
        "  print(str(i)*i)"
      ],
      "metadata": {
        "colab": {
          "base_uri": "https://localhost:8080/"
        },
        "id": "dsBwhQPPUzGa",
        "outputId": "864c5283-4312-4545-b22e-eb4b75dd3519"
      },
      "execution_count": null,
      "outputs": [
        {
          "output_type": "stream",
          "name": "stdout",
          "text": [
            "1\n",
            "22\n",
            "333\n",
            "4444\n"
          ]
        }
      ]
    },
    {
      "cell_type": "markdown",
      "source": [
        "13."
      ],
      "metadata": {
        "id": "7d_6cVe4YMk4"
      }
    },
    {
      "cell_type": "code",
      "source": [
        "vv='01234567890'\n",
        "for i in range(1,n+1):\n",
        "  print(vv[i:i+i])\n"
      ],
      "metadata": {
        "colab": {
          "base_uri": "https://localhost:8080/"
        },
        "id": "2o8st5MfYQNw",
        "outputId": "97ed0bde-d58d-43c8-dfa9-4a12400acc3d"
      },
      "execution_count": null,
      "outputs": [
        {
          "output_type": "stream",
          "name": "stdout",
          "text": [
            "1\n",
            "23\n",
            "345\n",
            "4567\n"
          ]
        }
      ]
    },
    {
      "cell_type": "markdown",
      "source": [
        "14."
      ],
      "metadata": {
        "id": "h0qO0h5Zdeth"
      }
    },
    {
      "cell_type": "code",
      "source": [
        "vv=['1','2','3','4','5','6','7','8','9','10']\n",
        "asv=0\n",
        "for i in range(n):\n",
        "    # inner loop for jth columns\n",
        "    for j in range(0,i+1):\n",
        "        char = vv[asv]\n",
        "        print(char,end=\"\")\n",
        "        asv += 1\n",
        "    print()"
      ],
      "metadata": {
        "colab": {
          "base_uri": "https://localhost:8080/"
        },
        "id": "NQ6OY2--g2fX",
        "outputId": "c908cacf-a801-4ddb-ccbc-7bad766b4c0c"
      },
      "execution_count": null,
      "outputs": [
        {
          "output_type": "stream",
          "name": "stdout",
          "text": [
            "1\n",
            "23\n",
            "456\n",
            "78910\n"
          ]
        }
      ]
    },
    {
      "cell_type": "markdown",
      "source": [
        "15."
      ],
      "metadata": {
        "id": "8KfwSiAEkUq_"
      }
    },
    {
      "cell_type": "code",
      "source": [
        "bb=list(range(n+1))\n",
        "bb.reverse()\n",
        "vv='123456789'\n",
        "for i in bb:\n",
        "  print(vv[0:i])"
      ],
      "metadata": {
        "colab": {
          "base_uri": "https://localhost:8080/"
        },
        "id": "X7odWAjqkWBN",
        "outputId": "dd56f5e6-8438-4d42-a948-2726603d05ff"
      },
      "execution_count": null,
      "outputs": [
        {
          "output_type": "stream",
          "name": "stdout",
          "text": [
            "1234\n",
            "123\n",
            "12\n",
            "1\n",
            "\n"
          ]
        }
      ]
    },
    {
      "cell_type": "markdown",
      "source": [
        "16."
      ],
      "metadata": {
        "id": "AdvXoqf-WjbB"
      }
    },
    {
      "cell_type": "code",
      "source": [
        ""
      ],
      "metadata": {
        "id": "RkFnS-Grba7z"
      },
      "execution_count": null,
      "outputs": []
    },
    {
      "cell_type": "code",
      "source": [
        "n=4\n",
        "n=list(range(n+1))\n",
        "n.reverse()\n",
        "for i in n:\n",
        "  if i ==0:\n",
        "    print()\n",
        "  elif i==1:\n",
        "    print(1)\n",
        "  else:\n",
        "    print(str(i)+str(i)*(i-2)+str(i))"
      ],
      "metadata": {
        "colab": {
          "base_uri": "https://localhost:8080/"
        },
        "id": "pIwAxi7lWhy-",
        "outputId": "67537cc4-bdea-4f42-fc0c-b469834baf7d"
      },
      "execution_count": null,
      "outputs": [
        {
          "output_type": "stream",
          "name": "stdout",
          "text": [
            "4444\n",
            "333\n",
            "22\n",
            "1\n",
            "\n"
          ]
        }
      ]
    },
    {
      "cell_type": "markdown",
      "source": [
        "17."
      ],
      "metadata": {
        "id": "Sg0dHuMDCl9H"
      }
    },
    {
      "cell_type": "code",
      "source": [
        "n=5"
      ],
      "metadata": {
        "id": "lYiurtiaD4CP"
      },
      "execution_count": null,
      "outputs": []
    },
    {
      "cell_type": "code",
      "source": [
        "\n",
        "n=(5)\n",
        "lstt=[1,0,1,0,1,0,1,0]\n",
        "for i in lstt:\n",
        "  # n=5\n",
        "  if i>=0:\n",
        "    print(str(i)*n)\n",
        "    n=n-1\n",
        "    "
      ],
      "metadata": {
        "colab": {
          "base_uri": "https://localhost:8080/"
        },
        "id": "f39BJOKbCn95",
        "outputId": "29854bf2-15e7-4fa4-a44a-6fce199c2e7b"
      },
      "execution_count": null,
      "outputs": [
        {
          "output_type": "stream",
          "name": "stdout",
          "text": [
            "11111\n",
            "0000\n",
            "111\n",
            "00\n",
            "1\n",
            "\n",
            "\n",
            "\n"
          ]
        }
      ]
    },
    {
      "cell_type": "markdown",
      "source": [
        "18."
      ],
      "metadata": {
        "id": "iItpeCl5_a10"
      }
    },
    {
      "cell_type": "code",
      "source": [
        "rows = 6\n",
        "for i in range(1, rows):\n",
        "    num = 1\n",
        "    for j in range(rows, 0, -1):\n",
        "        if j > i:\n",
        "            print(\" \", end=' ')\n",
        "        else:\n",
        "            print(num, end=' ')\n",
        "            num += 1\n",
        "    print(\"\")"
      ],
      "metadata": {
        "colab": {
          "base_uri": "https://localhost:8080/"
        },
        "id": "9XZxIToZBiJI",
        "outputId": "c2629408-61ee-437c-c266-52d2a0959e71"
      },
      "execution_count": null,
      "outputs": [
        {
          "output_type": "stream",
          "name": "stdout",
          "text": [
            "          1 \n",
            "        1 2 \n",
            "      1 2 3 \n",
            "    1 2 3 4 \n",
            "  1 2 3 4 5 \n"
          ]
        }
      ]
    },
    {
      "cell_type": "code",
      "source": [
        "n=5\n",
        "for i in range(1,n+1):\n",
        "  num=1\n",
        "  for j in range(n,0,-1):\n",
        "    if j>i:\n",
        "      print(\" \", end=\"\")\n",
        "    else:\n",
        "      print(num, end=\"\")\n",
        "      num=num+1\n",
        "  print(\"\")"
      ],
      "metadata": {
        "colab": {
          "base_uri": "https://localhost:8080/"
        },
        "id": "J2dWfOpr_cXt",
        "outputId": "46a1bc3f-8a94-49f0-bea4-d2c60bd1e083"
      },
      "execution_count": null,
      "outputs": [
        {
          "output_type": "stream",
          "name": "stdout",
          "text": [
            "    1\n",
            "   12\n",
            "  123\n",
            " 1234\n",
            "12345\n"
          ]
        }
      ]
    },
    {
      "cell_type": "markdown",
      "source": [
        "19."
      ],
      "metadata": {
        "id": "m6i7ruC_HC4n"
      }
    },
    {
      "cell_type": "code",
      "source": [
        "n=4\n",
        "for i in range(1,n+1):\n",
        "  # num=1\n",
        "  for j in range(n,0,-1):\n",
        "    if j>i:\n",
        "      print(\" \", end=\"\")\n",
        "    else:\n",
        "      print(j, end=\"\")\n",
        "      # num=num+1\n",
        "  print(\"\")"
      ],
      "metadata": {
        "colab": {
          "base_uri": "https://localhost:8080/"
        },
        "id": "ooRvPjqgPH1R",
        "outputId": "624494ab-f28d-4cdc-fcd8-efdfcbc3160b"
      },
      "execution_count": null,
      "outputs": [
        {
          "output_type": "stream",
          "name": "stdout",
          "text": [
            "   1\n",
            "  21\n",
            " 321\n",
            "4321\n"
          ]
        }
      ]
    },
    {
      "cell_type": "markdown",
      "source": [
        "20."
      ],
      "metadata": {
        "id": "-sMtl75iVoYt"
      }
    },
    {
      "cell_type": "code",
      "source": [
        "n=5\n",
        "for i in range(n):\n",
        "  print(str(n)*n)\n",
        "\n"
      ],
      "metadata": {
        "colab": {
          "base_uri": "https://localhost:8080/"
        },
        "id": "IXWfa9HDVoAa",
        "outputId": "a25e5479-2efc-4c96-8e19-a777342af820"
      },
      "execution_count": null,
      "outputs": [
        {
          "output_type": "stream",
          "name": "stdout",
          "text": [
            "55555\n",
            "55555\n",
            "55555\n",
            "55555\n",
            "55555\n"
          ]
        }
      ]
    },
    {
      "cell_type": "markdown",
      "source": [
        "21."
      ],
      "metadata": {
        "id": "1t_Kyp9iYh3o"
      }
    },
    {
      "cell_type": "code",
      "source": [
        "n=4\n",
        "for i in range(1,n+1):\n",
        "  print(str(i)*n)"
      ],
      "metadata": {
        "colab": {
          "base_uri": "https://localhost:8080/"
        },
        "id": "tutoTp-5Yhme",
        "outputId": "0c4ae4c4-584c-4040-db66-181f6127d973"
      },
      "execution_count": null,
      "outputs": [
        {
          "output_type": "stream",
          "name": "stdout",
          "text": [
            "1111\n",
            "2222\n",
            "3333\n",
            "4444\n"
          ]
        }
      ]
    },
    {
      "cell_type": "markdown",
      "source": [
        "22."
      ],
      "metadata": {
        "id": "aLw4kpMHZd2c"
      }
    },
    {
      "cell_type": "code",
      "source": [
        "n=4\n",
        "for i in range(n):\n",
        "  for j in range(n,0,-1):\n",
        "    print(j, end=\"\")\n",
        "  print()\n",
        "  "
      ],
      "metadata": {
        "colab": {
          "base_uri": "https://localhost:8080/"
        },
        "id": "L3-of-pkZfFM",
        "outputId": "9056a0f6-7975-4679-bf0a-7359fea35ddb"
      },
      "execution_count": null,
      "outputs": [
        {
          "output_type": "stream",
          "name": "stdout",
          "text": [
            "4321\n",
            "4321\n",
            "4321\n",
            "4321\n"
          ]
        }
      ]
    },
    {
      "cell_type": "markdown",
      "source": [
        "23."
      ],
      "metadata": {
        "id": "Pj6T0LVXpAZY"
      }
    },
    {
      "cell_type": "code",
      "source": [
        "trr"
      ],
      "metadata": {
        "colab": {
          "base_uri": "https://localhost:8080/",
          "height": 35
        },
        "id": "PVYhWbMEteLz",
        "outputId": "69b2ed98-b688-41df-8d00-41061b512605"
      },
      "execution_count": null,
      "outputs": [
        {
          "output_type": "execute_result",
          "data": {
            "text/plain": [
              "'ABCDEFGHIKLMNOPQRSTUVWXYZ'"
            ],
            "application/vnd.google.colaboratory.intrinsic+json": {
              "type": "string"
            }
          },
          "metadata": {},
          "execution_count": 238
        }
      ]
    },
    {
      "cell_type": "code",
      "source": [
        "trr='ABCDEFGHIKLMNOPQRSTUVWXYZ'\n",
        "n=4\n",
        "for i in range(n):\n",
        "  print(trr[:n])"
      ],
      "metadata": {
        "colab": {
          "base_uri": "https://localhost:8080/"
        },
        "id": "ayzEo2k-pBZe",
        "outputId": "0a4406ac-7e64-439b-e3f7-b2ddca8b27fc"
      },
      "execution_count": null,
      "outputs": [
        {
          "output_type": "stream",
          "name": "stdout",
          "text": [
            "ABCD\n",
            "ABCD\n",
            "ABCD\n",
            "ABCD\n"
          ]
        }
      ]
    },
    {
      "cell_type": "markdown",
      "source": [
        "24."
      ],
      "metadata": {
        "id": "_Ual1fm6AxYG"
      }
    },
    {
      "cell_type": "code",
      "source": [
        "trr='ABCDEFGHIKLMNOPQRSTUVWXYZ'\n",
        "n=4\n",
        "for i in range(n):\n",
        "  print(trr[i:n+i])"
      ],
      "metadata": {
        "colab": {
          "base_uri": "https://localhost:8080/"
        },
        "id": "MRrPH3lpAypq",
        "outputId": "bc821370-8508-435b-97ab-09a0f76e212c"
      },
      "execution_count": null,
      "outputs": [
        {
          "output_type": "stream",
          "name": "stdout",
          "text": [
            "ABCD\n",
            "BCDE\n",
            "CDEF\n",
            "DEFG\n"
          ]
        }
      ]
    },
    {
      "cell_type": "markdown",
      "source": [
        "25."
      ],
      "metadata": {
        "id": "-YtjKqZeDrkM"
      }
    },
    {
      "cell_type": "code",
      "source": [
        "n=5\n",
        "for i in range(1,n+1):\n",
        "  num='1'\n",
        "  space=''\n",
        "  for j in range(n,0,-1):\n",
        "    if j>i:\n",
        "      print(\" \", end=\"\")\n",
        "    elif j<i:\n",
        "      print(\"\",end=\"\")\n",
        "      \n",
        "      space=space+' '\n",
        "    else:\n",
        "      print(num, end=\"\")\n",
        "      num=num+' '\n",
        "  print(\"\")\n",
        "print('11111')\n"
      ],
      "metadata": {
        "colab": {
          "base_uri": "https://localhost:8080/"
        },
        "id": "fHzTJTSDDtKh",
        "outputId": "d2b5588e-b160-42a0-973e-995617f5abe8"
      },
      "execution_count": null,
      "outputs": [
        {
          "output_type": "stream",
          "name": "stdout",
          "text": [
            "    1\n",
            "   1\n",
            "  1\n",
            " 1\n",
            "1\n",
            "11111\n"
          ]
        }
      ]
    },
    {
      "cell_type": "code",
      "source": [
        "n = 5\n",
        "for a1 in range(1,n+1): #from row 1 to 5\n",
        "    for a2 in range(n-a1):\n",
        "        print(\" \", end = \"\")\n",
        "    for a3 in range((a1*2)-1):\n",
        "      if a3==0 or a3== ((a1*2)-2):\n",
        "        print(\"*\",end=\"\")\n",
        "      else:\n",
        "        print(\" \", end = \"\")\n",
        "    print()\n",
        "\n",
        "for a1 in range(n + 1, n + 5): #from row 6 to 9\n",
        "    for a2 in range(a1 - n):\n",
        "        print(\" \", end = \"\")\n",
        "    for a3 in range((n+5 - a1)*2 - 1):\n",
        "      if a3==0 or a3==((n+5 - a1)*2 - 2):\n",
        "        print(\"*\", end = \"\")\n",
        "      else:\n",
        "        print(\" \", end = \"\")\n",
        "\n",
        "    print()"
      ],
      "metadata": {
        "colab": {
          "base_uri": "https://localhost:8080/"
        },
        "id": "00ZMqZqBnDT6",
        "outputId": "962c8284-d1f9-4a06-bbc2-f436be55d457"
      },
      "execution_count": null,
      "outputs": [
        {
          "output_type": "stream",
          "name": "stdout",
          "text": [
            "    *\n",
            "   * *\n",
            "  *   *\n",
            " *     *\n",
            "*       *\n",
            " *     *\n",
            "  *   *\n",
            "   * *\n",
            "    *\n"
          ]
        }
      ]
    },
    {
      "cell_type": "code",
      "source": [
        "n = 5\n",
        "for a1 in range(1,n+1): #from row 1 to 5\n",
        "    for a2 in range(n-a1):\n",
        "        print(\" \", end = \"\")\n",
        "    for a3 in range((a1*2)-1):\n",
        "       print(\"*\", end= \"\")\n",
        "    print()\n",
        "\n",
        "for a1 in range(n + 1, n + 5): #from row 6 to 9\n",
        "    for a2 in range(a1 - n):\n",
        "        print(\" \", end = \"\")\n",
        "    for a3 in range((n+5 - a1)*2 - 1):\n",
        "        print(\"*\", end = \"\")\n",
        "    print()"
      ],
      "metadata": {
        "colab": {
          "base_uri": "https://localhost:8080/"
        },
        "id": "aB5xOSY8WV4x",
        "outputId": "950610f8-f5ce-483d-f11f-fde91ed2f7cc"
      },
      "execution_count": null,
      "outputs": [
        {
          "output_type": "stream",
          "name": "stdout",
          "text": [
            "    *\n",
            "   ***\n",
            "  *****\n",
            " *******\n",
            "*********\n",
            " *******\n",
            "  *****\n",
            "   ***\n",
            "    *\n"
          ]
        }
      ]
    },
    {
      "cell_type": "code",
      "source": [
        "#extraa one \n",
        "rows = 5\n",
        "i = 1\n",
        "while i <= rows:\n",
        "    j = rows\n",
        "    while j > i:\n",
        "        # display space\n",
        "        print(' ', end=' ')\n",
        "        j -= 1\n",
        "    print('*', end=' ')\n",
        "    k = 1\n",
        "    while k < 2 * (i - 1):\n",
        "        print('*', end=' ')\n",
        "        k += 1\n",
        "    if i == 1:\n",
        "        print()\n",
        "    else:\n",
        "        print('*')\n",
        "    i += 1\n",
        "\n",
        "i = rows - 1\n",
        "while i >= 1:\n",
        "    j = rows\n",
        "    while j > i:\n",
        "        print(' ', end=' ')\n",
        "        j -= 1\n",
        "    print('*', end=' ')\n",
        "    k = 0\n",
        "    while k <= 2 * (i - 2):\n",
        "        print('*', end=' ')\n",
        "        k += 1\n",
        "    if i == 1:\n",
        "        print()\n",
        "    else:\n",
        "        print('*')\n",
        "    i -= 1\n"
      ],
      "metadata": {
        "colab": {
          "base_uri": "https://localhost:8080/"
        },
        "id": "jqIagTAaH3cI",
        "outputId": "26946d65-d8b3-485a-804f-fe548c46c912"
      },
      "execution_count": null,
      "outputs": [
        {
          "output_type": "stream",
          "name": "stdout",
          "text": [
            "        * \n",
            "      * * *\n",
            "    * * * * *\n",
            "  * * * * * * *\n",
            "* * * * * * * * *\n",
            "  * * * * * * *\n",
            "    * * * * *\n",
            "      * * *\n",
            "        * \n"
          ]
        }
      ]
    },
    {
      "cell_type": "markdown",
      "source": [
        "26."
      ],
      "metadata": {
        "id": "3ghecyBqkeuL"
      }
    },
    {
      "cell_type": "code",
      "source": [
        "int(9/ 2)"
      ],
      "metadata": {
        "colab": {
          "base_uri": "https://localhost:8080/"
        },
        "id": "j0Uc6dS9mlop",
        "outputId": "b8f441fa-0920-422b-a130-3ec3185941a5"
      },
      "execution_count": null,
      "outputs": [
        {
          "output_type": "execute_result",
          "data": {
            "text/plain": [
              "4"
            ]
          },
          "metadata": {},
          "execution_count": 245
        }
      ]
    },
    {
      "cell_type": "code",
      "source": [
        "# Python3 program for printing the rectangular pattern\n",
        "\n",
        "\n",
        "n=5\n",
        "# number of rows and columns to be printed\n",
        "s = 2 * n - 1\n",
        "\n",
        "# Upper Half\n",
        "for i in range(0, int(s / 2) + 1):\n",
        "      \n",
        "    m = n\n",
        "\n",
        "    # Decreasing part\n",
        "    for j in range(0, i):\n",
        "        print(m ,end= \"\" )\n",
        "        m-=1\n",
        "      \n",
        "    # Constant Part\n",
        "    for k in range(0, s - 2 * i):\n",
        "        print(n-i ,end= \"\" )\n",
        "      \n",
        "    # Increasing part.\n",
        "    m = n - i + 1\n",
        "    for l in range(0, i):\n",
        "        print(m ,end= \"\" )\n",
        "        m+=1\n",
        "      \n",
        "    print(\"\")\n",
        "  \n",
        "# Lower Half\n",
        "for i in range(int(s / 2),-1,-1):\n",
        "\n",
        "    # Decreasing Part\n",
        "    m = n\n",
        "    for j in range(0, i):\n",
        "        print(m ,end= \"\" )\n",
        "        m-=1\n",
        "      \n",
        "\n",
        "    # Constant Part.\n",
        "    for k in range(0, s - 2 * i):\n",
        "        print(n-i ,end= \"\" )\n",
        "      \n",
        "\n",
        "    # Decreasing Part\n",
        "    m = n - i + 1\n",
        "    for l in range(0, i):\n",
        "        print(m ,end= \"\" )\n",
        "        m+=1\n",
        "      \n",
        "    print(\"\")\n"
      ],
      "metadata": {
        "colab": {
          "base_uri": "https://localhost:8080/"
        },
        "id": "pU_-kCx9keOB",
        "outputId": "dcc65067-5a54-402a-c1e4-400791cb70b8"
      },
      "execution_count": null,
      "outputs": [
        {
          "output_type": "stream",
          "name": "stdout",
          "text": [
            "555555555\n",
            "544444445\n",
            "543333345\n",
            "543222345\n",
            "543212345\n",
            "543212345\n",
            "543222345\n",
            "543333345\n",
            "544444445\n",
            "555555555\n"
          ]
        }
      ]
    },
    {
      "cell_type": "code",
      "source": [
        "# Function to print the pattern\n",
        "def printPattern(n):\n",
        " \n",
        "    arraySize = n * 2 - 1;\n",
        "    result = [[0 for x in range(arraySize)]\n",
        "                 for y in range(arraySize)];\n",
        "         \n",
        "    # Fill the values\n",
        "    for i in range(arraySize):\n",
        "        for j in range(arraySize):\n",
        "            if(abs(i - (arraySize // 2)) >\n",
        "               abs(j - (arraySize // 2))):\n",
        "                result[i][j] = abs(i - (arraySize // 2)) + 1;\n",
        "            else:\n",
        "                result[i][j] = abs(j - (arraySize // 2)) + 1;\n",
        "             \n",
        "    # Print the array\n",
        "    for i in range(arraySize):\n",
        "        for j in range(arraySize):\n",
        "            print(result[i][j], end = \"\");\n",
        "        print(\"\");\n",
        "printPattern(5)"
      ],
      "metadata": {
        "colab": {
          "base_uri": "https://localhost:8080/"
        },
        "id": "tI_4JyKHpddJ",
        "outputId": "5cf1b9ca-e782-404a-cb18-76df32aadc45"
      },
      "execution_count": null,
      "outputs": [
        {
          "output_type": "stream",
          "name": "stdout",
          "text": [
            "555555555\n",
            "544444445\n",
            "543333345\n",
            "543222345\n",
            "543212345\n",
            "543222345\n",
            "543333345\n",
            "544444445\n",
            "555555555\n"
          ]
        }
      ]
    },
    {
      "cell_type": "markdown",
      "source": [
        "27."
      ],
      "metadata": {
        "id": "FK_2RAudo3fN"
      }
    },
    {
      "cell_type": "code",
      "source": [
        "n=6\n",
        "m=1\n",
        "\n",
        "for i in range(1,n+1):\n",
        "  for j in range(m,m+n):\n",
        "    print(j,end=\" \")\n",
        "  print()\n",
        "  if i==((n+1)//2):\n",
        "    if (n%2)!=0:\n",
        "      m=n*(n-2)+1\n",
        "    else:\n",
        "      m=n*(n-1)+1\n",
        "  elif i>((n+1)//2):\n",
        "    m=m-2*n\n",
        "  else :\n",
        "    m=m+2*n"
      ],
      "metadata": {
        "colab": {
          "base_uri": "https://localhost:8080/"
        },
        "id": "FlzKowNg_Szq",
        "outputId": "967b1a9a-c50a-4302-81a6-d434641e4805"
      },
      "execution_count": null,
      "outputs": [
        {
          "output_type": "stream",
          "name": "stdout",
          "text": [
            "1 2 3 4 5 6 \n",
            "13 14 15 16 17 18 \n",
            "25 26 27 28 29 30 \n",
            "31 32 33 34 35 36 \n",
            "19 20 21 22 23 24 \n",
            "7 8 9 10 11 12 \n"
          ]
        }
      ]
    },
    {
      "cell_type": "code",
      "source": [
        "\n",
        "n=6\n",
        "m=0\n",
        "for i in range(1,n+1):\n",
        "  if(i==1):\n",
        "    m=0\n",
        "  elif(i==n):\n",
        "    m=n\n",
        "  #elif(i>(n/2)+1):\n",
        "  elif(i>(n/2)):\n",
        "    if(i>(n/2)+1):\n",
        "      m=m-n\n",
        "    else:\n",
        "      m=m+n\n",
        "    #r1+=n\n",
        "  else:\n",
        "    m=m+(2*n)\n",
        "  r2=m+n+1\n",
        "  r1=m+1\n",
        "  print(str(i)+\"**\"+str(m)+\"**\",end='')\n",
        "\n",
        "  for j in range(r1,r2):\n",
        "    if(i==1):\n",
        "      for k in range(1,n+1):\n",
        "        print(k,end=' ')\n",
        "      #m=10\n",
        "      break\n",
        "    else:\n",
        "      print(j,end=' ')\n",
        "  print(' ')\n",
        "  #print(int(n/2))\n",
        "\n",
        "# 123456\n",
        "# 131415161718\n",
        "# 252627282930\n",
        "# 313233343536\n",
        "# 192021222324\n",
        "# 789101112\n",
        "\n",
        "\n",
        "\n",
        "\n"
      ],
      "metadata": {
        "id": "tXsXQBHMo5cL",
        "colab": {
          "base_uri": "https://localhost:8080/"
        },
        "outputId": "38fe0252-8ca3-4420-b73f-f244ad868a7e"
      },
      "execution_count": null,
      "outputs": [
        {
          "output_type": "stream",
          "name": "stdout",
          "text": [
            "1**0**1 2 3 4 5 6  \n",
            "2**12**13 14 15 16 17 18  \n",
            "3**24**25 26 27 28 29 30  \n",
            "4**30**31 32 33 34 35 36  \n",
            "5**24**25 26 27 28 29 30  \n",
            "6**6**7 8 9 10 11 12  \n"
          ]
        }
      ]
    },
    {
      "cell_type": "code",
      "source": [
        "# 5\n",
        "\n",
        "# 1 2 3 4 5 \n",
        "# 11 12 13 14 15 \n",
        "# 21 22 23 24 25 \n",
        "# 16 17 18 19 20 \n",
        "# 6 7 8 9 10"
      ],
      "metadata": {
        "id": "tVB61pfetnBH"
      },
      "execution_count": null,
      "outputs": []
    },
    {
      "cell_type": "markdown",
      "source": [
        "28."
      ],
      "metadata": {
        "id": "IQyrL0ufsa3w"
      }
    },
    {
      "cell_type": "code",
      "source": [
        "n= 5\n",
        "for i in range(0,int(n/2)+1):\n",
        "  for a2 in range(i,0,-1):\n",
        "    print(\" \", end = \"\")\n",
        "  for j in range(0, i + 1):\n",
        "    if j>=0:\n",
        "      print(\"*\", end=' ')\n",
        "  print(\"\")\n",
        "\n",
        "for i in range(int(n/2)+1, 0, -1):\n",
        "    for a2 in range(i-1,1,-1):\n",
        "        print(\" \", end='')\n",
        "    for j in range(i,1,-1):\n",
        "      if j>=0:\n",
        "        print(\"*\", end=' ')\n",
        "    print(\"\")"
      ],
      "metadata": {
        "colab": {
          "base_uri": "https://localhost:8080/"
        },
        "id": "2BraCzBrupLl",
        "outputId": "7f006fd3-77fa-4fd2-ba34-710164cd308e"
      },
      "execution_count": null,
      "outputs": [
        {
          "output_type": "stream",
          "name": "stdout",
          "text": [
            "* \n",
            " * * \n",
            "  * * * \n",
            " * * \n",
            "* \n",
            "\n"
          ]
        }
      ]
    },
    {
      "cell_type": "markdown",
      "source": [
        "29. "
      ],
      "metadata": {
        "id": "kZW1_OLTCxKc"
      }
    },
    {
      "cell_type": "code",
      "source": [
        "n=5\n",
        "for i in range(1,n+1):\n",
        "  for j in range(n,0,-1):      \n",
        "      if i==j:\n",
        "        print('*',end=\"\")\n",
        "      else:\n",
        "        print(str(j),end=\"\")\n",
        "  print(\"\")"
      ],
      "metadata": {
        "colab": {
          "base_uri": "https://localhost:8080/"
        },
        "id": "elRvBGlKCzd7",
        "outputId": "1443c5cf-d08e-4047-eb80-71a8809aa58f"
      },
      "execution_count": null,
      "outputs": [
        {
          "output_type": "stream",
          "name": "stdout",
          "text": [
            "5432*\n",
            "543*1\n",
            "54*21\n",
            "5*321\n",
            "*4321\n"
          ]
        }
      ]
    },
    {
      "cell_type": "code",
      "source": [
        "n=4\n",
        "for i in range(n):\n",
        "  for j in range(9,0,-1):\n",
        "    if j%2!=0:\n",
        "      print('*',end=\"\")\n",
        "    else:\n",
        "      print(0,end=\"\")\n",
        "  print(\"\")"
      ],
      "metadata": {
        "id": "FBc8SAz5FmKd",
        "colab": {
          "base_uri": "https://localhost:8080/"
        },
        "outputId": "531527e3-3064-4399-cff0-8a7568c2138e"
      },
      "execution_count": null,
      "outputs": [
        {
          "output_type": "stream",
          "name": "stdout",
          "text": [
            "*0*0*0*0*\n",
            "*0*0*0*0*\n",
            "*0*0*0*0*\n",
            "*0*0*0*0*\n"
          ]
        }
      ]
    },
    {
      "cell_type": "markdown",
      "source": [
        "30."
      ],
      "metadata": {
        "id": "8Vwyi0Hzbv6X"
      }
    },
    {
      "cell_type": "code",
      "source": [
        "n=4\n",
        "for i in range(n+1,1,-1):\n",
        "  for j in range(n+1,0,-1):      \n",
        "      if i==j:\n",
        "        print('*',end=\"\")\n",
        "      elif j==1:\n",
        "        print('*',end=\"\")\n",
        "      else:\n",
        "        print(j*0,end=\"\")\n",
        "  # print(\"\")\n",
        "  for k in range(2,n+2):      \n",
        "      if i==k:\n",
        "        print('*',end=\"\")\n",
        "      else:\n",
        "        print(i*0,end=\"\")\n",
        "  print(\"\")\n"
      ],
      "metadata": {
        "colab": {
          "base_uri": "https://localhost:8080/"
        },
        "id": "Er_UhAwaFssA",
        "outputId": "e6f56f0b-a937-477a-e3fa-c75bc06a179b"
      },
      "execution_count": null,
      "outputs": [
        {
          "output_type": "stream",
          "name": "stdout",
          "text": [
            "*000*000*\n",
            "0*00*00*0\n",
            "00*0*0*00\n",
            "000***000\n"
          ]
        }
      ]
    },
    {
      "cell_type": "markdown",
      "source": [
        "31."
      ],
      "metadata": {
        "id": "NN1vS_kgX1uk"
      }
    },
    {
      "cell_type": "code",
      "source": [
        "rows = 5\n",
        "for i in range(rows, 0, -1):\n",
        "  for j in range(rows, i, -1):\n",
        "    print(' ',end=\"\")\n",
        "  for j in range(1, i + i):\n",
        "    print(\"*\", end=\"\")\n",
        "  print(\"\")\n",
        "\n",
        "for i in range(1,rows):\n",
        "  for j in range(rows-1,i,-1):\n",
        "    print(' ',end=\"\")\n",
        "  for k in range(i+i+2,1,-1):\n",
        "    print(\"*\",end=\"\")\n",
        "  print(\"\")"
      ],
      "metadata": {
        "colab": {
          "base_uri": "https://localhost:8080/"
        },
        "id": "dFNAffNNnEBu",
        "outputId": "d64da161-3e0a-402d-b07d-2e82cb437402"
      },
      "execution_count": null,
      "outputs": [
        {
          "output_type": "stream",
          "name": "stdout",
          "text": [
            "*********\n",
            " *******\n",
            "  *****\n",
            "   ***\n",
            "    *\n",
            "   ***\n",
            "  *****\n",
            " *******\n",
            "*********\n"
          ]
        }
      ]
    },
    {
      "cell_type": "markdown",
      "source": [
        "32."
      ],
      "metadata": {
        "id": "DaYlsSL4yBqk"
      }
    },
    {
      "cell_type": "code",
      "source": [
        "n=5\n",
        "for i in range(1,n):\n",
        "  for j in range(1,i+1):\n",
        "    if j==1 :\n",
        "      print(\"*\",end=\"\")\n",
        "    elif j==(i):\n",
        "      print(\"*\",end=\"\")\n",
        "    else :\n",
        "      print(\" \",end=\"\")\n",
        "  print(\"\")\n",
        "print(\"*\"*n,end=\"\")\n"
      ],
      "metadata": {
        "colab": {
          "base_uri": "https://localhost:8080/"
        },
        "id": "XKi5FbKDyAzj",
        "outputId": "923240f7-909b-401f-e5e9-0a06a55a2c70"
      },
      "execution_count": null,
      "outputs": [
        {
          "output_type": "stream",
          "name": "stdout",
          "text": [
            "*\n",
            "**\n",
            "* *\n",
            "*  *\n",
            "*****"
          ]
        }
      ]
    },
    {
      "cell_type": "markdown",
      "source": [
        "33."
      ],
      "metadata": {
        "id": "EOJW-NJuAV0M"
      }
    },
    {
      "cell_type": "code",
      "source": [
        "rows = 5\n",
        "i = 1\n",
        "while i <= rows:\n",
        "    j = i\n",
        "    while j < rows:\n",
        "        # display space\n",
        "        print(' ', end='')\n",
        "        j += 1\n",
        "    k = 1\n",
        "    while k <= i:\n",
        "        print('*', end='')\n",
        "        k += 1\n",
        "    print()\n",
        "    i += 1\n",
        "\n",
        "i = rows\n",
        "while i >= 1:\n",
        "    j = i\n",
        "    while j <= rows:\n",
        "        print(' ', end='')\n",
        "        j += 1\n",
        "    k = 1\n",
        "    while k < i:\n",
        "        print('*', end='')\n",
        "        k += 1\n",
        "    print('')\n",
        "    i -= 1"
      ],
      "metadata": {
        "colab": {
          "base_uri": "https://localhost:8080/"
        },
        "id": "pAqKWu0gAjeX",
        "outputId": "cb3af2b1-da95-405b-9a24-eb74c0afcee3"
      },
      "execution_count": null,
      "outputs": [
        {
          "output_type": "stream",
          "name": "stdout",
          "text": [
            "    *\n",
            "   **\n",
            "  ***\n",
            " ****\n",
            "*****\n",
            " ****\n",
            "  ***\n",
            "   **\n",
            "    *\n",
            "     \n"
          ]
        }
      ]
    },
    {
      "cell_type": "markdown",
      "source": [
        "34."
      ],
      "metadata": {
        "id": "gFVlvItFBhLE"
      }
    },
    {
      "cell_type": "code",
      "source": [
        "n=5\n",
        "for i in range(n,0,-1):\n",
        "  for j in range(1,n+1):\n",
        "    if j<i:\n",
        "      print(\" \",end=\"\")\n",
        "    else:\n",
        "      print(\"*\",end=\"\")\n",
        "  print(\"\")"
      ],
      "metadata": {
        "id": "-039T9stBie1",
        "colab": {
          "base_uri": "https://localhost:8080/"
        },
        "outputId": "83089ca0-f29d-483c-fef5-11bcc119a16f"
      },
      "execution_count": null,
      "outputs": [
        {
          "output_type": "stream",
          "name": "stdout",
          "text": [
            "    *\n",
            "   **\n",
            "  ***\n",
            " ****\n",
            "*****\n"
          ]
        }
      ]
    },
    {
      "cell_type": "markdown",
      "source": [
        "35."
      ],
      "metadata": {
        "id": "M2g5O4M-Tjr_"
      }
    },
    {
      "cell_type": "code",
      "source": [
        "n=5\n",
        "for i in range(n):\n",
        "  for j in range(i):\n",
        "    print(\" \",end=\"\")\n",
        "  for k in range(i+1,n+1):\n",
        "    print(k,end=\"\")\n",
        "  print(\"\")\n",
        "for i in range(n-1,0,-1):\n",
        "  for m in range(i-1):\n",
        "    print(\" \",end=\"\")\n",
        "  for l in range(i,n+1):\n",
        "    print(l,end=\"\")\n",
        "  print(\"\")  "
      ],
      "metadata": {
        "id": "MWISz75vTk3K",
        "colab": {
          "base_uri": "https://localhost:8080/"
        },
        "outputId": "ca5e0b8a-d726-4208-b44f-d3c808ffdaaa"
      },
      "execution_count": null,
      "outputs": [
        {
          "output_type": "stream",
          "name": "stdout",
          "text": [
            "12345\n",
            " 2345\n",
            "  345\n",
            "   45\n",
            "    5\n",
            "   45\n",
            "  345\n",
            " 2345\n",
            "12345\n"
          ]
        }
      ]
    },
    {
      "cell_type": "markdown",
      "source": [
        "36."
      ],
      "metadata": {
        "id": "07WYuw9jzMsh"
      }
    },
    {
      "cell_type": "code",
      "source": [
        "n=5\n",
        "k = 0\n",
        "count=0\n",
        "count1=0\n",
        "\n",
        "for i in range(1, n+1):\n",
        "    for space in range(1, (n-i)+1):\n",
        "        print(\" \", end=\"\")\n",
        "        count+=1\n",
        "    \n",
        "    while k!=((2*i)-1):\n",
        "        if count<=n-1:\n",
        "            print(i+k, end=\"\")\n",
        "            count+=1\n",
        "        else:\n",
        "            count1+=1\n",
        "            print(i+k-(2*count1), end=\"\")\n",
        "        k += 1\n",
        "    \n",
        "    count1 = count = k = 0\n",
        "    print()"
      ],
      "metadata": {
        "colab": {
          "base_uri": "https://localhost:8080/"
        },
        "id": "E3UiJqW-1gUJ",
        "outputId": "593817d0-e29c-479f-bdf9-3aa32ddb3a17"
      },
      "execution_count": null,
      "outputs": [
        {
          "output_type": "stream",
          "name": "stdout",
          "text": [
            "    1\n",
            "   232\n",
            "  34543\n",
            " 4567654\n",
            "567898765\n"
          ]
        }
      ]
    },
    {
      "cell_type": "markdown",
      "source": [
        "37."
      ],
      "metadata": {
        "id": "IE5flkD59mvS"
      }
    },
    {
      "cell_type": "code",
      "source": [
        "n=5\n",
        "k = 0\n",
        "count=0\n",
        "count1=0\n",
        "\n",
        "for i in range(1, n+1):\n",
        "    for space in range(1, (n-i)+1):\n",
        "        print(\" \", end=\"\")\n",
        "        count+=1\n",
        "    \n",
        "    while k!=((2*i)-1):\n",
        "        if count<=n-1:\n",
        "            print(i+k, end=\"\")\n",
        "            count+=1\n",
        "        # else:\n",
        "        #     count1+=1\n",
        "        #     print(i+k-(2*count1), end=\"\")\n",
        "        k += 1\n",
        "    \n",
        "    count1 = count = k = 0\n",
        "    print()"
      ],
      "metadata": {
        "colab": {
          "base_uri": "https://localhost:8080/"
        },
        "id": "28h9fT8x9oCr",
        "outputId": "f3b37b5c-2208-457c-d575-72b817e04f73"
      },
      "execution_count": null,
      "outputs": [
        {
          "output_type": "stream",
          "name": "stdout",
          "text": [
            "    1\n",
            "   23\n",
            "  345\n",
            " 4567\n",
            "56789\n"
          ]
        }
      ]
    },
    {
      "cell_type": "code",
      "source": [
        "n=5\n",
        "for i in range(n):\n",
        "    count = 0\n",
        "    for k in range(1,n-i):\n",
        "        print(end=\" \")\n",
        "    for j in range(i+1):\n",
        "        count = count + 1\n",
        "    num = count\n",
        "    for j in range(i+1):\n",
        "        print(num, end=\"\")\n",
        "        num = num - 1\n",
        "    for l in range(2,i+2):\n",
        "        print(l, end=\"\")\n",
        "    print()"
      ],
      "metadata": {
        "colab": {
          "base_uri": "https://localhost:8080/"
        },
        "id": "ok_uPi1X_NMM",
        "outputId": "16e566cd-5beb-4a8b-9883-336a56db9ab6"
      },
      "execution_count": null,
      "outputs": [
        {
          "output_type": "stream",
          "name": "stdout",
          "text": [
            "    1\n",
            "   212\n",
            "  32123\n",
            " 4321234\n",
            "543212345\n"
          ]
        }
      ]
    },
    {
      "cell_type": "markdown",
      "source": [
        "38."
      ],
      "metadata": {
        "id": "ahZdP1kJLLwP"
      }
    },
    {
      "cell_type": "code",
      "source": [
        "n=5\n",
        "for i in range(n):\n",
        "    for k in range(1,n-i):\n",
        "        print(end=\" \")\n",
        "    for j in range(1,i+2):\n",
        "        print(j, end=\"\")\n",
        "    for l in range(i,0,-1):\n",
        "        print(l, end=\"\")\n",
        "    print()"
      ],
      "metadata": {
        "colab": {
          "base_uri": "https://localhost:8080/"
        },
        "id": "aJ5bndLpLNux",
        "outputId": "595c9c0b-aad5-4386-f40a-c2624d8a0da1"
      },
      "execution_count": null,
      "outputs": [
        {
          "output_type": "stream",
          "name": "stdout",
          "text": [
            "    1\n",
            "   121\n",
            "  12321\n",
            " 1234321\n",
            "123454321\n"
          ]
        }
      ]
    },
    {
      "cell_type": "markdown",
      "source": [
        "39."
      ],
      "metadata": {
        "id": "FPJCyQTQNd3l"
      }
    },
    {
      "cell_type": "code",
      "source": [
        "n=5\n",
        "for i in range(n):\n",
        "    for k in range(1,n-i):\n",
        "        print(end=\" \")\n",
        "    for j in range(1,i+2):\n",
        "        print(\"*\", end=\"\")\n",
        "    for l in range(i,0,-1):\n",
        "        print(\"*\", end=\"\")\n",
        "    print()"
      ],
      "metadata": {
        "colab": {
          "base_uri": "https://localhost:8080/"
        },
        "id": "adYl4BcLNfOx",
        "outputId": "94bac223-970e-4170-8eba-0195c8c0c3ef"
      },
      "execution_count": null,
      "outputs": [
        {
          "output_type": "stream",
          "name": "stdout",
          "text": [
            "    *\n",
            "   ***\n",
            "  *****\n",
            " *******\n",
            "*********\n"
          ]
        }
      ]
    },
    {
      "cell_type": "markdown",
      "source": [
        "40."
      ],
      "metadata": {
        "id": "iAE6qx01N8wk"
      }
    },
    {
      "cell_type": "code",
      "source": [
        "n=7\n",
        "\n",
        "\n",
        "for i in range(n-1):\n",
        "    for k in range(1,n-i):\n",
        "        print(end=\" \")\n",
        "    for j in range(i,i+1):\n",
        "        print(\"*\", end=\"\")\n",
        "    for k in range(1,i+1):\n",
        "        print(\" \",end=\"\")\n",
        "    \n",
        "\n",
        "    for k in range(1,i):\n",
        "        print(\" \",end=\"\")\n",
        "    for l in range(i-1,i):\n",
        "      if i!=0:\n",
        "        print(\"*\", end=\"\")\n",
        "    print(\"\")\n",
        "print(\"*\"*((n*2)-1))"
      ],
      "metadata": {
        "colab": {
          "base_uri": "https://localhost:8080/"
        },
        "id": "aRKBU2XpN9-F",
        "outputId": "c6972115-8ff9-432b-cf63-bd835c34c5ce"
      },
      "execution_count": null,
      "outputs": [
        {
          "output_type": "stream",
          "name": "stdout",
          "text": [
            "      *\n",
            "     * *\n",
            "    *   *\n",
            "   *     *\n",
            "  *       *\n",
            " *         *\n",
            "*************\n"
          ]
        }
      ]
    },
    {
      "cell_type": "markdown",
      "source": [
        "41."
      ],
      "metadata": {
        "id": "beMyqwl7aHFX"
      }
    },
    {
      "cell_type": "code",
      "source": [
        "n=5\n",
        "for i in range(n):\n",
        "  for j in range(i):\n",
        "    print(\" \",end=\"\")\n",
        "  for k in range(n,i,-1):\n",
        "    print(\"*\",end=\"\")\n",
        "  for k in range(n-1,i,-1):\n",
        "    print(\"*\",end=\"\")\n",
        "  print(\"\")"
      ],
      "metadata": {
        "colab": {
          "base_uri": "https://localhost:8080/"
        },
        "id": "74hp_pzMZHIa",
        "outputId": "a21983f1-8b1c-4857-f60f-bb9bf1a55c7b"
      },
      "execution_count": null,
      "outputs": [
        {
          "output_type": "stream",
          "name": "stdout",
          "text": [
            "*********\n",
            " *******\n",
            "  *****\n",
            "   ***\n",
            "    *\n"
          ]
        }
      ]
    },
    {
      "cell_type": "markdown",
      "source": [
        "42."
      ],
      "metadata": {
        "id": "0gnVMBjTbmY1"
      }
    },
    {
      "cell_type": "code",
      "source": [
        "n=5\n",
        "for i in range(n,1,-1):\n",
        "  for j in range(i-1):\n",
        "    print(\" \",end=\"\")\n",
        "  for k in range(n+1,i,-1):\n",
        "    print(\"*\",end=\"\")\n",
        "  for k in range(n,i,-1):\n",
        "    print(\"*\",end=\"\")\n",
        "  print(\"\")\n",
        "\n",
        "for i in range(0,n):\n",
        "  for j in range(i):\n",
        "    print(\" \",end=\"\")\n",
        "  for k in range(n,i,-1):\n",
        "    print(\"*\",end=\"\")\n",
        "  for k in range(n-1,i,-1):\n",
        "    print(\"*\",end=\"\")\n",
        "  print(\"\")"
      ],
      "metadata": {
        "colab": {
          "base_uri": "https://localhost:8080/"
        },
        "id": "f4lWy00Bbl1M",
        "outputId": "da9e691b-d5eb-47de-91d2-1d1299b12592"
      },
      "execution_count": null,
      "outputs": [
        {
          "output_type": "stream",
          "name": "stdout",
          "text": [
            "    *\n",
            "   ***\n",
            "  *****\n",
            " *******\n",
            "*********\n",
            " *******\n",
            "  *****\n",
            "   ***\n",
            "    *\n"
          ]
        }
      ]
    },
    {
      "cell_type": "markdown",
      "source": [
        "43."
      ],
      "metadata": {
        "id": "W9LcwPZudqrF"
      }
    },
    {
      "cell_type": "code",
      "source": [
        "n=5\n",
        "for i in range(1,n+1):\n",
        "  for j in range(n,i,-1):\n",
        "    print(\"\",end=\"\")\n",
        "  for k in range(1,(2*i)):\n",
        "    print(k,end=\"\")\n",
        "  print(\"\")\n",
        "\n",
        "for i in range(n-1,0,-1):\n",
        "  for j in range(n,i,-1):\n",
        "    print(\"\",end=\"\")\n",
        "  for k in range(1,i*2):\n",
        "    print(k,end=\"\")\n",
        "  print(\"\")   \n",
        "  # passed test cases wwithout space of these diomand  questions"
      ],
      "metadata": {
        "colab": {
          "base_uri": "https://localhost:8080/"
        },
        "id": "0xlT9L2Jdr4r",
        "outputId": "1c4b86c4-6282-49e6-90c5-50fdd4ee0830"
      },
      "execution_count": null,
      "outputs": [
        {
          "output_type": "stream",
          "name": "stdout",
          "text": [
            "1\n",
            "123\n",
            "12345\n",
            "1234567\n",
            "123456789\n",
            "1234567\n",
            "12345\n",
            "123\n",
            "1\n"
          ]
        }
      ]
    },
    {
      "cell_type": "code",
      "source": [
        "n=5\n",
        "for i in range(1,n+1):\n",
        "  for j in range(1,n-i+1):\n",
        "    print(end=' ')\n",
        "  for k in range(1,(2*i)):\n",
        "    print(k,end=\"\")\n",
        "  print()\n",
        "\n",
        "for i in range(n-1,0,-1):\n",
        "  for j in range(1,(n-i+1)):\n",
        "    print(end=' ')\n",
        "  for k in range(1,(2*i)):\n",
        "    print(k,end=\"\")\n",
        "  print()"
      ],
      "metadata": {
        "colab": {
          "base_uri": "https://localhost:8080/"
        },
        "id": "RbJiOcsLhlTx",
        "outputId": "b4847c75-2ecf-4d6e-fa82-3461e6483a57"
      },
      "execution_count": null,
      "outputs": [
        {
          "output_type": "stream",
          "name": "stdout",
          "text": [
            "    1\n",
            "   123\n",
            "  12345\n",
            " 1234567\n",
            "123456789\n",
            " 1234567\n",
            "  12345\n",
            "   123\n",
            "    1\n"
          ]
        }
      ]
    },
    {
      "cell_type": "code",
      "source": [
        "5\n",
        "\n",
        "    1\n",
        "   123\n",
        "  12345\n",
        " 1234567\n",
        "123456789\n",
        " 1234567\n",
        "  12345\n",
        "   123\n",
        "    1"
      ],
      "metadata": {
        "id": "XLzN-JA307jE"
      },
      "execution_count": null,
      "outputs": []
    },
    {
      "cell_type": "markdown",
      "source": [
        "44."
      ],
      "metadata": {
        "id": "jZIhAwvfm6tT"
      }
    },
    {
      "cell_type": "code",
      "source": [
        "n=5\n",
        "for i in range(1,n+1):\n",
        "  for j in range(1,i+1):\n",
        "    print(j,end=\"\")\n",
        "  for k in range(n,i,-1):\n",
        "    print(\" \",end=\"\")\n",
        "  for k in range(n,i,-1):\n",
        "    print(\" \",end=\"\")\n",
        "  for j in range(i,0,-1):\n",
        "    print(j,end=\"\")\n",
        "  print()"
      ],
      "metadata": {
        "colab": {
          "base_uri": "https://localhost:8080/"
        },
        "id": "pTkECqvDnbPe",
        "outputId": "5e3139db-a54d-44ea-acfc-a69a33a45239"
      },
      "execution_count": null,
      "outputs": [
        {
          "output_type": "stream",
          "name": "stdout",
          "text": [
            "1        1\n",
            "12      21\n",
            "123    321\n",
            "1234  4321\n",
            "1234554321\n"
          ]
        }
      ]
    },
    {
      "cell_type": "markdown",
      "source": [
        "45."
      ],
      "metadata": {
        "id": "7dRbxq6gqQxl"
      }
    },
    {
      "cell_type": "code",
      "source": [
        "trr"
      ],
      "metadata": {
        "colab": {
          "base_uri": "https://localhost:8080/",
          "height": 35
        },
        "id": "iejdhpqbs_-c",
        "outputId": "4ee69527-6e0a-4e9b-9e64-7db72c24e6cc"
      },
      "execution_count": null,
      "outputs": [
        {
          "output_type": "execute_result",
          "data": {
            "text/plain": [
              "'ABCDEFGHIKLMNOPQRSTUVWXYZ'"
            ],
            "application/vnd.google.colaboratory.intrinsic+json": {
              "type": "string"
            }
          },
          "metadata": {},
          "execution_count": 270
        }
      ]
    },
    {
      "cell_type": "code",
      "source": [
        "n=5\n",
        "trr='ABCDEFGHIKLMNOPQRSTUVWXYZ'\n",
        "for i in range(1,n+1):\n",
        "  for j in range(n+1,i,-1):\n",
        "    print(\" \",end=\"\")\n",
        "  print(trr[0:(i*2)-1])"
      ],
      "metadata": {
        "colab": {
          "base_uri": "https://localhost:8080/"
        },
        "id": "5buNnLFHqVI-",
        "outputId": "fe868d1a-41c0-4d72-a20b-b19126090e93"
      },
      "execution_count": null,
      "outputs": [
        {
          "output_type": "stream",
          "name": "stdout",
          "text": [
            "     A\n",
            "    ABC\n",
            "   ABCDE\n",
            "  ABCDEFG\n",
            " ABCDEFGHI\n"
          ]
        }
      ]
    },
    {
      "cell_type": "markdown",
      "source": [
        "46."
      ],
      "metadata": {
        "id": "1nIfyHy0x7W6"
      }
    },
    {
      "cell_type": "code",
      "source": [
        "num=n\n",
        "for i in range(0,num):\n",
        "  if i==0 or i==num-1:\n",
        "    print(\" \"*(num-i-1)+\"*\"*(i*2+1))\n",
        "  else:\n",
        "    print(\" \"*(num-i-1)+\"*\"+\" \"*(i*2+1-2)+\"*\")"
      ],
      "metadata": {
        "colab": {
          "base_uri": "https://localhost:8080/"
        },
        "id": "OgdID7-zJIAc",
        "outputId": "dffdfdd7-fbdf-4d94-da9c-e879e33faac3"
      },
      "execution_count": null,
      "outputs": [
        {
          "output_type": "stream",
          "name": "stdout",
          "text": [
            "    *\n",
            "   * *\n",
            "  *   *\n",
            " *     *\n",
            "*********\n"
          ]
        }
      ]
    },
    {
      "cell_type": "code",
      "source": [
        "n=5\n",
        "for i in range(0,n):\n",
        "  for j in range(i,n):\n",
        "    print(\" \",end=\"\")\n",
        "  for k in range(i,i+1):\n",
        "    print(trr[k:i+2],end=\"\")\n",
        "  # for k in range(i,i+1):\n",
        "  #   print(trr[i+i],end=\"\")\n",
        "  print()"
      ],
      "metadata": {
        "colab": {
          "base_uri": "https://localhost:8080/"
        },
        "id": "_P20-09jx-fs",
        "outputId": "a0684728-74b6-4897-dc59-456d51fc5a39"
      },
      "execution_count": null,
      "outputs": [
        {
          "output_type": "stream",
          "name": "stdout",
          "text": [
            "     AB\n",
            "    BC\n",
            "   CD\n",
            "  DE\n",
            " EF\n"
          ]
        }
      ]
    },
    {
      "cell_type": "code",
      "source": [
        "n = 5\n",
        "alpha = 65\n",
        "num = 0\n",
        "\n",
        "for i in range(n):\n",
        "    for j in range(n - i - 1):\n",
        "        print(\" \", end=\"\")\n",
        "    for k in range(2 * i + 1):\n",
        "        if i == 0 or i == n - 1:\n",
        "            print(chr(alpha + num), end=\"\")\n",
        "            num += 1\n",
        "        else:\n",
        "            if k == 0 or k == 2 * i:\n",
        "                print(chr(alpha + num), end=\"\")\n",
        "                num += 1\n",
        "            else:\n",
        "                print(\" \", end=\"\")\n",
        "    print()"
      ],
      "metadata": {
        "colab": {
          "base_uri": "https://localhost:8080/"
        },
        "id": "lsCWHnpBm_Ez",
        "outputId": "60c88245-13c2-4713-8c2f-fa8ae98aea66"
      },
      "execution_count": null,
      "outputs": [
        {
          "output_type": "stream",
          "name": "stdout",
          "text": [
            "    A\n",
            "   B C\n",
            "  D   E\n",
            " F     G\n",
            "HIJKLMNOP\n"
          ]
        }
      ]
    },
    {
      "cell_type": "code",
      "source": [
        "# 5\n",
        "\n",
        "#     A\n",
        "#    B C\n",
        "#   D   E\n",
        "#  F     G\n",
        "# HIJKLMNOP"
      ],
      "metadata": {
        "id": "XNY-7L-asjOK",
        "colab": {
          "base_uri": "https://localhost:8080/",
          "height": 135
        },
        "outputId": "08223c6a-de2d-4179-fc36-40811d9a70a2"
      },
      "execution_count": null,
      "outputs": [
        {
          "output_type": "error",
          "ename": "IndentationError",
          "evalue": "ignored",
          "traceback": [
            "\u001b[0;36m  File \u001b[0;32m\"<tokenize>\"\u001b[0;36m, line \u001b[0;32m4\u001b[0m\n\u001b[0;31m    232\u001b[0m\n\u001b[0m    ^\u001b[0m\n\u001b[0;31mIndentationError\u001b[0m\u001b[0;31m:\u001b[0m unindent does not match any outer indentation level\n"
          ]
        }
      ]
    },
    {
      "cell_type": "markdown",
      "source": [
        "47."
      ],
      "metadata": {
        "id": "M3T0xBGFQaw_"
      }
    },
    {
      "cell_type": "code",
      "source": [
        "n = 5\n",
        "for a1 in range(1,n+1): #from row 1 to 5\n",
        "    for a2 in range(n-a1):\n",
        "        print(\" \", end = \"\")\n",
        "    for a3 in range((a1*2)-1):\n",
        "      if a3==0:\n",
        "        print(\"1\",end=\"\")\n",
        "      elif a3== ((a1*2)-2):\n",
        "        print(\"2\",end=\"\")\n",
        "      else:\n",
        "        print(\" \", end = \"\")\n",
        "    print()\n",
        "\n",
        "for a1 in range(n + 1, n + 5): #from row 6 to 9\n",
        "    for a2 in range(a1 - n):\n",
        "        print(\" \", end = \"\")\n",
        "    for a3 in range((n+5 - a1)*2 - 1):\n",
        "      if a3==0:\n",
        "        print(\"1\", end = \"\")\n",
        "      elif a3==((n+5 - a1)*2 - 2):\n",
        "        print(\"2\",end=\"\")\n",
        "      else:\n",
        "        print(\" \", end = \"\")\n",
        "\n",
        "    print()"
      ],
      "metadata": {
        "colab": {
          "base_uri": "https://localhost:8080/"
        },
        "id": "X-0uWZxlToBK",
        "outputId": "3abf6dda-82ff-475b-abef-30aff9542baf"
      },
      "execution_count": null,
      "outputs": [
        {
          "output_type": "stream",
          "name": "stdout",
          "text": [
            "    1\n",
            "   1 2\n",
            "  1   2\n",
            " 1     2\n",
            "1       2\n",
            " 1     2\n",
            "  1   2\n",
            "   1 2\n",
            "    1\n"
          ]
        }
      ]
    },
    {
      "cell_type": "markdown",
      "source": [
        "48."
      ],
      "metadata": {
        "id": "bgKvr3MEU_-Z"
      }
    },
    {
      "cell_type": "code",
      "source": [
        "n=5\n",
        "for i in range(1,n+1):\n",
        "    for j in range(1,n+1):\n",
        "        if i==j or i+j==n+1:\n",
        "            print('*', end='')\n",
        "        else:\n",
        "            print(' ', end='')\n",
        "    print()\n"
      ],
      "metadata": {
        "colab": {
          "base_uri": "https://localhost:8080/"
        },
        "id": "XusT-2Pzbmsd",
        "outputId": "564d85d7-f1e5-4649-aedd-3f9255086be0"
      },
      "execution_count": null,
      "outputs": [
        {
          "output_type": "stream",
          "name": "stdout",
          "text": [
            "*   *\n",
            " * * \n",
            "  *  \n",
            " * * \n",
            "*   *\n"
          ]
        }
      ]
    },
    {
      "cell_type": "markdown",
      "source": [
        "49."
      ],
      "metadata": {
        "id": "kooA2LxHcIFj"
      }
    },
    {
      "cell_type": "code",
      "source": [
        "n=6\n",
        "for i in range(1,n):\n",
        "  for m in range(i,n//2-1):\n",
        "    print(\"S\",end=\"\")\n",
        "  for n in range(i,n//2+1):\n",
        "    print(\"*\",end=\"\")\n",
        "  for o in range(i,n//2):\n",
        "    print(\"S\",end=\"\")\n",
        "\n",
        "\n",
        "  # for l in range(1):\n",
        "  #   print(\"S\",end=\"\")\n",
        "# for i in range(0,n):\n",
        "#   for k in range(1,i+1):  #last  line\n",
        "#     print(\" \",end=\"\")\n",
        "#   for j in range(n*2,i+i+1,-1):\n",
        "#     print(\"*\",end=\"\")\n",
        "  print() "
      ],
      "metadata": {
        "colab": {
          "base_uri": "https://localhost:8080/"
        },
        "id": "jQ0D7m_WcHfY",
        "outputId": "59555d4b-f4cd-499c-cc34-cdff67dc204a"
      },
      "execution_count": null,
      "outputs": [
        {
          "output_type": "stream",
          "name": "stdout",
          "text": [
            "S***\n",
            "\n",
            "\n",
            "\n",
            "\n"
          ]
        }
      ]
    },
    {
      "cell_type": "code",
      "source": [
        "# heart pattern \n",
        "n = 6\n",
        "\n",
        "# upper part of the heart\n",
        "for i in range(n//2, n, 2):\n",
        "    # print first spaces\n",
        "    for j in range(1, n-i ,2):\n",
        "        print(\" \", end=\"\")\n",
        "    # print first stars\n",
        "    for j in range(1, i+1, 1):\n",
        "        print(\"*\", end=\"\")\n",
        "    # print second spaces\n",
        "    for j in range(1, n-i+1, 1):\n",
        "        print(\" \", end=\"\")\n",
        "    # print second stars\n",
        "    for j in range(1, i+1, 1):\n",
        "        print(\"*\", end=\"\")\n",
        "    print()\n",
        "\n",
        "# lower part\n",
        "for i in range(n,0,-1):\n",
        "    for j in range(i, n, 1):\n",
        "        print(\" \", end=\"\")\n",
        "    for j in range(1, i*2, 1):\n",
        "        print(\"*\", end=\"\")\n",
        "    print()\n"
      ],
      "metadata": {
        "colab": {
          "base_uri": "https://localhost:8080/"
        },
        "id": "uFTsoYXQiEBK",
        "outputId": "5c412368-d8e3-4f3c-e204-d6562470063e"
      },
      "execution_count": null,
      "outputs": [
        {
          "output_type": "stream",
          "name": "stdout",
          "text": [
            " ***   ***\n",
            "***** *****\n",
            "***********\n",
            " *********\n",
            "  *******\n",
            "   *****\n",
            "    ***\n",
            "     *\n"
          ]
        }
      ]
    },
    {
      "cell_type": "markdown",
      "source": [
        "50."
      ],
      "metadata": {
        "id": "P0UWBzAzmgXZ"
      }
    },
    {
      "cell_type": "code",
      "source": [
        "#correct one for test cases\n",
        "m,n=3,3\n",
        "l=[]\n",
        "for i in range(m):\n",
        "  temp=[int(j) for j in input().split()]\n",
        "  l.append(temp)\n",
        "for j in range(m):\n",
        "  for k in range(m-j):\n",
        "    print(*l[j])"
      ],
      "metadata": {
        "colab": {
          "base_uri": "https://localhost:8080/"
        },
        "id": "oOr_pDOL-L05",
        "outputId": "7132a4f7-27bc-4048-f3c4-738bd833684a"
      },
      "execution_count": null,
      "outputs": [
        {
          "output_type": "stream",
          "name": "stdout",
          "text": [
            "123\n",
            "456\n",
            "789\n",
            "123\n",
            "123\n",
            "123\n",
            "456\n",
            "456\n",
            "789\n"
          ]
        }
      ]
    },
    {
      "cell_type": "code",
      "source": [
        "arr1 = [[1, 2, 3], [4, 5, 6],[7, 8, 9]]\n",
        "print(arr1)"
      ],
      "metadata": {
        "colab": {
          "base_uri": "https://localhost:8080/"
        },
        "id": "quv1_inqmhma",
        "outputId": "7d18e644-6aa5-49b7-f69a-6f62bd5947ca"
      },
      "execution_count": null,
      "outputs": [
        {
          "output_type": "stream",
          "name": "stdout",
          "text": [
            "[[1, 2, 3], [4, 5, 6], [7, 8, 9]]\n"
          ]
        }
      ]
    },
    {
      "cell_type": "code",
      "source": [
        "r=3\n",
        "c=3\n",
        "arr1 = [[1, 2, 3], [4, 5, 6],[7, 8, 9]]\n",
        "arrray=[]\n",
        "\n",
        "for i in range(0,r):\n",
        "  for k in range(c-1,i-1,-1):\n",
        "    arrray.append(arr1[i])\n",
        "for rows in arrray:\n",
        "  for columns in rows:\n",
        "    print(columns,end=\" \")\n",
        "  print()"
      ],
      "metadata": {
        "colab": {
          "base_uri": "https://localhost:8080/"
        },
        "id": "4GQ_T6qivG1U",
        "outputId": "df419290-4b0f-4ef3-f36a-2cc14db5cb1f"
      },
      "execution_count": null,
      "outputs": [
        {
          "output_type": "stream",
          "name": "stdout",
          "text": [
            "1 2 3 \n",
            "1 2 3 \n",
            "1 2 3 \n",
            "4 5 6 \n",
            "4 5 6 \n",
            "7 8 9 \n"
          ]
        }
      ]
    },
    {
      "cell_type": "code",
      "source": [
        "arr1 = [[1, 2, 3], [4, 5, 6],[7, 8, 9]]\n",
        "\n",
        "r=3\n",
        "c=3\n",
        "arr2=[]\n",
        "for i in range(r,0,-1):\n",
        "  for j in range(i,0,-1):\n",
        "    arr2.append(arr1[j-1])\n",
        "arr2.sort()\n",
        "for rows in arr2:\n",
        "  for columns in rows:\n",
        "    print(columns,end=\" \")\n",
        "  print()"
      ],
      "metadata": {
        "colab": {
          "base_uri": "https://localhost:8080/"
        },
        "id": "lfSeNAjspqMb",
        "outputId": "0cc1b006-b663-424d-8b96-424856092dd8"
      },
      "execution_count": null,
      "outputs": [
        {
          "output_type": "stream",
          "name": "stdout",
          "text": [
            "1 2 3 \n",
            "1 2 3 \n",
            "1 2 3 \n",
            "4 5 6 \n",
            "4 5 6 \n",
            "7 8 9 \n"
          ]
        }
      ]
    },
    {
      "cell_type": "code",
      "source": [
        ""
      ],
      "metadata": {
        "id": "KqLqxy4asjFH"
      },
      "execution_count": null,
      "outputs": []
    },
    {
      "cell_type": "code",
      "source": [
        ""
      ],
      "metadata": {
        "id": "5L8qBFBrsjB8"
      },
      "execution_count": null,
      "outputs": []
    },
    {
      "cell_type": "code",
      "source": [
        ""
      ],
      "metadata": {
        "id": "3Piomy66si-t"
      },
      "execution_count": null,
      "outputs": []
    },
    {
      "cell_type": "code",
      "source": [
        ""
      ],
      "metadata": {
        "id": "p_IeuwnHsi6E"
      },
      "execution_count": null,
      "outputs": []
    },
    {
      "cell_type": "markdown",
      "source": [
        "Others:"
      ],
      "metadata": {
        "id": "A-Xrq63rMY2i"
      }
    },
    {
      "cell_type": "code",
      "execution_count": null,
      "metadata": {
        "id": "dSN-zcrD9Ze7"
      },
      "outputs": [],
      "source": [
        "x = 0\n",
        "while x < 5:\n",
        "  print('x is currently: ',x)\n",
        "  print(' x is still less than 10, adding 1 to x')\n",
        "  x+=1\n",
        "print(\"All done\")\n",
        "print(\"I am done with the iterations\")"
      ]
    },
    {
      "cell_type": "code",
      "execution_count": null,
      "metadata": {
        "id": "AEysfVA62myB"
      },
      "outputs": [],
      "source": [
        ""
      ]
    },
    {
      "cell_type": "code",
      "source": [
        "ar=[3,4,1,2,0]"
      ],
      "metadata": {
        "id": "zL3YjwdYTU4i"
      },
      "execution_count": null,
      "outputs": []
    }
  ],
  "metadata": {
    "colab": {
      "name": "50 Questions of Python Basics for IDE.ipynb",
      "provenance": [],
      "collapsed_sections": [],
      "authorship_tag": "ABX9TyOknbaRQqW/IaSteF058nki"
    },
    "kernelspec": {
      "display_name": "Python 3",
      "name": "python3"
    },
    "language_info": {
      "name": "python"
    }
  },
  "nbformat": 4,
  "nbformat_minor": 0
}