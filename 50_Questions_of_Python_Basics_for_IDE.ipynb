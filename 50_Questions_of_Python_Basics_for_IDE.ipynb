{
  "cells": [
    {
      "cell_type": "markdown",
      "source": [
        "5."
      ],
      "metadata": {
        "id": "oRCStolmtGFb"
      }
    },
    {
      "cell_type": "code",
      "execution_count": null,
      "metadata": {
        "id": "Yk2K68SBrKxa"
      },
      "outputs": [],
      "source": [
        "trr='ABCDEFGHIKLMNOPQRSTUVWXYZ'\n",
        "n=4"
      ]
    },
    {
      "cell_type": "code",
      "execution_count": null,
      "metadata": {
        "colab": {
          "base_uri": "https://localhost:8080/"
        },
        "id": "6OTvJcjxzZYS",
        "outputId": "306161d0-9615-461e-ce4b-0d189a82097b"
      },
      "outputs": [
        {
          "output_type": "stream",
          "name": "stdout",
          "text": [
            "A\n",
            "AB\n",
            "ABC\n",
            "ABCD\n"
          ]
        }
      ],
      "source": [
        "a=0\n",
        "b=1\n",
        "\n",
        "while b<=4:\n",
        "  tr=trr[a:b]\n",
        "  b+=1\n",
        "  print(tr)\n",
        "\n"
      ]
    },
    {
      "cell_type": "code",
      "source": [
        "for i in range(5):\n",
        "  print(trr[:i])"
      ],
      "metadata": {
        "colab": {
          "base_uri": "https://localhost:8080/"
        },
        "id": "PjLJP-inv-w2",
        "outputId": "5ac80f37-cc40-487e-fe29-4e3f0eb44cb0"
      },
      "execution_count": null,
      "outputs": [
        {
          "output_type": "stream",
          "name": "stdout",
          "text": [
            "\n",
            "A\n",
            "AB\n",
            "ABC\n",
            "ABCD\n"
          ]
        }
      ]
    },
    {
      "cell_type": "markdown",
      "source": [
        "5.1"
      ],
      "metadata": {
        "id": "TMb3f761tT9O"
      }
    },
    {
      "cell_type": "code",
      "source": [
        "for i in range(65,70):\n",
        "  for j in range(65,i+1):\n",
        "    print(chr(i),end=\"\")\n",
        "    i=i+1\n",
        "  print()"
      ],
      "metadata": {
        "colab": {
          "base_uri": "https://localhost:8080/"
        },
        "id": "tTkjR18TtR_S",
        "outputId": "8e4f82fe-9e1d-42e7-c33e-370b06c5b508"
      },
      "execution_count": null,
      "outputs": [
        {
          "output_type": "stream",
          "name": "stdout",
          "text": [
            "A\n",
            "BC\n",
            "CDE\n",
            "DEFG\n",
            "EFGHI\n"
          ]
        }
      ]
    },
    {
      "cell_type": "code",
      "source": [
        "for i in range(0,n):\n",
        "  for j in range(0,i+1):\n",
        "    print(trr[i],end=\"\")\n",
        "    i=i+1\n",
        "  print()"
      ],
      "metadata": {
        "colab": {
          "base_uri": "https://localhost:8080/"
        },
        "id": "yxpM6N2CtnHG",
        "outputId": "818d269e-0c13-4671-81fe-7f6db05144ad"
      },
      "execution_count": null,
      "outputs": [
        {
          "output_type": "stream",
          "name": "stdout",
          "text": [
            "A\n",
            "BC\n",
            "CDE\n",
            "DEFG\n"
          ]
        }
      ]
    },
    {
      "cell_type": "markdown",
      "source": [
        "6."
      ],
      "metadata": {
        "id": "Z8U_rTuDuVel"
      }
    },
    {
      "cell_type": "code",
      "source": [
        "trr"
      ],
      "metadata": {
        "colab": {
          "base_uri": "https://localhost:8080/",
          "height": 36
        },
        "id": "jROBRPk5u6hy",
        "outputId": "f9b5b4ac-1593-4deb-b786-9ce7e2d299cc"
      },
      "execution_count": null,
      "outputs": [
        {
          "output_type": "execute_result",
          "data": {
            "text/plain": [
              "'ABCDEFGHIKLMNOPQRSTUVWXYZ'"
            ],
            "application/vnd.google.colaboratory.intrinsic+json": {
              "type": "string"
            }
          },
          "metadata": {},
          "execution_count": 6
        }
      ]
    },
    {
      "cell_type": "code",
      "source": [
        "N=4"
      ],
      "metadata": {
        "id": "IJMsEypM7nWL"
      },
      "execution_count": null,
      "outputs": []
    },
    {
      "cell_type": "code",
      "source": [
        "bb=list(range(N))"
      ],
      "metadata": {
        "id": "R_1gPiUF5dlA"
      },
      "execution_count": null,
      "outputs": []
    },
    {
      "cell_type": "code",
      "source": [
        "bb.reverse()"
      ],
      "metadata": {
        "id": "ZiHvwoBt5tBV"
      },
      "execution_count": null,
      "outputs": []
    },
    {
      "cell_type": "code",
      "source": [
        "for i in bb:\n",
        "  print(trr[i:N])"
      ],
      "metadata": {
        "colab": {
          "base_uri": "https://localhost:8080/"
        },
        "id": "RxgIWFLVveXU",
        "outputId": "e0eb1f74-0893-4092-ea66-41bf4860be29"
      },
      "execution_count": null,
      "outputs": [
        {
          "output_type": "stream",
          "name": "stdout",
          "text": [
            "D\n",
            "CD\n",
            "BCD\n",
            "ABCD\n"
          ]
        }
      ]
    },
    {
      "cell_type": "markdown",
      "source": [
        "7."
      ],
      "metadata": {
        "id": "5FFEikwV7-oc"
      }
    },
    {
      "cell_type": "code",
      "source": [
        "n=4"
      ],
      "metadata": {
        "id": "slPX9RWy79S0"
      },
      "execution_count": null,
      "outputs": []
    },
    {
      "cell_type": "code",
      "source": [
        "for i in range(n):\n",
        "  print(trr[:i+1])\n"
      ],
      "metadata": {
        "colab": {
          "base_uri": "https://localhost:8080/"
        },
        "id": "hj4-TtpAy6QN",
        "outputId": "8e01b829-6080-4ac1-cf85-f0ace766cac3"
      },
      "execution_count": null,
      "outputs": [
        {
          "output_type": "stream",
          "name": "stdout",
          "text": [
            "A\n",
            "AB\n",
            "ABC\n",
            "ABCD\n"
          ]
        }
      ]
    },
    {
      "cell_type": "markdown",
      "source": [
        "8."
      ],
      "metadata": {
        "id": "LgpC4pEi9ZEn"
      }
    },
    {
      "cell_type": "code",
      "source": [
        "st='1'"
      ],
      "metadata": {
        "id": "P1QzvvG5-c3K"
      },
      "execution_count": null,
      "outputs": []
    },
    {
      "cell_type": "code",
      "source": [
        "for i in range(1,n+1):\n",
        "  print(i*'1')"
      ],
      "metadata": {
        "colab": {
          "base_uri": "https://localhost:8080/"
        },
        "id": "oa9LRUlK9alB",
        "outputId": "755f5bc7-cc88-4818-a3f7-e3619044f618"
      },
      "execution_count": null,
      "outputs": [
        {
          "output_type": "stream",
          "name": "stdout",
          "text": [
            "1\n",
            "11\n",
            "111\n",
            "1111\n"
          ]
        }
      ]
    },
    {
      "cell_type": "markdown",
      "source": [
        "9."
      ],
      "metadata": {
        "id": "uKgxnPpXAKtd"
      }
    },
    {
      "cell_type": "code",
      "source": [
        "n=4"
      ],
      "metadata": {
        "id": "oTV9innhLEVl"
      },
      "execution_count": null,
      "outputs": []
    },
    {
      "cell_type": "code",
      "source": [
        "for i in range(n):\n",
        "  if i==0:\n",
        "    print(1)\n",
        "  print(str(i+1)+(i)*str(0)+str(i+1))\n",
        "\n",
        "  \n"
      ],
      "metadata": {
        "id": "UvG1iRLuAMRj",
        "colab": {
          "base_uri": "https://localhost:8080/"
        },
        "outputId": "4a8de6e3-cccd-410d-ef44-e0da091a4b79"
      },
      "execution_count": null,
      "outputs": [
        {
          "output_type": "stream",
          "name": "stdout",
          "text": [
            "1\n",
            "11\n",
            "202\n",
            "3003\n",
            "40004\n"
          ]
        }
      ]
    },
    {
      "cell_type": "markdown",
      "source": [
        "10."
      ],
      "metadata": {
        "id": "Tbo9jLKsFUiq"
      }
    },
    {
      "cell_type": "code",
      "source": [
        "for i in range(n):\n",
        "  if i==0:\n",
        "    print(1)\n",
        "  print(str(1)+(i)*str(2)+str(1))"
      ],
      "metadata": {
        "id": "iNlRD-e5tm3T",
        "colab": {
          "base_uri": "https://localhost:8080/"
        },
        "outputId": "7b5f00a0-0c3a-4c9b-edff-dec80a2e0dce"
      },
      "execution_count": null,
      "outputs": [
        {
          "output_type": "stream",
          "name": "stdout",
          "text": [
            "1\n",
            "11\n",
            "121\n",
            "1221\n",
            "12221\n"
          ]
        }
      ]
    },
    {
      "cell_type": "markdown",
      "source": [
        "11."
      ],
      "metadata": {
        "id": "q9180GZ4Qu22"
      }
    },
    {
      "cell_type": "code",
      "source": [
        "# a=[]\n",
        "strr='12345'\n",
        "for j in range(n):\n",
        "  print(strr[j::-1])"
      ],
      "metadata": {
        "colab": {
          "base_uri": "https://localhost:8080/"
        },
        "id": "pqwe7SIxQxTB",
        "outputId": "e3fa9601-90e8-4ed9-d511-b2f57781a783"
      },
      "execution_count": null,
      "outputs": [
        {
          "output_type": "stream",
          "name": "stdout",
          "text": [
            "1\n",
            "21\n",
            "321\n",
            "4321\n"
          ]
        }
      ]
    },
    {
      "cell_type": "code",
      "source": [
        "strr[5::-1]"
      ],
      "metadata": {
        "colab": {
          "base_uri": "https://localhost:8080/",
          "height": 36
        },
        "id": "r5YffpewQxKm",
        "outputId": "3c419e19-def4-4f20-9f88-3b919f3f0f41"
      },
      "execution_count": null,
      "outputs": [
        {
          "output_type": "execute_result",
          "data": {
            "text/plain": [
              "'54321'"
            ],
            "application/vnd.google.colaboratory.intrinsic+json": {
              "type": "string"
            }
          },
          "metadata": {},
          "execution_count": 19
        }
      ]
    },
    {
      "cell_type": "markdown",
      "source": [
        "12."
      ],
      "metadata": {
        "id": "9c6sBj5UXIKj"
      }
    },
    {
      "cell_type": "code",
      "source": [
        "for i in range(1,n+1):\n",
        "  print(str(i)*i)"
      ],
      "metadata": {
        "colab": {
          "base_uri": "https://localhost:8080/"
        },
        "id": "dsBwhQPPUzGa",
        "outputId": "3bf76580-97e0-440d-86f8-f17c8f63ab51"
      },
      "execution_count": null,
      "outputs": [
        {
          "output_type": "stream",
          "name": "stdout",
          "text": [
            "1\n",
            "22\n",
            "333\n",
            "4444\n"
          ]
        }
      ]
    },
    {
      "cell_type": "markdown",
      "source": [
        "13."
      ],
      "metadata": {
        "id": "7d_6cVe4YMk4"
      }
    },
    {
      "cell_type": "code",
      "source": [
        "vv='01234567890'\n",
        "for i in range(1,n+1):\n",
        "  print(vv[i:i+i])\n"
      ],
      "metadata": {
        "colab": {
          "base_uri": "https://localhost:8080/"
        },
        "id": "2o8st5MfYQNw",
        "outputId": "8895be2a-8034-45cc-82d4-7266ad495d04"
      },
      "execution_count": null,
      "outputs": [
        {
          "output_type": "stream",
          "name": "stdout",
          "text": [
            "1\n",
            "23\n",
            "345\n",
            "4567\n"
          ]
        }
      ]
    },
    {
      "cell_type": "markdown",
      "source": [
        "14."
      ],
      "metadata": {
        "id": "h0qO0h5Zdeth"
      }
    },
    {
      "cell_type": "code",
      "source": [
        "vv=['1','2','3','4','5','6','7','8','9','10']\n",
        "asv=0\n",
        "for i in range(n):\n",
        "    # inner loop for jth columns\n",
        "    for j in range(0,i+1):\n",
        "        char = vv[asv]\n",
        "        print(char,end=\"\")\n",
        "        asv += 1\n",
        "    print()"
      ],
      "metadata": {
        "colab": {
          "base_uri": "https://localhost:8080/"
        },
        "id": "NQ6OY2--g2fX",
        "outputId": "936ae56a-a25d-4f0c-ce1e-30d07baa28ef"
      },
      "execution_count": null,
      "outputs": [
        {
          "output_type": "stream",
          "name": "stdout",
          "text": [
            "1\n",
            "23\n",
            "456\n",
            "78910\n"
          ]
        }
      ]
    },
    {
      "cell_type": "markdown",
      "source": [
        "15."
      ],
      "metadata": {
        "id": "8KfwSiAEkUq_"
      }
    },
    {
      "cell_type": "code",
      "source": [
        "bb=list(range(n+1))\n",
        "bb.reverse()\n",
        "vv='123456789'\n",
        "for i in bb:\n",
        "  print(vv[0:i])"
      ],
      "metadata": {
        "colab": {
          "base_uri": "https://localhost:8080/"
        },
        "id": "X7odWAjqkWBN",
        "outputId": "1066ac75-613e-4819-d770-4e856ebdd5f1"
      },
      "execution_count": null,
      "outputs": [
        {
          "output_type": "stream",
          "name": "stdout",
          "text": [
            "1234\n",
            "123\n",
            "12\n",
            "1\n",
            "\n"
          ]
        }
      ]
    },
    {
      "cell_type": "markdown",
      "source": [
        "16."
      ],
      "metadata": {
        "id": "AdvXoqf-WjbB"
      }
    },
    {
      "cell_type": "code",
      "source": [
        ""
      ],
      "metadata": {
        "id": "RkFnS-Grba7z"
      },
      "execution_count": null,
      "outputs": []
    },
    {
      "cell_type": "code",
      "source": [
        "n=4\n",
        "n=list(range(n+1))\n",
        "n.reverse()\n",
        "for i in n:\n",
        "  if i ==0:\n",
        "    print()\n",
        "  elif i==1:\n",
        "    print(1)\n",
        "  else:\n",
        "    print(str(i)+str(i)*(i-2)+str(i))"
      ],
      "metadata": {
        "colab": {
          "base_uri": "https://localhost:8080/"
        },
        "id": "pIwAxi7lWhy-",
        "outputId": "ec25fc35-b1aa-418a-af45-03276c6271ad"
      },
      "execution_count": null,
      "outputs": [
        {
          "output_type": "stream",
          "name": "stdout",
          "text": [
            "4444\n",
            "333\n",
            "22\n",
            "1\n",
            "\n"
          ]
        }
      ]
    },
    {
      "cell_type": "markdown",
      "source": [
        "17."
      ],
      "metadata": {
        "id": "Sg0dHuMDCl9H"
      }
    },
    {
      "cell_type": "code",
      "source": [
        "n=5"
      ],
      "metadata": {
        "id": "lYiurtiaD4CP"
      },
      "execution_count": null,
      "outputs": []
    },
    {
      "cell_type": "code",
      "source": [
        "\n",
        "n=(5)\n",
        "lstt=[1,0,1,0,1,0,1,0]\n",
        "for i in lstt:\n",
        "  # n=5\n",
        "  if i>=0:\n",
        "    print(str(i)*n)\n",
        "    n=n-1\n",
        "    "
      ],
      "metadata": {
        "colab": {
          "base_uri": "https://localhost:8080/"
        },
        "id": "f39BJOKbCn95",
        "outputId": "c0b58f8f-f605-41e6-ed12-01d277bfc81a"
      },
      "execution_count": null,
      "outputs": [
        {
          "output_type": "stream",
          "name": "stdout",
          "text": [
            "11111\n",
            "0000\n",
            "111\n",
            "00\n",
            "1\n",
            "\n",
            "\n",
            "\n"
          ]
        }
      ]
    },
    {
      "cell_type": "markdown",
      "source": [
        "18."
      ],
      "metadata": {
        "id": "iItpeCl5_a10"
      }
    },
    {
      "cell_type": "code",
      "source": [
        "rows = 6\n",
        "for i in range(1, rows):\n",
        "    num = 1\n",
        "    for j in range(rows, 0, -1):\n",
        "        if j > i:\n",
        "            print(\" \", end=' ')\n",
        "        else:\n",
        "            print(num, end=' ')\n",
        "            num += 1\n",
        "    print(\"\")"
      ],
      "metadata": {
        "colab": {
          "base_uri": "https://localhost:8080/"
        },
        "id": "9XZxIToZBiJI",
        "outputId": "fae0cd53-b941-4d47-bfa3-87f017c62e35"
      },
      "execution_count": null,
      "outputs": [
        {
          "output_type": "stream",
          "name": "stdout",
          "text": [
            "          1 \n",
            "        1 2 \n",
            "      1 2 3 \n",
            "    1 2 3 4 \n",
            "  1 2 3 4 5 \n"
          ]
        }
      ]
    },
    {
      "cell_type": "code",
      "source": [
        "n=5\n",
        "for i in range(1,n+1):\n",
        "  num=1\n",
        "  for j in range(n,0,-1):\n",
        "    if j>i:\n",
        "      print(\" \", end=\"\")\n",
        "    else:\n",
        "      print(num, end=\"\")\n",
        "      num=num+1\n",
        "  print(\"\")"
      ],
      "metadata": {
        "colab": {
          "base_uri": "https://localhost:8080/"
        },
        "id": "J2dWfOpr_cXt",
        "outputId": "e115bcdd-b88a-4a3e-ebd4-6ba7018efbd9"
      },
      "execution_count": null,
      "outputs": [
        {
          "output_type": "stream",
          "name": "stdout",
          "text": [
            "    1\n",
            "   12\n",
            "  123\n",
            " 1234\n",
            "12345\n"
          ]
        }
      ]
    },
    {
      "cell_type": "markdown",
      "source": [
        "19."
      ],
      "metadata": {
        "id": "m6i7ruC_HC4n"
      }
    },
    {
      "cell_type": "code",
      "source": [
        "n=4\n",
        "for i in range(1,n+1):\n",
        "  # num=1\n",
        "  for j in range(n,0,-1):\n",
        "    if j>i:\n",
        "      print(\" \", end=\"\")\n",
        "    else:\n",
        "      print(j, end=\"\")\n",
        "      # num=num+1\n",
        "  print(\"\")"
      ],
      "metadata": {
        "colab": {
          "base_uri": "https://localhost:8080/"
        },
        "id": "ooRvPjqgPH1R",
        "outputId": "5493515d-6df8-4ffe-858a-8e1fec037872"
      },
      "execution_count": null,
      "outputs": [
        {
          "output_type": "stream",
          "name": "stdout",
          "text": [
            "   1\n",
            "  21\n",
            " 321\n",
            "4321\n"
          ]
        }
      ]
    },
    {
      "cell_type": "markdown",
      "source": [
        "20."
      ],
      "metadata": {
        "id": "-sMtl75iVoYt"
      }
    },
    {
      "cell_type": "code",
      "source": [
        "n=5\n",
        "for i in range(n):\n",
        "  print(str(n)*n)\n",
        "\n"
      ],
      "metadata": {
        "colab": {
          "base_uri": "https://localhost:8080/"
        },
        "id": "IXWfa9HDVoAa",
        "outputId": "4c4725ee-81fc-4ec6-c0ce-d39df9085b4a"
      },
      "execution_count": null,
      "outputs": [
        {
          "output_type": "stream",
          "name": "stdout",
          "text": [
            "55555\n",
            "55555\n",
            "55555\n",
            "55555\n",
            "55555\n"
          ]
        }
      ]
    },
    {
      "cell_type": "markdown",
      "source": [
        "21."
      ],
      "metadata": {
        "id": "1t_Kyp9iYh3o"
      }
    },
    {
      "cell_type": "code",
      "source": [
        "n=4\n",
        "for i in range(1,n+1):\n",
        "  print(str(i)*n)"
      ],
      "metadata": {
        "colab": {
          "base_uri": "https://localhost:8080/"
        },
        "id": "tutoTp-5Yhme",
        "outputId": "ba00fea9-e23e-495e-9ba7-a8807121cc37"
      },
      "execution_count": null,
      "outputs": [
        {
          "output_type": "stream",
          "name": "stdout",
          "text": [
            "1111\n",
            "2222\n",
            "3333\n",
            "4444\n"
          ]
        }
      ]
    },
    {
      "cell_type": "markdown",
      "source": [
        "22."
      ],
      "metadata": {
        "id": "aLw4kpMHZd2c"
      }
    },
    {
      "cell_type": "code",
      "source": [
        "n=4\n",
        "for i in range(n):\n",
        "  for j in range(n,0,-1):\n",
        "    print(j, end=\"\")\n",
        "  print()\n",
        "  "
      ],
      "metadata": {
        "colab": {
          "base_uri": "https://localhost:8080/"
        },
        "id": "L3-of-pkZfFM",
        "outputId": "b7474153-e22c-4fa7-8334-3754e3e53085"
      },
      "execution_count": null,
      "outputs": [
        {
          "output_type": "stream",
          "name": "stdout",
          "text": [
            "4321\n",
            "4321\n",
            "4321\n",
            "4321\n"
          ]
        }
      ]
    },
    {
      "cell_type": "markdown",
      "source": [
        "23."
      ],
      "metadata": {
        "id": "Pj6T0LVXpAZY"
      }
    },
    {
      "cell_type": "code",
      "source": [
        "trr"
      ],
      "metadata": {
        "colab": {
          "base_uri": "https://localhost:8080/",
          "height": 36
        },
        "id": "PVYhWbMEteLz",
        "outputId": "2f69aac7-30b6-4511-bd80-35587c0ea1d3"
      },
      "execution_count": null,
      "outputs": [
        {
          "output_type": "execute_result",
          "data": {
            "text/plain": [
              "'ABCDEFGHIKLMNOPQRSTUVWXYZ'"
            ],
            "application/vnd.google.colaboratory.intrinsic+json": {
              "type": "string"
            }
          },
          "metadata": {},
          "execution_count": 33
        }
      ]
    },
    {
      "cell_type": "code",
      "source": [
        "trr='ABCDEFGHIKLMNOPQRSTUVWXYZ'\n",
        "n=4\n",
        "for i in range(n):\n",
        "  print(trr[:n])"
      ],
      "metadata": {
        "colab": {
          "base_uri": "https://localhost:8080/"
        },
        "id": "ayzEo2k-pBZe",
        "outputId": "5940e7e8-600b-4ff1-860c-07cf0ac30412"
      },
      "execution_count": null,
      "outputs": [
        {
          "output_type": "stream",
          "name": "stdout",
          "text": [
            "ABCD\n",
            "ABCD\n",
            "ABCD\n",
            "ABCD\n"
          ]
        }
      ]
    },
    {
      "cell_type": "markdown",
      "source": [
        "24."
      ],
      "metadata": {
        "id": "_Ual1fm6AxYG"
      }
    },
    {
      "cell_type": "code",
      "source": [
        "trr='ABCDEFGHIKLMNOPQRSTUVWXYZ'\n",
        "n=4\n",
        "for i in range(n):\n",
        "  print(trr[i:n+i])"
      ],
      "metadata": {
        "colab": {
          "base_uri": "https://localhost:8080/"
        },
        "id": "MRrPH3lpAypq",
        "outputId": "4f591df6-2855-4ad9-a77d-42851b8427d9"
      },
      "execution_count": null,
      "outputs": [
        {
          "output_type": "stream",
          "name": "stdout",
          "text": [
            "ABCD\n",
            "BCDE\n",
            "CDEF\n",
            "DEFG\n"
          ]
        }
      ]
    },
    {
      "cell_type": "markdown",
      "source": [
        "25."
      ],
      "metadata": {
        "id": "-YtjKqZeDrkM"
      }
    },
    {
      "cell_type": "code",
      "source": [
        "n=5\n",
        "for i in range(1,n+1):\n",
        "  num='1'\n",
        "  space=''\n",
        "  for j in range(n,0,-1):\n",
        "    if j>i:\n",
        "      print(\" \", end=\"\")\n",
        "    elif j<i:\n",
        "      print(\"\",end=\"\")\n",
        "      \n",
        "      space=space+' '\n",
        "    else:\n",
        "      print(num, end=\"\")\n",
        "      num=num+' '\n",
        "  print(\"\")\n",
        "print('11111')\n"
      ],
      "metadata": {
        "colab": {
          "base_uri": "https://localhost:8080/"
        },
        "id": "fHzTJTSDDtKh",
        "outputId": "fd00c037-f8cf-47de-cff9-e69535457066"
      },
      "execution_count": null,
      "outputs": [
        {
          "output_type": "stream",
          "name": "stdout",
          "text": [
            "    1\n",
            "   1\n",
            "  1\n",
            " 1\n",
            "1\n",
            "11111\n"
          ]
        }
      ]
    },
    {
      "cell_type": "code",
      "source": [
        "n = 5\n",
        "for a1 in range(1,n+1): #from row 1 to 5\n",
        "    for a2 in range(n-a1):\n",
        "        print(\" \", end = \"\")\n",
        "    for a3 in range((a1*2)-1):\n",
        "      if a3==0 or a3== ((a1*2)-2):\n",
        "        print(\"*\",end=\"\")\n",
        "      else:\n",
        "        print(\" \", end = \"\")\n",
        "    print()\n",
        "\n",
        "for a1 in range(n + 1, n + 5): #from row 6 to 9\n",
        "    for a2 in range(a1 - n):\n",
        "        print(\" \", end = \"\")\n",
        "    for a3 in range((n+5 - a1)*2 - 1):\n",
        "      if a3==0 or a3==((n+5 - a1)*2 - 2):\n",
        "        print(\"*\", end = \"\")\n",
        "      else:\n",
        "        print(\" \", end = \"\")\n",
        "\n",
        "    print()"
      ],
      "metadata": {
        "colab": {
          "base_uri": "https://localhost:8080/"
        },
        "id": "00ZMqZqBnDT6",
        "outputId": "670d9729-e165-4c78-a615-84b37ac82dbc"
      },
      "execution_count": null,
      "outputs": [
        {
          "output_type": "stream",
          "name": "stdout",
          "text": [
            "    *\n",
            "   * *\n",
            "  *   *\n",
            " *     *\n",
            "*       *\n",
            " *     *\n",
            "  *   *\n",
            "   * *\n",
            "    *\n"
          ]
        }
      ]
    },
    {
      "cell_type": "code",
      "source": [
        "n = 5\n",
        "for a1 in range(1,n+1): #from row 1 to 5\n",
        "    for a2 in range(n-a1):\n",
        "        print(\" \", end = \"\")\n",
        "    for a3 in range((a1*2)-1):\n",
        "       print(\"*\", end= \"\")\n",
        "    print()\n",
        "\n",
        "for a1 in range(n + 1, n + 5): #from row 6 to 9\n",
        "    for a2 in range(a1 - n):\n",
        "        print(\" \", end = \"\")\n",
        "    for a3 in range((n+5 - a1)*2 - 1):\n",
        "        print(\"*\", end = \"\")\n",
        "    print()"
      ],
      "metadata": {
        "colab": {
          "base_uri": "https://localhost:8080/"
        },
        "id": "aB5xOSY8WV4x",
        "outputId": "1e6f6117-d777-43fc-d8e2-2afec3a2b3b4"
      },
      "execution_count": null,
      "outputs": [
        {
          "output_type": "stream",
          "name": "stdout",
          "text": [
            "    *\n",
            "   ***\n",
            "  *****\n",
            " *******\n",
            "*********\n",
            " *******\n",
            "  *****\n",
            "   ***\n",
            "    *\n"
          ]
        }
      ]
    },
    {
      "cell_type": "code",
      "source": [
        "#extraa one \n",
        "rows = 5\n",
        "i = 1\n",
        "while i <= rows:\n",
        "    j = rows\n",
        "    while j > i:\n",
        "        # display space\n",
        "        print(' ', end=' ')\n",
        "        j -= 1\n",
        "    print('*', end=' ')\n",
        "    k = 1\n",
        "    while k < 2 * (i - 1):\n",
        "        print('*', end=' ')\n",
        "        k += 1\n",
        "    if i == 1:\n",
        "        print()\n",
        "    else:\n",
        "        print('*')\n",
        "    i += 1\n",
        "\n",
        "i = rows - 1\n",
        "while i >= 1:\n",
        "    j = rows\n",
        "    while j > i:\n",
        "        print(' ', end=' ')\n",
        "        j -= 1\n",
        "    print('*', end=' ')\n",
        "    k = 0\n",
        "    while k <= 2 * (i - 2):\n",
        "        print('*', end=' ')\n",
        "        k += 1\n",
        "    if i == 1:\n",
        "        print()\n",
        "    else:\n",
        "        print('*')\n",
        "    i -= 1\n"
      ],
      "metadata": {
        "colab": {
          "base_uri": "https://localhost:8080/"
        },
        "id": "jqIagTAaH3cI",
        "outputId": "41681665-f3aa-4659-dfd8-91b491afb478"
      },
      "execution_count": null,
      "outputs": [
        {
          "output_type": "stream",
          "name": "stdout",
          "text": [
            "        * \n",
            "      * * *\n",
            "    * * * * *\n",
            "  * * * * * * *\n",
            "* * * * * * * * *\n",
            "  * * * * * * *\n",
            "    * * * * *\n",
            "      * * *\n",
            "        * \n"
          ]
        }
      ]
    },
    {
      "cell_type": "markdown",
      "source": [
        "26."
      ],
      "metadata": {
        "id": "3ghecyBqkeuL"
      }
    },
    {
      "cell_type": "code",
      "source": [
        "int(9/ 2)"
      ],
      "metadata": {
        "colab": {
          "base_uri": "https://localhost:8080/"
        },
        "id": "j0Uc6dS9mlop",
        "outputId": "3f253aac-2423-4029-a51d-3a2308318086"
      },
      "execution_count": null,
      "outputs": [
        {
          "output_type": "execute_result",
          "data": {
            "text/plain": [
              "4"
            ]
          },
          "metadata": {},
          "execution_count": 97
        }
      ]
    },
    {
      "cell_type": "code",
      "source": [
        "# Python3 program for printing the rectangular pattern\n",
        "\n",
        "\n",
        "n=5\n",
        "# number of rows and columns to be printed\n",
        "s = 2 * n - 1\n",
        "\n",
        "# Upper Half\n",
        "for i in range(0, int(s / 2) + 1):\n",
        "      \n",
        "    m = n\n",
        "\n",
        "    # Decreasing part\n",
        "    for j in range(0, i):\n",
        "        print(m ,end= \"\" )\n",
        "        m-=1\n",
        "      \n",
        "    # Constant Part\n",
        "    for k in range(0, s - 2 * i):\n",
        "        print(n-i ,end= \"\" )\n",
        "      \n",
        "    # Increasing part.\n",
        "    m = n - i + 1\n",
        "    for l in range(0, i):\n",
        "        print(m ,end= \"\" )\n",
        "        m+=1\n",
        "      \n",
        "    print(\"\")\n",
        "  \n",
        "# Lower Half\n",
        "for i in range(int(s / 2),-1,-1):\n",
        "\n",
        "    # Decreasing Part\n",
        "    m = n\n",
        "    for j in range(0, i):\n",
        "        print(m ,end= \"\" )\n",
        "        m-=1\n",
        "      \n",
        "\n",
        "    # Constant Part.\n",
        "    for k in range(0, s - 2 * i):\n",
        "        print(n-i ,end= \"\" )\n",
        "      \n",
        "\n",
        "    # Decreasing Part\n",
        "    m = n - i + 1\n",
        "    for l in range(0, i):\n",
        "        print(m ,end= \"\" )\n",
        "        m+=1\n",
        "      \n",
        "    print(\"\")\n"
      ],
      "metadata": {
        "colab": {
          "base_uri": "https://localhost:8080/"
        },
        "id": "pU_-kCx9keOB",
        "outputId": "92facb41-6705-4405-d45a-929b34eb7994"
      },
      "execution_count": null,
      "outputs": [
        {
          "output_type": "stream",
          "name": "stdout",
          "text": [
            "555555555\n",
            "544444445\n",
            "543333345\n",
            "543222345\n",
            "543212345\n",
            "543212345\n",
            "543222345\n",
            "543333345\n",
            "544444445\n",
            "555555555\n"
          ]
        }
      ]
    },
    {
      "cell_type": "code",
      "source": [
        "# Function to print the pattern\n",
        "def printPattern(n):\n",
        " \n",
        "    arraySize = n * 2 - 1;\n",
        "    result = [[0 for x in range(arraySize)]\n",
        "                 for y in range(arraySize)];\n",
        "         \n",
        "    # Fill the values\n",
        "    for i in range(arraySize):\n",
        "        for j in range(arraySize):\n",
        "            if(abs(i - (arraySize // 2)) >\n",
        "               abs(j - (arraySize // 2))):\n",
        "                result[i][j] = abs(i - (arraySize // 2)) + 1;\n",
        "            else:\n",
        "                result[i][j] = abs(j - (arraySize // 2)) + 1;\n",
        "             \n",
        "    # Print the array\n",
        "    for i in range(arraySize):\n",
        "        for j in range(arraySize):\n",
        "            print(result[i][j], end = \"\");\n",
        "        print(\"\");\n",
        "printPattern(5)"
      ],
      "metadata": {
        "colab": {
          "base_uri": "https://localhost:8080/"
        },
        "id": "tI_4JyKHpddJ",
        "outputId": "240f9b7b-c6b9-4a0b-85cd-3fec65d3e08e"
      },
      "execution_count": null,
      "outputs": [
        {
          "output_type": "stream",
          "name": "stdout",
          "text": [
            "555555555\n",
            "544444445\n",
            "543333345\n",
            "543222345\n",
            "543212345\n",
            "543222345\n",
            "543333345\n",
            "544444445\n",
            "555555555\n"
          ]
        }
      ]
    },
    {
      "cell_type": "markdown",
      "source": [
        "27."
      ],
      "metadata": {
        "id": "FK_2RAudo3fN"
      }
    },
    {
      "cell_type": "code",
      "source": [
        "# for i in "
      ],
      "metadata": {
        "id": "tXsXQBHMo5cL"
      },
      "execution_count": null,
      "outputs": []
    },
    {
      "cell_type": "code",
      "source": [
        "# 5\n",
        "\n",
        "# 1 2 3 4 5 \n",
        "# 11 12 13 14 15 \n",
        "# 21 22 23 24 25 \n",
        "# 16 17 18 19 20 \n",
        "# 6 7 8 9 10"
      ],
      "metadata": {
        "id": "tVB61pfetnBH"
      },
      "execution_count": null,
      "outputs": []
    },
    {
      "cell_type": "markdown",
      "source": [
        "28."
      ],
      "metadata": {
        "id": "IQyrL0ufsa3w"
      }
    },
    {
      "cell_type": "code",
      "source": [
        "n= 5\n",
        "for i in range(0,int(n/2)+1):\n",
        "  for a2 in range(i,0,-1):\n",
        "    print(\" \", end = \"\")\n",
        "  for j in range(0, i + 1):\n",
        "    if j>=0:\n",
        "      print(\"*\", end=' ')\n",
        "  print(\"\")\n",
        "\n",
        "for i in range(int(n/2)+1, 0, -1):\n",
        "    for a2 in range(i-1,1,-1):\n",
        "        print(\" \", end='')\n",
        "    for j in range(i,1,-1):\n",
        "      if j>=0:\n",
        "        print(\"*\", end=' ')\n",
        "    print(\"\")"
      ],
      "metadata": {
        "colab": {
          "base_uri": "https://localhost:8080/"
        },
        "id": "2BraCzBrupLl",
        "outputId": "2c987926-cb9e-4cd3-9d65-2df5cff84a94"
      },
      "execution_count": null,
      "outputs": [
        {
          "output_type": "stream",
          "name": "stdout",
          "text": [
            "* \n",
            " * * \n",
            "  * * * \n",
            " * * \n",
            "* \n",
            "\n"
          ]
        }
      ]
    },
    {
      "cell_type": "markdown",
      "source": [
        "29. "
      ],
      "metadata": {
        "id": "kZW1_OLTCxKc"
      }
    },
    {
      "cell_type": "code",
      "source": [
        "n=5\n",
        "for i in range(1,n+1):\n",
        "  for j in range(n,0,-1):      \n",
        "      if i==j:\n",
        "        print('*',end=\"\")\n",
        "      else:\n",
        "        print(str(j),end=\"\")\n",
        "  print(\"\")"
      ],
      "metadata": {
        "colab": {
          "base_uri": "https://localhost:8080/"
        },
        "id": "elRvBGlKCzd7",
        "outputId": "686310a9-8ebd-4241-9a56-9bfedc589b30"
      },
      "execution_count": null,
      "outputs": [
        {
          "output_type": "stream",
          "name": "stdout",
          "text": [
            "5432*\n",
            "543*1\n",
            "54*21\n",
            "5*321\n",
            "*4321\n"
          ]
        }
      ]
    },
    {
      "cell_type": "code",
      "source": [
        "n=4\n",
        "for i in range(n):\n",
        "  for j in range(9,0,-1):\n",
        "    if j%2!=0:\n",
        "      print('*',end=\"\")\n",
        "    else:\n",
        "      print(0,end=\"\")\n",
        "  print(\"\")"
      ],
      "metadata": {
        "id": "FBc8SAz5FmKd"
      },
      "execution_count": null,
      "outputs": []
    },
    {
      "cell_type": "markdown",
      "source": [
        "30."
      ],
      "metadata": {
        "id": "8Vwyi0Hzbv6X"
      }
    },
    {
      "cell_type": "code",
      "source": [
        "n=4\n",
        "for i in range(n+1,1,-1):\n",
        "  for j in range(n+1,0,-1):      \n",
        "      if i==j:\n",
        "        print('*',end=\"\")\n",
        "      elif j==1:\n",
        "        print('*',end=\"\")\n",
        "      else:\n",
        "        print(j*0,end=\"\")\n",
        "  # print(\"\")\n",
        "  for k in range(2,n+2):      \n",
        "      if i==k:\n",
        "        print('*',end=\"\")\n",
        "      else:\n",
        "        print(i*0,end=\"\")\n",
        "  print(\"\")\n"
      ],
      "metadata": {
        "colab": {
          "base_uri": "https://localhost:8080/"
        },
        "id": "Er_UhAwaFssA",
        "outputId": "9aa8b1a5-71cb-47c7-c47b-6eb805e789b0"
      },
      "execution_count": null,
      "outputs": [
        {
          "output_type": "stream",
          "name": "stdout",
          "text": [
            "*000*000*\n",
            "0*00*00*0\n",
            "00*0*0*00\n",
            "000***000\n"
          ]
        }
      ]
    },
    {
      "cell_type": "markdown",
      "source": [
        "31."
      ],
      "metadata": {
        "id": "NN1vS_kgX1uk"
      }
    },
    {
      "cell_type": "code",
      "source": [
        "rows = 5\n",
        "for i in range(rows, 0, -1):\n",
        "  for j in range(rows, i, -1):\n",
        "    print(' ',end=\"\")\n",
        "  for j in range(1, i + i):\n",
        "    print(\"*\", end=\"\")\n",
        "  print(\"\")\n",
        "\n",
        "for i in range(1,rows):\n",
        "  for j in range(rows-1,i,-1):\n",
        "    print(' ',end=\"\")\n",
        "  for k in range(i+i+2,1,-1):\n",
        "    print(\"*\",end=\"\")\n",
        "  print(\"\")"
      ],
      "metadata": {
        "colab": {
          "base_uri": "https://localhost:8080/"
        },
        "id": "dFNAffNNnEBu",
        "outputId": "9b9ee494-3f7c-4a50-85a8-e87c0ec672bc"
      },
      "execution_count": null,
      "outputs": [
        {
          "output_type": "stream",
          "name": "stdout",
          "text": [
            "*********\n",
            " *******\n",
            "  *****\n",
            "   ***\n",
            "    *\n",
            "   ***\n",
            "  *****\n",
            " *******\n",
            "*********\n"
          ]
        }
      ]
    },
    {
      "cell_type": "markdown",
      "source": [
        "32."
      ],
      "metadata": {
        "id": "DaYlsSL4yBqk"
      }
    },
    {
      "cell_type": "code",
      "source": [
        "n=5\n",
        "for i in range(1,n):\n",
        "  for j in range(1,i+1):\n",
        "    if j==1 :\n",
        "      print(\"*\",end=\"\")\n",
        "    elif j==(i):\n",
        "      print(\"*\",end=\"\")\n",
        "    else :\n",
        "      print(\"Q\",end=\"\")\n",
        "  print(\"\")\n",
        "print(\"*\"*n,end=\"\")\n"
      ],
      "metadata": {
        "colab": {
          "base_uri": "https://localhost:8080/"
        },
        "id": "XKi5FbKDyAzj",
        "outputId": "690e6f2d-cd19-4dcc-de92-51a6e726346e"
      },
      "execution_count": null,
      "outputs": [
        {
          "output_type": "stream",
          "name": "stdout",
          "text": [
            "*\n",
            "**\n",
            "*Q*\n",
            "*QQ*\n",
            "*****"
          ]
        }
      ]
    },
    {
      "cell_type": "markdown",
      "source": [
        "33."
      ],
      "metadata": {
        "id": "EOJW-NJuAV0M"
      }
    },
    {
      "cell_type": "code",
      "source": [
        "rows = 5\n",
        "i = 1\n",
        "while i <= rows:\n",
        "    j = i\n",
        "    while j < rows:\n",
        "        # display space\n",
        "        print(' ', end='')\n",
        "        j += 1\n",
        "    k = 1\n",
        "    while k <= i:\n",
        "        print('*', end='')\n",
        "        k += 1\n",
        "    print()\n",
        "    i += 1\n",
        "\n",
        "i = rows\n",
        "while i >= 1:\n",
        "    j = i\n",
        "    while j <= rows:\n",
        "        print(' ', end='')\n",
        "        j += 1\n",
        "    k = 1\n",
        "    while k < i:\n",
        "        print('*', end='')\n",
        "        k += 1\n",
        "    print('')\n",
        "    i -= 1"
      ],
      "metadata": {
        "colab": {
          "base_uri": "https://localhost:8080/"
        },
        "id": "pAqKWu0gAjeX",
        "outputId": "e3322ad5-c788-47ce-af3d-027779ea595f"
      },
      "execution_count": null,
      "outputs": [
        {
          "output_type": "stream",
          "name": "stdout",
          "text": [
            "    *\n",
            "   **\n",
            "  ***\n",
            " ****\n",
            "*****\n",
            " ****\n",
            "  ***\n",
            "   **\n",
            "    *\n",
            "     \n"
          ]
        }
      ]
    },
    {
      "cell_type": "markdown",
      "source": [
        "34."
      ],
      "metadata": {
        "id": "gFVlvItFBhLE"
      }
    },
    {
      "cell_type": "code",
      "source": [
        "n=5\n",
        "for i in range(n,0,-1):\n",
        "  for j in range(1,n+1):\n",
        "    if j<i:\n",
        "      print(\" \",end=\"\")\n",
        "    else:\n",
        "      print(\"*\",end=\"\")\n",
        "  print(\"\")"
      ],
      "metadata": {
        "id": "-039T9stBie1",
        "colab": {
          "base_uri": "https://localhost:8080/"
        },
        "outputId": "fb4556f6-116a-42e0-a3aa-76755e9773c2"
      },
      "execution_count": null,
      "outputs": [
        {
          "output_type": "stream",
          "name": "stdout",
          "text": [
            "     *\n",
            "    **\n",
            "   ***\n",
            "  ****\n",
            " *****\n",
            "******\n"
          ]
        }
      ]
    },
    {
      "cell_type": "markdown",
      "source": [
        "35."
      ],
      "metadata": {
        "id": "M2g5O4M-Tjr_"
      }
    },
    {
      "cell_type": "code",
      "source": [
        "n=5\n",
        "for i in range(n):\n",
        "  # for j in range(i+1):\n",
        "  #   print(\"S\",end=\"\")\n",
        "  # for k in range(i+1,n+1):\n",
        "  #   print(k,end=\"\")\n",
        "  # print(\"\")\n",
        "\n",
        "  for j in range(i,n-1):\n",
        "    print(\"S\",end=\"\")\n",
        "  for k in range(i,n):\n",
        "    print(i,end=\"\")\n",
        "  print(\"\")\n",
        "  "
      ],
      "metadata": {
        "id": "MWISz75vTk3K",
        "colab": {
          "base_uri": "https://localhost:8080/"
        },
        "outputId": "1882aa2b-1dfa-42dd-f091-99ffdb7c0252"
      },
      "execution_count": 66,
      "outputs": [
        {
          "output_type": "stream",
          "name": "stdout",
          "text": [
            "SSSS00000\n",
            "SSS1111\n",
            "SS222\n",
            "S33\n",
            "4\n"
          ]
        }
      ]
    },
    {
      "cell_type": "code",
      "source": [
        "5\n",
        "\n",
        "12345\n",
        " 2345\n",
        "   345\n",
        "     45\n",
        "       5\n",
        "     45\n",
        "   345\n",
        " 2345\n",
        "12345"
      ],
      "metadata": {
        "id": "XNY-7L-asjOK",
        "colab": {
          "base_uri": "https://localhost:8080/",
          "height": 135
        },
        "outputId": "e36ff415-fc90-4fd8-eedc-fd395b22f728"
      },
      "execution_count": null,
      "outputs": [
        {
          "output_type": "error",
          "ename": "SyntaxError",
          "evalue": "ignored",
          "traceback": [
            "\u001b[0;36m  File \u001b[0;32m\"<ipython-input-57-670f28c04cc2>\"\u001b[0;36m, line \u001b[0;32m3\u001b[0m\n\u001b[0;31m    *\u001b[0m\n\u001b[0m     ^\u001b[0m\n\u001b[0;31mSyntaxError\u001b[0m\u001b[0;31m:\u001b[0m invalid syntax\n"
          ]
        }
      ]
    },
    {
      "cell_type": "code",
      "source": [
        ""
      ],
      "metadata": {
        "id": "ei_VFi1BsjLP"
      },
      "execution_count": null,
      "outputs": []
    },
    {
      "cell_type": "code",
      "source": [
        ""
      ],
      "metadata": {
        "id": "hCHG1Pl6sjIB"
      },
      "execution_count": null,
      "outputs": []
    },
    {
      "cell_type": "code",
      "source": [
        ""
      ],
      "metadata": {
        "id": "KqLqxy4asjFH"
      },
      "execution_count": null,
      "outputs": []
    },
    {
      "cell_type": "code",
      "source": [
        ""
      ],
      "metadata": {
        "id": "5L8qBFBrsjB8"
      },
      "execution_count": null,
      "outputs": []
    },
    {
      "cell_type": "code",
      "source": [
        ""
      ],
      "metadata": {
        "id": "3Piomy66si-t"
      },
      "execution_count": null,
      "outputs": []
    },
    {
      "cell_type": "code",
      "source": [
        ""
      ],
      "metadata": {
        "id": "p_IeuwnHsi6E"
      },
      "execution_count": null,
      "outputs": []
    },
    {
      "cell_type": "code",
      "execution_count": null,
      "metadata": {
        "id": "dSN-zcrD9Ze7"
      },
      "outputs": [],
      "source": [
        "x = 0\n",
        "while x < 5:\n",
        "  print('x is currently: ',x)\n",
        "  print(' x is still less than 10, adding 1 to x')\n",
        "  x+=1\n",
        "print(\"All done\")\n",
        "print(\"I am done with the iterations\")"
      ]
    },
    {
      "cell_type": "code",
      "execution_count": null,
      "metadata": {
        "id": "AEysfVA62myB"
      },
      "outputs": [],
      "source": [
        ""
      ]
    }
  ],
  "metadata": {
    "colab": {
      "name": "50 Questions of Python Basics for IDE.ipynb",
      "provenance": [],
      "collapsed_sections": [],
      "authorship_tag": "ABX9TyN1Kf/P8EfBVKnVikyUSQLD"
    },
    "kernelspec": {
      "display_name": "Python 3",
      "name": "python3"
    },
    "language_info": {
      "name": "python"
    }
  },
  "nbformat": 4,
  "nbformat_minor": 0
}