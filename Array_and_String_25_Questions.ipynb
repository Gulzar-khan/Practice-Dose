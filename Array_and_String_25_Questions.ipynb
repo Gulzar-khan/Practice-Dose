{
  "nbformat": 4,
  "nbformat_minor": 0,
  "metadata": {
    "colab": {
      "name": "Array and String 25 Questions.ipynb",
      "provenance": [],
      "collapsed_sections": [],
      "authorship_tag": "ABX9TyO4Q/N3/TtFtpogGaSpX4/6"
    },
    "kernelspec": {
      "name": "python3",
      "display_name": "Python 3"
    },
    "language_info": {
      "name": "python"
    }
  },
  "cells": [
    {
      "cell_type": "markdown",
      "source": [
        "Array  and string\n"
      ],
      "metadata": {
        "id": "9bGiW_rM0xnr"
      }
    },
    {
      "cell_type": "markdown",
      "source": [
        "1"
      ],
      "metadata": {
        "id": "5GitnrgkRNIi"
      }
    },
    {
      "cell_type": "code",
      "source": [
        "# arr=eval(input())\n",
        "# k=int(input())\n",
        "k=5\n",
        "arr=[2,3,4,7,11]\n",
        "def findKthPositive(arr, k):\n",
        "  arr=sorted(arr)\n",
        "  res=[]\n",
        "  for i in range(max(arr)):\n",
        "    if i not in arr:\n",
        "      res.append(i)\n",
        "  return res[k]\n",
        "\n",
        "print(findKthPositive(arr, k))"
      ],
      "metadata": {
        "colab": {
          "base_uri": "https://localhost:8080/"
        },
        "id": "9gLFJwh_0xJE",
        "outputId": "fe09747a-3e70-4422-965d-51dc082e88a3"
      },
      "execution_count": null,
      "outputs": [
        {
          "output_type": "stream",
          "name": "stdout",
          "text": [
            "9\n"
          ]
        }
      ]
    },
    {
      "cell_type": "markdown",
      "source": [
        "2."
      ],
      "metadata": {
        "id": "b3gKCZYNcR2Q"
      }
    },
    {
      "cell_type": "code",
      "source": [
        "digits = [1,2,3,4]\n",
        "def plusOne(digits):\n",
        "  digit=[]\n",
        "  for i in digits:\n",
        "    if i==len(digits):\n",
        "      i=i+1\n",
        "      digit.append(i)\n",
        "    else:\n",
        "      digit.append(i)\n",
        "  return digit\n",
        "print(plusOne(digits))"
      ],
      "metadata": {
        "colab": {
          "base_uri": "https://localhost:8080/"
        },
        "id": "5iHV44R7cTqb",
        "outputId": "72d85a20-3d50-4e01-e344-c5658a8afcb5"
      },
      "execution_count": null,
      "outputs": [
        {
          "output_type": "stream",
          "name": "stdout",
          "text": [
            "[1, 2, 3, 5]\n"
          ]
        }
      ]
    },
    {
      "cell_type": "code",
      "source": [
        "digits = [1,2,3,9]\n",
        "def plusOne(digits):\n",
        "  st=''\n",
        "  for i in digits:\n",
        "    st=st+str(i)\n",
        "    ab=str(int(st)+1)\n",
        "  ls=[]\n",
        "  for j in ab:\n",
        "    ls.append(int(j))\n",
        "  return ls\n",
        "\n",
        "print(plusOne(digits))"
      ],
      "metadata": {
        "colab": {
          "base_uri": "https://localhost:8080/"
        },
        "id": "I5nEeiaXmkiH",
        "outputId": "021213b2-14e3-48b7-9e45-15ecf49cdd01"
      },
      "execution_count": null,
      "outputs": [
        {
          "output_type": "stream",
          "name": "stdout",
          "text": [
            "[1, 2, 4, 0]\n"
          ]
        }
      ]
    },
    {
      "cell_type": "markdown",
      "source": [
        "3."
      ],
      "metadata": {
        "id": "hRdwxbHwHujA"
      }
    },
    {
      "cell_type": "code",
      "source": [
        "A = [2,1,2]\n",
        "def largestPerimeter(A):\n",
        "  return(sum(A))\n",
        "print(largestPerimeter(A))"
      ],
      "metadata": {
        "colab": {
          "base_uri": "https://localhost:8080/"
        },
        "id": "mgyhL-3zIFo8",
        "outputId": "6340d156-2afd-4da8-a527-0182b4a6c07b"
      },
      "execution_count": null,
      "outputs": [
        {
          "output_type": "stream",
          "name": "stdout",
          "text": [
            "5\n"
          ]
        }
      ]
    },
    {
      "cell_type": "markdown",
      "source": [
        "4."
      ],
      "metadata": {
        "id": "G_W8OcpbJ8aQ"
      }
    },
    {
      "cell_type": "code",
      "source": [
        "# Input:\n",
        "A = [2,1,4,3]\n",
        "L=2\n",
        "R=3\n",
        "# Output:\n",
        "3"
      ],
      "metadata": {
        "id": "EayBAqOkHtte"
      },
      "execution_count": null,
      "outputs": []
    },
    {
      "cell_type": "code",
      "source": [
        "A=eval(input())\n",
        "L=int(input())\n",
        "R=int(input())"
      ],
      "metadata": {
        "colab": {
          "base_uri": "https://localhost:8080/"
        },
        "id": "ir-m7XBUEq1Z",
        "outputId": "7cfe4632-0309-4f22-880c-5257da3732d9"
      },
      "execution_count": null,
      "outputs": [
        {
          "name": "stdout",
          "output_type": "stream",
          "text": [
            "[2,1,4,3]\n",
            "2\n",
            "3\n"
          ]
        }
      ]
    },
    {
      "cell_type": "code",
      "source": [
        "def numSubarrayBoundedMax(A, L, R):\n",
        "        \n",
        "            start=count=cur=0\n",
        "            \n",
        "            for i in range(len(A)):\n",
        "                \n",
        "                if L <= A[i] <= R:\n",
        "                    cur=i-start+1\n",
        "                    \n",
        "                elif A[i] > R:\n",
        "                    cur=0\n",
        "                    start=i+1\n",
        "                    \n",
        "                count+=cur\n",
        "                \n",
        "            return count\n",
        "print(numSubarrayBoundedMax(A,L,R))"
      ],
      "metadata": {
        "colab": {
          "base_uri": "https://localhost:8080/"
        },
        "id": "AgpYUFIKJ6t6",
        "outputId": "dc1ad3dd-2927-460b-a8a1-b6cc4f8b94d8"
      },
      "execution_count": null,
      "outputs": [
        {
          "output_type": "stream",
          "name": "stdout",
          "text": [
            "3\n"
          ]
        }
      ]
    },
    {
      "cell_type": "markdown",
      "source": [
        "5."
      ],
      "metadata": {
        "id": "J8tIb6VJUAyp"
      }
    },
    {
      "cell_type": "code",
      "source": [
        "# Input:\n",
        "nums = [100,4,200,1,3,2]\n",
        "\n",
        "# Output:\n",
        "4"
      ],
      "metadata": {
        "id": "49J8rJmFUDNz",
        "colab": {
          "base_uri": "https://localhost:8080/"
        },
        "outputId": "132a85c7-46ce-4af1-82e2-e3442909c37c"
      },
      "execution_count": 182,
      "outputs": [
        {
          "output_type": "execute_result",
          "data": {
            "text/plain": [
              "4"
            ]
          },
          "metadata": {},
          "execution_count": 182
        }
      ]
    },
    {
      "cell_type": "code",
      "source": [
        "# nums=eval(input())\n",
        "nums = [100,4,200,1,3,2]\n",
        "def longestConsecutive(nums):\n",
        "  nums = sorted(nums)\n",
        "  cur = 0\n",
        "  mx = 0\n",
        "  for i in range(len(nums)-1):\n",
        "      if nums[i]!=nums[i+1]:\n",
        "          if nums[i+1] == nums[i]+1:\n",
        "              cur += 1\n",
        "          else:\n",
        "              mx = max(mx,cur)\n",
        "              cur = 0\n",
        "  return max(cur,mx)+1\n",
        "print(longestConsecutive(nums))"
      ],
      "metadata": {
        "colab": {
          "base_uri": "https://localhost:8080/"
        },
        "id": "nma0hEMMDeAh",
        "outputId": "c63c7636-dfb2-4e44-8de4-7282d8973fdc"
      },
      "execution_count": 188,
      "outputs": [
        {
          "output_type": "stream",
          "name": "stdout",
          "text": [
            "4\n"
          ]
        }
      ]
    },
    {
      "cell_type": "code",
      "source": [
        "aa=[1,2,3,4,300,400,101,102,103,104,105]#not completed \n",
        "# inn=0\n",
        "ll=[]\n",
        "\n",
        "for i in range(1,len(aa)-1):\n",
        "  # print(i)\n",
        " if aa[i]+1==aa[i+1]:\n",
        "   ll.append(i)\n",
        "print(ll)\n"
      ],
      "metadata": {
        "colab": {
          "base_uri": "https://localhost:8080/"
        },
        "id": "wyNtHZp32TSn",
        "outputId": "699599bf-060e-46bc-b894-56d22f09f68c"
      },
      "execution_count": 185,
      "outputs": [
        {
          "output_type": "stream",
          "name": "stdout",
          "text": [
            "[1, 2, 6, 7, 8, 9]\n"
          ]
        }
      ]
    },
    {
      "cell_type": "markdown",
      "source": [
        "6."
      ],
      "metadata": {
        "id": "r2FhxB5LkE7e"
      }
    },
    {
      "cell_type": "code",
      "source": [
        "prices = [7,1,5,3,6,4]\n",
        "output=5"
      ],
      "metadata": {
        "id": "6KH56CxnkEjB"
      },
      "execution_count": null,
      "outputs": []
    },
    {
      "cell_type": "code",
      "source": [
        "def maxProfit(prices):\n",
        "  left = 0 #Buy\n",
        "  right = 1 #Sell\n",
        "  max_profit = 0\n",
        "  while right < len(prices):\n",
        "      currentProfit = prices[right] - prices[left] #our current Profit\n",
        "      if prices[left] < prices[right]:\n",
        "          max_profit =max(currentProfit,max_profit)\n",
        "      else:\n",
        "          left = right\n",
        "      right += 1\n",
        "  return max_profit\n",
        "print(maxProfit(prices))"
      ],
      "metadata": {
        "colab": {
          "base_uri": "https://localhost:8080/"
        },
        "id": "Xls32FPcz4D1",
        "outputId": "787e83cc-be39-4d12-dc8c-387d9ba98c75"
      },
      "execution_count": null,
      "outputs": [
        {
          "output_type": "stream",
          "name": "stdout",
          "text": [
            "5\n"
          ]
        }
      ]
    },
    {
      "cell_type": "code",
      "source": [
        "l=0,1, , , ,\n",
        "r=1,2,3,4,5\n",
        "m=0, ,4,4,(5)"
      ],
      "metadata": {
        "id": "U-1lHm6Vy2-a"
      },
      "execution_count": null,
      "outputs": []
    },
    {
      "cell_type": "markdown",
      "source": [
        "we can also do that with min(prices) and find index of that in array and move forword from that index. whichever is highest difference that is yr answer."
      ],
      "metadata": {
        "id": "xBc0Waom5Dal"
      }
    },
    {
      "cell_type": "markdown",
      "source": [
        "7."
      ],
      "metadata": {
        "id": "7wEb7bYy1GQh"
      }
    },
    {
      "cell_type": "code",
      "source": [
        "# Input:\n",
        "nums = [1,12,-5,-6,50,3]\n",
        "k = 4\n",
        "\n",
        "# Output:\n",
        "12.75"
      ],
      "metadata": {
        "colab": {
          "base_uri": "https://localhost:8080/"
        },
        "id": "aBHQioRjqSkg",
        "outputId": "898961b5-163c-43f1-a243-533f96b54565"
      },
      "execution_count": null,
      "outputs": [
        {
          "output_type": "execute_result",
          "data": {
            "text/plain": [
              "12.75"
            ]
          },
          "metadata": {},
          "execution_count": 22
        }
      ]
    },
    {
      "cell_type": "code",
      "source": [
        "nums = [1,12,-5,-6,50,3]\n",
        "k = 4\n",
        "def findMaxAverage(nums, k):\n",
        "  listt=[]\n",
        "  for i in range((len(nums)-k)+1):\n",
        "    ll=0\n",
        "    for j in range(i,k+i):\n",
        "      ll+=nums[j]\n",
        "    listt.append(ll)\n",
        "  print(listt)\n",
        "  return max(listt)/k\n",
        "print(findMaxAverage(nums,k))"
      ],
      "metadata": {
        "colab": {
          "base_uri": "https://localhost:8080/"
        },
        "id": "azv9yBYI6Dh5",
        "outputId": "a6d63998-a14e-43b0-99e9-b50f34b10011"
      },
      "execution_count": null,
      "outputs": [
        {
          "output_type": "stream",
          "name": "stdout",
          "text": [
            "[2, 51, 42]\n",
            "12.75\n"
          ]
        }
      ]
    },
    {
      "cell_type": "markdown",
      "source": [
        "8. "
      ],
      "metadata": {
        "id": "yg_pTi01W4KS"
      }
    },
    {
      "cell_type": "code",
      "source": [
        "# Input:\n",
        "nums = [-4,-2,1,4,8]\n",
        "\n",
        "# Output:\n",
        "1"
      ],
      "metadata": {
        "colab": {
          "base_uri": "https://localhost:8080/"
        },
        "id": "Q-a1j0FTSJN6",
        "outputId": "13d515a8-8878-47ab-80cb-8125c8de8369"
      },
      "execution_count": null,
      "outputs": [
        {
          "output_type": "execute_result",
          "data": {
            "text/plain": [
              "1"
            ]
          },
          "metadata": {},
          "execution_count": 47
        }
      ]
    },
    {
      "cell_type": "code",
      "source": [
        "def findClosestNumber(nums):\n",
        "  pos_list=[]\n",
        "  for i in nums:\n",
        "    if i>=0:\n",
        "      pos_list.append(i)\n",
        "  return min(pos_list)\n",
        "print(findClosestNumber(nums))"
      ],
      "metadata": {
        "colab": {
          "base_uri": "https://localhost:8080/"
        },
        "id": "P-6q9d-QXI5n",
        "outputId": "e0f42c25-77f1-48f3-8830-d5ea58d9614b"
      },
      "execution_count": null,
      "outputs": [
        {
          "output_type": "stream",
          "name": "stdout",
          "text": [
            "1\n"
          ]
        }
      ]
    },
    {
      "cell_type": "markdown",
      "source": [
        "9."
      ],
      "metadata": {
        "id": "sIz5hqWVZLVz"
      }
    },
    {
      "cell_type": "code",
      "source": [
        "# input:\n",
        "arr = [40,10,20,30]\n",
        "\n",
        "# Output:\n",
        "[4,1,2,3]"
      ],
      "metadata": {
        "colab": {
          "base_uri": "https://localhost:8080/"
        },
        "id": "3V0VMoPDXupX",
        "outputId": "99ac8b2e-081c-424d-f783-a0c7eb8d1dbb"
      },
      "execution_count": null,
      "outputs": [
        {
          "output_type": "execute_result",
          "data": {
            "text/plain": [
              "[4, 1, 2, 3]"
            ]
          },
          "metadata": {},
          "execution_count": 60
        }
      ]
    },
    {
      "cell_type": "code",
      "source": [
        "arr = [40,10,20,30]\n",
        "def arrayRankTransform(arr):\n",
        "\tc = 1\n",
        "\td = dict()\n",
        "\tfor i in sorted(list(set(arr))):\n",
        "\t\td[i] = c\n",
        "\t\tc += 1\n",
        "\tfor i in range(len(arr)):\n",
        "\t\tarr[i] = d[arr[i]]\n",
        "\treturn arr\n",
        "\n",
        "print(arrayRankTransform(arr))"
      ],
      "metadata": {
        "colab": {
          "base_uri": "https://localhost:8080/"
        },
        "id": "_Ke2I5EIaTPt",
        "outputId": "dd78880c-a8a7-4776-efb0-964f80788ddb"
      },
      "execution_count": null,
      "outputs": [
        {
          "output_type": "stream",
          "name": "stdout",
          "text": [
            "[4, 1, 2, 3]\n"
          ]
        }
      ]
    },
    {
      "cell_type": "code",
      "source": [
        "d={10: 1, 20: 2, 30: 3, 40: 4}"
      ],
      "metadata": {
        "id": "2FjQyCGxdXNR"
      },
      "execution_count": null,
      "outputs": []
    },
    {
      "cell_type": "code",
      "source": [
        "d[20]"
      ],
      "metadata": {
        "colab": {
          "base_uri": "https://localhost:8080/"
        },
        "id": "1OIlofO3dd2X",
        "outputId": "a66d1089-7d5d-4091-c6b5-5335e6989537"
      },
      "execution_count": null,
      "outputs": [
        {
          "output_type": "execute_result",
          "data": {
            "text/plain": [
              "2"
            ]
          },
          "metadata": {},
          "execution_count": 58
        }
      ]
    },
    {
      "cell_type": "code",
      "source": [
        "arr[1]"
      ],
      "metadata": {
        "colab": {
          "base_uri": "https://localhost:8080/"
        },
        "id": "b77gM_TNeJA9",
        "outputId": "be19cccb-198e-4241-86ef-db3c430a19d4"
      },
      "execution_count": null,
      "outputs": [
        {
          "output_type": "execute_result",
          "data": {
            "text/plain": [
              "10"
            ]
          },
          "metadata": {},
          "execution_count": 61
        }
      ]
    },
    {
      "cell_type": "markdown",
      "source": [
        "10."
      ],
      "metadata": {
        "id": "M7m1Ky5QeeF_"
      }
    },
    {
      "cell_type": "code",
      "source": [
        "arr = [0,2,1,-6,6,-7,9,1,2,0,1]\n",
        "\n",
        "# Output:\n",
        "True"
      ],
      "metadata": {
        "colab": {
          "base_uri": "https://localhost:8080/"
        },
        "id": "GspAIxDQYBOB",
        "outputId": "203f889a-7bc8-4eb0-ca87-70fdd6542404"
      },
      "execution_count": null,
      "outputs": [
        {
          "output_type": "execute_result",
          "data": {
            "text/plain": [
              "True"
            ]
          },
          "metadata": {},
          "execution_count": 62
        }
      ]
    },
    {
      "cell_type": "code",
      "source": [
        "arr = [0,2,1,-6,6,-7,9,1,2,0,1]\n",
        "\n",
        "def canThreePartsEqualSum(arr):\n",
        "  total = sum(arr)\n",
        "  if total % 3 != 0:\n",
        "      return False\n",
        "  ave = total // 3\n",
        "  stage = 0\n",
        "  add = 0\n",
        "  for i in arr[:-1]:\n",
        "      add += i\n",
        "      if add == ave:\n",
        "          stage +=1\n",
        "          add = 0\n",
        "      if stage == 2:\n",
        "          return True\n",
        "  return False\n",
        "print(canThreePartsEqualSum(arr))"
      ],
      "metadata": {
        "colab": {
          "base_uri": "https://localhost:8080/"
        },
        "id": "gGkjAYxBei5x",
        "outputId": "e97405a2-1bb8-4cda-ad75-f72394635e33"
      },
      "execution_count": null,
      "outputs": [
        {
          "output_type": "stream",
          "name": "stdout",
          "text": [
            "True\n"
          ]
        }
      ]
    },
    {
      "cell_type": "code",
      "source": [
        "arr[:-1]"
      ],
      "metadata": {
        "colab": {
          "base_uri": "https://localhost:8080/"
        },
        "id": "M0-Q6iF3iQUB",
        "outputId": "a1135c40-ac1a-466f-e992-e5a1326709d3"
      },
      "execution_count": null,
      "outputs": [
        {
          "output_type": "execute_result",
          "data": {
            "text/plain": [
              "[0, 2, 1, -6, 6, -7, 9, 1, 2, 0]"
            ]
          },
          "metadata": {},
          "execution_count": 65
        }
      ]
    },
    {
      "cell_type": "code",
      "source": [],
      "metadata": {
        "id": "fkUOp1dTiP1Q"
      },
      "execution_count": null,
      "outputs": []
    },
    {
      "cell_type": "markdown",
      "source": [
        "11."
      ],
      "metadata": {
        "id": "lFJNheHKh3i-"
      }
    },
    {
      "cell_type": "code",
      "source": [
        "nums = [4,5,1,2,3]\n",
        "\n",
        "# Output:\n",
        "True"
      ],
      "metadata": {
        "id": "mHRLc5Z3hdeT",
        "colab": {
          "base_uri": "https://localhost:8080/"
        },
        "outputId": "054d2950-84c9-4f9f-91a1-309b2921e05f"
      },
      "execution_count": null,
      "outputs": [
        {
          "output_type": "execute_result",
          "data": {
            "text/plain": [
              "True"
            ]
          },
          "metadata": {},
          "execution_count": 125
        }
      ]
    },
    {
      "cell_type": "code",
      "source": [
        "def check(nums):\n",
        "  RI = 0\n",
        "  for i in range(1, len(nums)):\n",
        "      if(nums[i] < nums[i-1]):\n",
        "          RI = i\n",
        "          break\n",
        "      elif(i == len(nums)-1):\n",
        "          return True\n",
        "\n",
        "  for i in range(RI, len(nums)):\n",
        "      if(nums[i] > nums[0]):\n",
        "          return False\n",
        "      if(i == len(nums)-1):\n",
        "          return True\n",
        "      if(nums[i+1] < nums[i]):\n",
        "          return False\n",
        "print(check(nums)) #passed in test cases"
      ],
      "metadata": {
        "colab": {
          "base_uri": "https://localhost:8080/"
        },
        "id": "hTLuppxTs13i",
        "outputId": "cd7ea7f8-51c9-489a-ad41-ea29808d6737"
      },
      "execution_count": null,
      "outputs": [
        {
          "output_type": "stream",
          "name": "stdout",
          "text": [
            "True\n"
          ]
        }
      ]
    },
    {
      "cell_type": "code",
      "source": [
        "nums = [4,5,1,2,3]\n",
        "# the first element and last element are connected\n",
        "def chek(nums):\n",
        "  # nums.append(nums[0])\n",
        "  cnt = 0\n",
        "  for i in range(1, len(nums)):\n",
        "    if nums[i] < nums[i - 1]:\n",
        "      cnt += 1\n",
        "  return cnt <= 1\n",
        "print(chek(nums))"
      ],
      "metadata": {
        "colab": {
          "base_uri": "https://localhost:8080/"
        },
        "id": "E40WqPmXuZvU",
        "outputId": "5a9d838a-412d-4935-b4f9-06d798ad2c29"
      },
      "execution_count": null,
      "outputs": [
        {
          "output_type": "stream",
          "name": "stdout",
          "text": [
            "True\n"
          ]
        }
      ]
    },
    {
      "cell_type": "markdown",
      "source": [
        "12"
      ],
      "metadata": {
        "id": "Qft1JBSluBWg"
      }
    },
    {
      "cell_type": "code",
      "source": [
        "# Input:\n",
        "set1 = {1,2,2,1}\n",
        "set2 = {2,2,3}\n",
        "\n",
        "# Output:\n",
        "[2]"
      ],
      "metadata": {
        "colab": {
          "base_uri": "https://localhost:8080/"
        },
        "id": "iCRitnOSuBzT",
        "outputId": "4df87e0c-2ed2-4cb1-c1a3-c6f93109fbfb"
      },
      "execution_count": null,
      "outputs": [
        {
          "output_type": "execute_result",
          "data": {
            "text/plain": [
              "[2]"
            ]
          },
          "metadata": {},
          "execution_count": 148
        }
      ]
    },
    {
      "cell_type": "code",
      "source": [
        "set1 = {1,2,2,1}\n",
        "set2 = {2,2,3}\n",
        "def set_intersection(set1, set2):\n",
        "  listt=[]\n",
        "  for i in set1:\n",
        "    if i in set2:\n",
        "      listt.append(i)\n",
        "  return list(set(listt))\n",
        "print(set_intersection(set1,set2))"
      ],
      "metadata": {
        "colab": {
          "base_uri": "https://localhost:8080/"
        },
        "id": "MBZOG6qwuHtN",
        "outputId": "2cd19a5b-6824-40d7-e677-8aacead0b75d"
      },
      "execution_count": null,
      "outputs": [
        {
          "output_type": "stream",
          "name": "stdout",
          "text": [
            "[2]\n"
          ]
        }
      ]
    },
    {
      "cell_type": "markdown",
      "source": [
        "13"
      ],
      "metadata": {
        "id": "Sy-dAVgs_Z4N"
      }
    },
    {
      "cell_type": "code",
      "source": [
        "# Input:\n",
        "nums = [3,2,3]\n",
        "\n",
        "# Output:\n",
        "3"
      ],
      "metadata": {
        "colab": {
          "base_uri": "https://localhost:8080/"
        },
        "id": "2l-sGrUf_AAS",
        "outputId": "3d89a7c9-9f92-4113-a524-e369f6b684b7"
      },
      "execution_count": null,
      "outputs": [
        {
          "output_type": "execute_result",
          "data": {
            "text/plain": [
              "3"
            ]
          },
          "metadata": {},
          "execution_count": 152
        }
      ]
    },
    {
      "cell_type": "code",
      "source": [
        "nums.index(2)"
      ],
      "metadata": {
        "colab": {
          "base_uri": "https://localhost:8080/"
        },
        "id": "I_CTlq2RCLzH",
        "outputId": "2e60b676-e8a6-45fe-b093-9cbb62856611"
      },
      "execution_count": null,
      "outputs": [
        {
          "output_type": "execute_result",
          "data": {
            "text/plain": [
              "1"
            ]
          },
          "metadata": {},
          "execution_count": 165
        }
      ]
    },
    {
      "cell_type": "code",
      "source": [
        "nums.count(3)"
      ],
      "metadata": {
        "colab": {
          "base_uri": "https://localhost:8080/"
        },
        "id": "ZVfNMhqzAqSl",
        "outputId": "3fb7c1d8-d6ca-46c3-9a0f-ef59cac1f094"
      },
      "execution_count": null,
      "outputs": [
        {
          "output_type": "execute_result",
          "data": {
            "text/plain": [
              "2"
            ]
          },
          "metadata": {},
          "execution_count": 155
        }
      ]
    },
    {
      "cell_type": "code",
      "source": [
        "nums = [3,2,3]\n",
        "def majorityElement(nums):\n",
        "  return max(nums)\n",
        "print(majorityElement(nums))  #passed in testcases"
      ],
      "metadata": {
        "colab": {
          "base_uri": "https://localhost:8080/"
        },
        "id": "9_c5ONs76rI1",
        "outputId": "e282d2a4-6e8f-4f6b-cb2d-6e18a6f3c5ee"
      },
      "execution_count": 357,
      "outputs": [
        {
          "output_type": "stream",
          "name": "stdout",
          "text": [
            "3\n"
          ]
        }
      ]
    },
    {
      "cell_type": "code",
      "source": [
        "nums = [3,2,3,4,4,4]\n",
        "def majorityElement(nums):\n",
        "  count=[]\n",
        "  for i in nums:\n",
        "    count.append(nums.count(i))\n",
        "  # print(count)\n",
        "  return nums[count.index(max(count))]\n",
        "print(majorityElement(nums))"
      ],
      "metadata": {
        "colab": {
          "base_uri": "https://localhost:8080/"
        },
        "id": "vBorv1-aAFpI",
        "outputId": "55b23403-72fd-435a-f30f-44c856e22762"
      },
      "execution_count": 359,
      "outputs": [
        {
          "output_type": "stream",
          "name": "stdout",
          "text": [
            "4\n"
          ]
        }
      ]
    },
    {
      "cell_type": "code",
      "source": [
        "def CountFrequency(my_list):\n",
        " \n",
        "    # Creating an empty dictionary\n",
        "    freq = {}\n",
        "    for item in my_list:\n",
        "        if (item in freq):\n",
        "            freq[item] += 1\n",
        "        else:\n",
        "            freq[item] = 1\n",
        " \n",
        "    for key, value in freq.items():\n",
        "        print (\"% d : % d\"%(key, value))\n",
        "    return freq\n",
        " \n",
        "# # Driver function\n",
        "# if __name__ == \"__main__\":\n",
        "# my_list =[1, 1, 1, 5, 5, 3, 1, 3, 3, 1, 4, 4, 4, 2, 2, 2, 2]\n",
        "CountFrequency(nums)"
      ],
      "metadata": {
        "colab": {
          "base_uri": "https://localhost:8080/"
        },
        "id": "D5PJrhAYwcsl",
        "outputId": "b9b24157-d28d-4c1e-d818-61bfc3d18de3"
      },
      "execution_count": 360,
      "outputs": [
        {
          "output_type": "stream",
          "name": "stdout",
          "text": [
            " 3 :  2\n",
            " 2 :  1\n",
            " 4 :  3\n"
          ]
        },
        {
          "output_type": "execute_result",
          "data": {
            "text/plain": [
              "{3: 2, 2: 1, 4: 3}"
            ]
          },
          "metadata": {},
          "execution_count": 360
        }
      ]
    },
    {
      "cell_type": "code",
      "source": [
        "import collections\n",
        "nums= [3,2,3,4,4,4,3]\n",
        "def majorityElement(nums):\n",
        "  counter = collections.Counter(nums)\n",
        "  lll=[]\n",
        "  for i in counter.keys():\n",
        "    if counter[i]==max(counter.values()):\n",
        "      lll.append(i)\n",
        "  return lll\n",
        "print(majorityElement(nums))"
      ],
      "metadata": {
        "colab": {
          "base_uri": "https://localhost:8080/"
        },
        "id": "iBicT1D35LXK",
        "outputId": "4e6b1ef7-241e-45f7-cf58-a78a10a204f8"
      },
      "execution_count": 370,
      "outputs": [
        {
          "output_type": "stream",
          "name": "stdout",
          "text": [
            "[3, 4]\n"
          ]
        }
      ]
    },
    {
      "cell_type": "markdown",
      "source": [
        "14"
      ],
      "metadata": {
        "id": "SZhA5CoeDou7"
      }
    },
    {
      "cell_type": "code",
      "source": [
        "# Input:\n",
        "nums = [2,2,1,1,1,3]\n",
        "\n",
        "# Output:\n",
        "1"
      ],
      "metadata": {
        "id": "3TfkkZ6L_xpS",
        "colab": {
          "base_uri": "https://localhost:8080/"
        },
        "outputId": "61a20013-e6f5-4216-ace0-dfeb515c97b9"
      },
      "execution_count": 196,
      "outputs": [
        {
          "output_type": "execute_result",
          "data": {
            "text/plain": [
              "1"
            ]
          },
          "metadata": {},
          "execution_count": 196
        }
      ]
    },
    {
      "cell_type": "code",
      "source": [
        "nums = [2,2,1]\n",
        "def singleNumber(nums):\n",
        "  for i in nums:\n",
        "    if nums.count(i)==1:\n",
        "      return i\n",
        "print(singleNumber(nums))"
      ],
      "metadata": {
        "id": "1rQRlH4KD24f",
        "colab": {
          "base_uri": "https://localhost:8080/"
        },
        "outputId": "686692bd-17fe-4655-842e-a4553ebf8b65"
      },
      "execution_count": 200,
      "outputs": [
        {
          "output_type": "stream",
          "name": "stdout",
          "text": [
            "1\n"
          ]
        }
      ]
    },
    {
      "cell_type": "markdown",
      "source": [
        "15"
      ],
      "metadata": {
        "id": "_EaGx5u7dffq"
      }
    },
    {
      "cell_type": "code",
      "source": [
        "# Input:\n",
        "nums = [1,2,2,3,1]\n",
        "\n",
        "# Output:\n",
        "2\n"
      ],
      "metadata": {
        "colab": {
          "base_uri": "https://localhost:8080/"
        },
        "id": "0Z8eKWEXcgWd",
        "outputId": "b790bb72-0d2a-4cdb-82d9-307f2b3d417b"
      },
      "execution_count": 280,
      "outputs": [
        {
          "output_type": "execute_result",
          "data": {
            "text/plain": [
              "2"
            ]
          },
          "metadata": {},
          "execution_count": 280
        }
      ]
    },
    {
      "cell_type": "code",
      "source": [
        "nums.index(1)"
      ],
      "metadata": {
        "colab": {
          "base_uri": "https://localhost:8080/"
        },
        "id": "oyPixfUjinYK",
        "outputId": "703c9d13-ae20-4805-becd-feaff88e5f98"
      },
      "execution_count": 250,
      "outputs": [
        {
          "output_type": "execute_result",
          "data": {
            "text/plain": [
              "0"
            ]
          },
          "metadata": {},
          "execution_count": 250
        }
      ]
    },
    {
      "cell_type": "code",
      "source": [
        "nums[::-1].index(1)"
      ],
      "metadata": {
        "colab": {
          "base_uri": "https://localhost:8080/"
        },
        "id": "QZp4nBZP9QWL",
        "outputId": "5e8c6531-8ea3-46d0-ca26-10e2c047361f"
      },
      "execution_count": 383,
      "outputs": [
        {
          "output_type": "execute_result",
          "data": {
            "text/plain": [
              "0"
            ]
          },
          "metadata": {},
          "execution_count": 383
        }
      ]
    },
    {
      "cell_type": "code",
      "source": [
        "(len(nums)-nums[::-1].index(1))-1"
      ],
      "metadata": {
        "colab": {
          "base_uri": "https://localhost:8080/"
        },
        "id": "2eJ7wGvQmyB3",
        "outputId": "27674b4e-ca58-4f18-cdf6-5220e9939cb6"
      },
      "execution_count": 253,
      "outputs": [
        {
          "output_type": "execute_result",
          "data": {
            "text/plain": [
              "4"
            ]
          },
          "metadata": {},
          "execution_count": 253
        }
      ]
    },
    {
      "cell_type": "code",
      "source": [
        "import collections\n",
        "nums = [1,2,2,3,1]\n",
        "def findShortestSubArray(nums):\n",
        "  def majorityElement(nums):\n",
        "    counter = collections.Counter(nums)\n",
        "    lll=[]\n",
        "    for i in counter.keys():\n",
        "      if counter[i]==max(counter.values()):\n",
        "        lll.append(i)\n",
        "    return lll\n",
        "\n",
        "\n",
        "  listt=[]\n",
        "  for i in nums:\n",
        "    if i in majorityElement(nums):\n",
        "      index1=nums.index(i)\n",
        "      # print(index1)\n",
        "      index2=(len(nums)-nums[::-1].index(i))-1\n",
        "      # print('.',index2)\n",
        "      diff=(index2-index1)\n",
        "      if diff>0:\n",
        "        listt.append(diff)\n",
        "  return min(listt)+1\n",
        "print(findShortestSubArray(nums))"
      ],
      "metadata": {
        "colab": {
          "base_uri": "https://localhost:8080/"
        },
        "id": "zPuQSmzidm4f",
        "outputId": "9a220799-f552-4f4e-8a2b-b11c60aa673a"
      },
      "execution_count": 382,
      "outputs": [
        {
          "output_type": "stream",
          "name": "stdout",
          "text": [
            "2\n"
          ]
        }
      ]
    },
    {
      "cell_type": "markdown",
      "source": [
        "16"
      ],
      "metadata": {
        "id": "QwRzuY7x9x02"
      }
    },
    {
      "cell_type": "code",
      "source": [
        "piles = [3,6,7,11]\n",
        "\n",
        "h = 8\n",
        "\n",
        "# Output:\n",
        "4"
      ],
      "metadata": {
        "colab": {
          "base_uri": "https://localhost:8080/"
        },
        "id": "z1aRj60a2ynR",
        "outputId": "eaa6309e-87db-489c-98ad-a4132b46aa2f"
      },
      "execution_count": 8,
      "outputs": [
        {
          "output_type": "execute_result",
          "data": {
            "text/plain": [
              "4"
            ]
          },
          "metadata": {},
          "execution_count": 8
        }
      ]
    },
    {
      "cell_type": "code",
      "source": [
        "import math\n",
        "piles = [3,6,7,11]\n",
        "h = 8\n",
        "def minEatingSpeed(piles,h):\n",
        "  def totalHoursTaken(piles, k):\n",
        "      totalHours = 0\n",
        "      for pile in piles:\n",
        "          totalHours += math.ceil(pile / k)\n",
        "      return totalHours\n",
        "    \n",
        "\n",
        "  l, r = 1, max(piles)\n",
        "  while l < r:\n",
        "      mid = (l + r) // 2\n",
        "      if totalHoursTaken(piles, mid) > h:\n",
        "          l = mid + 1\n",
        "      else:\n",
        "          r = mid\n",
        "\n",
        "  return l\n",
        "print(minEatingSpeed(piles,h))"
      ],
      "metadata": {
        "colab": {
          "base_uri": "https://localhost:8080/"
        },
        "id": "mGT_W0nw-wOl",
        "outputId": "4c095558-e665-402c-ebe8-8c696501cb7f"
      },
      "execution_count": 404,
      "outputs": [
        {
          "output_type": "stream",
          "name": "stdout",
          "text": [
            "4\n"
          ]
        }
      ]
    },
    {
      "cell_type": "code",
      "source": [
        "import math\n",
        "piles = [3,6,7,11]\n",
        "h = 8\n",
        "def minEatingSpeed(piles, h):\n",
        "             \n",
        "    #init pointers on the range of K\n",
        "        left = 1                                #min K cannot be 0. Starting from 1\n",
        "        right = max(piles)\n",
        "        sol = right\n",
        "        \n",
        "    #Apply binary search on the range of K. If mid K is less than hours, We can try for next best minimum value.\n",
        "        \n",
        "        while (left <= right):\n",
        "            \n",
        "            mid_K = ( left + right ) // 2\n",
        "            hours_spent = 0\n",
        "          \n",
        "    #hours_spent = work (i.e. bananas) / rate \n",
        "        \n",
        "            for pile in piles:\n",
        "                hours_spent += math.ceil(pile / mid_K)\n",
        "\n",
        "            if hours_spent <= h:\n",
        "                sol = mid_K\n",
        "                right = mid_K - 1\n",
        "            else:\n",
        "                left = mid_K + 1\n",
        "            \n",
        "        return sol\n",
        "print(minEatingSpeed(piles,h))"
      ],
      "metadata": {
        "colab": {
          "base_uri": "https://localhost:8080/"
        },
        "id": "CMRHLgrSCxzq",
        "outputId": "0ac24700-31a0-4192-bfa8-ae02b9600e2a"
      },
      "execution_count": 408,
      "outputs": [
        {
          "output_type": "stream",
          "name": "stdout",
          "text": [
            "4\n"
          ]
        }
      ]
    },
    {
      "cell_type": "code",
      "source": [
        "import math"
      ],
      "metadata": {
        "id": "lnoGXV1FHQEj"
      },
      "execution_count": 3,
      "outputs": []
    },
    {
      "cell_type": "code",
      "source": [
        "math.ceil(16/5)"
      ],
      "metadata": {
        "colab": {
          "base_uri": "https://localhost:8080/"
        },
        "id": "xGCD7KklHDU5",
        "outputId": "db9c8bcd-0831-4c57-8550-cb9800a36921"
      },
      "execution_count": 7,
      "outputs": [
        {
          "output_type": "execute_result",
          "data": {
            "text/plain": [
              "4"
            ]
          },
          "metadata": {},
          "execution_count": 7
        }
      ]
    },
    {
      "cell_type": "code",
      "source": [
        "piles = [3,6,7,11]\n",
        "h = 8\n",
        "import math\n",
        "def minEatingSpeed(piles, h):\n",
        "        # brute force approch\n",
        "        # from 1 to max of piles check for eack number\n",
        "        # if total time takes is less than equal to the given time store\n",
        "        # keep the loop untill the min is found\n",
        "        ans = float('inf')\n",
        "        \n",
        "        for i in range(1,max(piles) + 1):\n",
        "            \n",
        "            currAns = 0\n",
        "            for ele in piles:\n",
        "                currAns += math.ceil(ele / i)\n",
        "                \n",
        "            if currAns <= h:\n",
        "                ans = min(ans,i)\n",
        "            \n",
        "        return ans\n",
        "print(minEatingSpeed(piles,h))"
      ],
      "metadata": {
        "colab": {
          "base_uri": "https://localhost:8080/"
        },
        "id": "q1vUvLN1CQOb",
        "outputId": "ad3de957-aad1-4600-d08a-d72cc039c9b3"
      },
      "execution_count": 15,
      "outputs": [
        {
          "output_type": "stream",
          "name": "stdout",
          "text": [
            "4\n"
          ]
        }
      ]
    },
    {
      "cell_type": "markdown",
      "source": [
        "17"
      ],
      "metadata": {
        "id": "W5GbNtQ6KnNS"
      }
    },
    {
      "cell_type": "code",
      "source": [
        "arr = [1,2,3,4,5]\n",
        "\n",
        "k = 5\n",
        "\n",
        "x = 4\n",
        "\n",
        "# Output:\n",
        "[1, 2, 3, 4]"
      ],
      "metadata": {
        "id": "ool1BR5fEvSK"
      },
      "execution_count": null,
      "outputs": []
    },
    {
      "cell_type": "code",
      "source": [
        "arr = [1,2,3,4,5] #passed in TC with commenting of input\n",
        "k = 4\n",
        "x = 3\n",
        "def findClosestElements(arr, k, x):\n",
        "  arr=sorted(arr)\n",
        "  tt=[]\n",
        "  for i in range(len(arr)):\n",
        "    if x<0:\n",
        "      for j in range(i,k):\n",
        "        tt.append(arr[j])\n",
        "    else :\n",
        "      for l in range(i,k):\n",
        "        tt.append(arr[l])\n",
        "  return list(set(tt))\n",
        "print(findClosestElements(arr,k,x))"
      ],
      "metadata": {
        "colab": {
          "base_uri": "https://localhost:8080/"
        },
        "id": "eiXsAIEDKouE",
        "outputId": "22c1d03f-c330-4866-950f-2c8c7bec2670"
      },
      "execution_count": 69,
      "outputs": [
        {
          "output_type": "stream",
          "name": "stdout",
          "text": [
            "[1, 2, 3, 4]\n"
          ]
        }
      ]
    },
    {
      "cell_type": "markdown",
      "source": [
        "18"
      ],
      "metadata": {
        "id": "OiRiM8H3jm36"
      }
    },
    {
      "cell_type": "code",
      "source": [
        "# Input:\n",
        "nums1 = [4,1,2]\n",
        "\n",
        "nums2 = [1,3,4,2]\n",
        "\n",
        "# Output:\n",
        "[-1,3,-1]"
      ],
      "metadata": {
        "colab": {
          "base_uri": "https://localhost:8080/"
        },
        "id": "LnQP33i3NbJ9",
        "outputId": "4c28b0f6-d76e-43da-8934-78e8cf0f3113"
      },
      "execution_count": 71,
      "outputs": [
        {
          "output_type": "execute_result",
          "data": {
            "text/plain": [
              "[-1, 3, -1]"
            ]
          },
          "metadata": {},
          "execution_count": 71
        }
      ]
    },
    {
      "cell_type": "code",
      "source": [
        "nums1[-1]"
      ],
      "metadata": {
        "colab": {
          "base_uri": "https://localhost:8080/"
        },
        "id": "EjmTIBYNpZbB",
        "outputId": "37d1e026-a076-4b86-bc43-852c4f3bbfa7"
      },
      "execution_count": 72,
      "outputs": [
        {
          "output_type": "execute_result",
          "data": {
            "text/plain": [
              "2"
            ]
          },
          "metadata": {},
          "execution_count": 72
        }
      ]
    },
    {
      "cell_type": "code",
      "source": [
        "nums1 = [4,1,2]\n",
        "nums2 = [1,3,4,2]\n",
        "\n",
        "def nextGreaterElement(nums1, nums2):\n",
        "  ll=[]\n",
        "  for i in nums1:\n",
        "    if i in nums2:\n",
        "      ind=nums2.index(i)\n",
        "      if ind!=(len(nums2)-1):\n",
        "        if nums2[ind]<nums2[ind+1]:\n",
        "          ll.append(nums2[ind+1])\n",
        "        else:\n",
        "          ll.append(-1)\n",
        "      else :\n",
        "        ll.append(-1)\n",
        "    else:\n",
        "      ll.append(-1)\n",
        "  return ll\n",
        "print(nextGreaterElement(nums1,nums2))\n"
      ],
      "metadata": {
        "colab": {
          "base_uri": "https://localhost:8080/"
        },
        "id": "GzSGFDpVjvaM",
        "outputId": "584244aa-bd27-4a4e-d919-f2f77bc62040"
      },
      "execution_count": 83,
      "outputs": [
        {
          "output_type": "stream",
          "name": "stdout",
          "text": [
            "[-1, 3, -1]\n"
          ]
        }
      ]
    },
    {
      "cell_type": "code",
      "source": [],
      "metadata": {
        "id": "mJNnY_bdo95W"
      },
      "execution_count": null,
      "outputs": []
    },
    {
      "cell_type": "code",
      "source": [],
      "metadata": {
        "id": "oNqoaTKYw8bH"
      },
      "execution_count": null,
      "outputs": []
    },
    {
      "cell_type": "code",
      "source": [],
      "metadata": {
        "id": "Z3nALenPw8tu"
      },
      "execution_count": null,
      "outputs": []
    },
    {
      "cell_type": "code",
      "source": [],
      "metadata": {
        "id": "zltykKNtw87K"
      },
      "execution_count": null,
      "outputs": []
    },
    {
      "cell_type": "code",
      "source": [],
      "metadata": {
        "id": "VfMLJMk3w9Ga"
      },
      "execution_count": null,
      "outputs": []
    },
    {
      "cell_type": "code",
      "source": [],
      "metadata": {
        "id": "nDEp-q_4w9S7"
      },
      "execution_count": null,
      "outputs": []
    },
    {
      "cell_type": "code",
      "source": [],
      "metadata": {
        "id": "VBXgORJ_w9fO"
      },
      "execution_count": null,
      "outputs": []
    },
    {
      "cell_type": "code",
      "source": [],
      "metadata": {
        "id": "NHwulhv6w-Mb"
      },
      "execution_count": null,
      "outputs": []
    },
    {
      "cell_type": "code",
      "source": [],
      "metadata": {
        "id": "8p5KNWDTw-ng"
      },
      "execution_count": null,
      "outputs": []
    },
    {
      "cell_type": "code",
      "source": [],
      "metadata": {
        "id": "Sy73GQyow-82"
      },
      "execution_count": null,
      "outputs": []
    },
    {
      "cell_type": "code",
      "source": [],
      "metadata": {
        "id": "gOIMpIKPw_IC"
      },
      "execution_count": null,
      "outputs": []
    },
    {
      "cell_type": "code",
      "source": [],
      "metadata": {
        "id": "ooR9CZktw_Ug"
      },
      "execution_count": null,
      "outputs": []
    },
    {
      "cell_type": "code",
      "source": [],
      "metadata": {
        "id": "UIb7D7APw_fi"
      },
      "execution_count": null,
      "outputs": []
    },
    {
      "cell_type": "code",
      "source": [],
      "metadata": {
        "id": "R9bUnzFFw_on"
      },
      "execution_count": null,
      "outputs": []
    },
    {
      "cell_type": "code",
      "source": [],
      "metadata": {
        "id": "huDSe8tjw_zW"
      },
      "execution_count": null,
      "outputs": []
    },
    {
      "cell_type": "markdown",
      "source": [
        "Recursion:"
      ],
      "metadata": {
        "id": "sFJ8lF4TysDk"
      }
    },
    {
      "cell_type": "code",
      "source": [
        "def pi(a,b):\n",
        "  if a>b:\n",
        "    return\n",
        "  print(a)\n",
        "  pi(a+1,b)\n",
        "pi(2,8)"
      ],
      "metadata": {
        "colab": {
          "base_uri": "https://localhost:8080/"
        },
        "id": "bqdxjGjHxB62",
        "outputId": "ae9ee39a-8a55-4695-8b53-4f2ea7ef99cb"
      },
      "execution_count": 2,
      "outputs": [
        {
          "output_type": "stream",
          "name": "stdout",
          "text": [
            "2\n",
            "3\n",
            "4\n",
            "5\n",
            "6\n",
            "7\n",
            "8\n"
          ]
        }
      ]
    },
    {
      "cell_type": "code",
      "source": [
        "def pd(a,b):\n",
        "  if a>b:\n",
        "    return\n",
        "  pd(a+1,b)\n",
        "  print(a)\n",
        "pd(2,8)"
      ],
      "metadata": {
        "colab": {
          "base_uri": "https://localhost:8080/"
        },
        "id": "W4BuFi8oxgtQ",
        "outputId": "2d032409-87c2-4132-f460-b421c4f74f86"
      },
      "execution_count": 6,
      "outputs": [
        {
          "output_type": "stream",
          "name": "stdout",
          "text": [
            "8\n",
            "7\n",
            "6\n",
            "5\n",
            "4\n",
            "3\n",
            "2\n"
          ]
        }
      ]
    },
    {
      "cell_type": "code",
      "source": [
        "def pi(a,b):\n",
        "  if a>b:\n",
        "    return\n",
        "  print(a)\n",
        "  pi(a+1,b)\n",
        "pi(2,8)"
      ],
      "metadata": {
        "id": "PnDXthzqyXq5"
      },
      "execution_count": null,
      "outputs": []
    }
  ]
}