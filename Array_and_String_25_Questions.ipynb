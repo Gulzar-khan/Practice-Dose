{
  "nbformat": 4,
  "nbformat_minor": 0,
  "metadata": {
    "colab": {
      "name": "Array and String 25 Questions.ipynb",
      "provenance": [],
      "collapsed_sections": [],
      "authorship_tag": "ABX9TyPgwOj+X3bwi/DFEas8UB/b"
    },
    "kernelspec": {
      "name": "python3",
      "display_name": "Python 3"
    },
    "language_info": {
      "name": "python"
    }
  },
  "cells": [
    {
      "cell_type": "markdown",
      "source": [
        "Array  and string\n"
      ],
      "metadata": {
        "id": "9bGiW_rM0xnr"
      }
    },
    {
      "cell_type": "code",
      "source": [
        "# arr=eval(input())\n",
        "# k=int(input())\n",
        "k=5\n",
        "arr=[2,3,4,7,11]\n",
        "def findKthPositive(arr, k):\n",
        "  arr=sorted(arr)\n",
        "  res=[]\n",
        "  for i in range(max(arr)):\n",
        "    if i not in arr:\n",
        "      res.append(i)\n",
        "  return res[k]\n",
        "\n",
        "print(findKthPositive(arr, k))"
      ],
      "metadata": {
        "colab": {
          "base_uri": "https://localhost:8080/"
        },
        "id": "9gLFJwh_0xJE",
        "outputId": "fe09747a-3e70-4422-965d-51dc082e88a3"
      },
      "execution_count": null,
      "outputs": [
        {
          "output_type": "stream",
          "name": "stdout",
          "text": [
            "9\n"
          ]
        }
      ]
    },
    {
      "cell_type": "markdown",
      "source": [
        "2."
      ],
      "metadata": {
        "id": "b3gKCZYNcR2Q"
      }
    },
    {
      "cell_type": "code",
      "source": [
        "digits = [1,2,3,4]\n",
        "def plusOne(digits):\n",
        "  digit=[]\n",
        "  for i in digits:\n",
        "    if i==len(digits):\n",
        "      i=i+1\n",
        "      digit.append(i)\n",
        "    else:\n",
        "      digit.append(i)\n",
        "  return digit\n",
        "print(plusOne(digits))"
      ],
      "metadata": {
        "colab": {
          "base_uri": "https://localhost:8080/"
        },
        "id": "5iHV44R7cTqb",
        "outputId": "72d85a20-3d50-4e01-e344-c5658a8afcb5"
      },
      "execution_count": null,
      "outputs": [
        {
          "output_type": "stream",
          "name": "stdout",
          "text": [
            "[1, 2, 3, 5]\n"
          ]
        }
      ]
    },
    {
      "cell_type": "code",
      "source": [
        "digits = [1,2,3,9]\n",
        "def plusOne(digits):\n",
        "  st=''\n",
        "  for i in digits:\n",
        "    st=st+str(i)\n",
        "    ab=str(int(st)+1)\n",
        "  ls=[]\n",
        "  for j in ab:\n",
        "    ls.append(int(j))\n",
        "  return ls\n",
        "\n",
        "print(plusOne(digits))"
      ],
      "metadata": {
        "colab": {
          "base_uri": "https://localhost:8080/"
        },
        "id": "I5nEeiaXmkiH",
        "outputId": "021213b2-14e3-48b7-9e45-15ecf49cdd01"
      },
      "execution_count": null,
      "outputs": [
        {
          "output_type": "stream",
          "name": "stdout",
          "text": [
            "[1, 2, 4, 0]\n"
          ]
        }
      ]
    },
    {
      "cell_type": "markdown",
      "source": [
        "3."
      ],
      "metadata": {
        "id": "hRdwxbHwHujA"
      }
    },
    {
      "cell_type": "code",
      "source": [
        "A = [2,1,2]\n",
        "def largestPerimeter(A):\n",
        "  return(sum(A))\n",
        "print(largestPerimeter(A))"
      ],
      "metadata": {
        "colab": {
          "base_uri": "https://localhost:8080/"
        },
        "id": "mgyhL-3zIFo8",
        "outputId": "6340d156-2afd-4da8-a527-0182b4a6c07b"
      },
      "execution_count": null,
      "outputs": [
        {
          "output_type": "stream",
          "name": "stdout",
          "text": [
            "5\n"
          ]
        }
      ]
    },
    {
      "cell_type": "markdown",
      "source": [
        "4."
      ],
      "metadata": {
        "id": "G_W8OcpbJ8aQ"
      }
    },
    {
      "cell_type": "code",
      "source": [
        "Input:\n",
        "A = [2,1,4,3]\n",
        "L=2\n",
        "R=3\n",
        "Output:\n",
        "3"
      ],
      "metadata": {
        "id": "EayBAqOkHtte"
      },
      "execution_count": null,
      "outputs": []
    },
    {
      "cell_type": "code",
      "source": [
        "A=eval(input())\n",
        "L=int(input())\n",
        "R=int(input())"
      ],
      "metadata": {
        "colab": {
          "base_uri": "https://localhost:8080/"
        },
        "id": "ir-m7XBUEq1Z",
        "outputId": "7cfe4632-0309-4f22-880c-5257da3732d9"
      },
      "execution_count": null,
      "outputs": [
        {
          "name": "stdout",
          "output_type": "stream",
          "text": [
            "[2,1,4,3]\n",
            "2\n",
            "3\n"
          ]
        }
      ]
    },
    {
      "cell_type": "code",
      "source": [
        "def numSubarrayBoundedMax(A, L, R):\n",
        "        \n",
        "            start=count=cur=0\n",
        "            \n",
        "            for i in range(len(A)):\n",
        "                \n",
        "                if L <= A[i] <= R:\n",
        "                    cur=i-start+1\n",
        "                    \n",
        "                elif A[i] > R:\n",
        "                    cur=0\n",
        "                    start=i+1\n",
        "                    \n",
        "                count+=cur\n",
        "                \n",
        "            return count\n",
        "print(numSubarrayBoundedMax(A,L,R))"
      ],
      "metadata": {
        "colab": {
          "base_uri": "https://localhost:8080/"
        },
        "id": "AgpYUFIKJ6t6",
        "outputId": "dc1ad3dd-2927-460b-a8a1-b6cc4f8b94d8"
      },
      "execution_count": null,
      "outputs": [
        {
          "output_type": "stream",
          "name": "stdout",
          "text": [
            "3\n"
          ]
        }
      ]
    },
    {
      "cell_type": "markdown",
      "source": [
        "5."
      ],
      "metadata": {
        "id": "J8tIb6VJUAyp"
      }
    },
    {
      "cell_type": "code",
      "source": [
        "Input:\n",
        "nums = [100,4,200,1,3,2]\n",
        "\n",
        "Output:\n",
        "4"
      ],
      "metadata": {
        "id": "49J8rJmFUDNz"
      },
      "execution_count": null,
      "outputs": []
    },
    {
      "cell_type": "code",
      "source": [
        "# nums=eval(input())\n",
        "def longestConsecutive(nums):\n",
        "\n",
        "  return \n",
        "print(longestConsecutive(nums))"
      ],
      "metadata": {
        "colab": {
          "base_uri": "https://localhost:8080/"
        },
        "id": "nma0hEMMDeAh",
        "outputId": "3fa0aa1d-242b-4af9-cf76-cc02766caea9"
      },
      "execution_count": null,
      "outputs": [
        {
          "output_type": "execute_result",
          "data": {
            "text/plain": [
              "3"
            ]
          },
          "metadata": {},
          "execution_count": 15
        }
      ]
    },
    {
      "cell_type": "code",
      "source": [
        "aa=[1,2,3,4,300,400,101,102,103,104,105]\n",
        "# inn=0\n",
        "ll=[]\n",
        "\n",
        "for i in range(len(aa)):\n",
        "  # print(i)\n",
        " if aa[i]+1==aa[i+1]:\n",
        "   ll.append(i)\n",
        "print(ll)\n"
      ],
      "metadata": {
        "colab": {
          "base_uri": "https://localhost:8080/",
          "height": 244
        },
        "id": "wyNtHZp32TSn",
        "outputId": "41480392-e9b0-452e-e27d-e309d04062c4"
      },
      "execution_count": null,
      "outputs": [
        {
          "output_type": "error",
          "ename": "IndexError",
          "evalue": "ignored",
          "traceback": [
            "\u001b[0;31m---------------------------------------------------------------------------\u001b[0m",
            "\u001b[0;31mIndexError\u001b[0m                                Traceback (most recent call last)",
            "\u001b[0;32m<ipython-input-95-93d569f6b677>\u001b[0m in \u001b[0;36m<module>\u001b[0;34m\u001b[0m\n\u001b[1;32m      5\u001b[0m \u001b[0;32mfor\u001b[0m \u001b[0mi\u001b[0m \u001b[0;32min\u001b[0m \u001b[0mrange\u001b[0m\u001b[0;34m(\u001b[0m\u001b[0mlen\u001b[0m\u001b[0;34m(\u001b[0m\u001b[0maa\u001b[0m\u001b[0;34m)\u001b[0m\u001b[0;34m)\u001b[0m\u001b[0;34m:\u001b[0m\u001b[0;34m\u001b[0m\u001b[0;34m\u001b[0m\u001b[0m\n\u001b[1;32m      6\u001b[0m   \u001b[0;31m# print(i)\u001b[0m\u001b[0;34m\u001b[0m\u001b[0;34m\u001b[0m\u001b[0;34m\u001b[0m\u001b[0m\n\u001b[0;32m----> 7\u001b[0;31m  \u001b[0;32mif\u001b[0m \u001b[0maa\u001b[0m\u001b[0;34m[\u001b[0m\u001b[0mi\u001b[0m\u001b[0;34m]\u001b[0m\u001b[0;34m+\u001b[0m\u001b[0;36m1\u001b[0m\u001b[0;34m==\u001b[0m\u001b[0maa\u001b[0m\u001b[0;34m[\u001b[0m\u001b[0mi\u001b[0m\u001b[0;34m+\u001b[0m\u001b[0;36m1\u001b[0m\u001b[0;34m]\u001b[0m\u001b[0;34m:\u001b[0m\u001b[0;34m\u001b[0m\u001b[0;34m\u001b[0m\u001b[0m\n\u001b[0m\u001b[1;32m      8\u001b[0m    \u001b[0mll\u001b[0m\u001b[0;34m.\u001b[0m\u001b[0mappend\u001b[0m\u001b[0;34m(\u001b[0m\u001b[0mi\u001b[0m\u001b[0;34m)\u001b[0m\u001b[0;34m\u001b[0m\u001b[0;34m\u001b[0m\u001b[0m\n\u001b[1;32m      9\u001b[0m \u001b[0mprint\u001b[0m\u001b[0;34m(\u001b[0m\u001b[0mll\u001b[0m\u001b[0;34m)\u001b[0m\u001b[0;34m\u001b[0m\u001b[0;34m\u001b[0m\u001b[0m\n",
            "\u001b[0;31mIndexError\u001b[0m: list index out of range"
          ]
        }
      ]
    },
    {
      "cell_type": "markdown",
      "source": [
        "6."
      ],
      "metadata": {
        "id": "r2FhxB5LkE7e"
      }
    },
    {
      "cell_type": "code",
      "source": [
        "prices = [7,1,5,3,6,4]\n",
        "output=5"
      ],
      "metadata": {
        "id": "6KH56CxnkEjB"
      },
      "execution_count": null,
      "outputs": []
    },
    {
      "cell_type": "code",
      "source": [
        "def maxProfit(prices):\n",
        "  left = 0 #Buy\n",
        "  right = 1 #Sell\n",
        "  max_profit = 0\n",
        "  while right < len(prices):\n",
        "      currentProfit = prices[right] - prices[left] #our current Profit\n",
        "      if prices[left] < prices[right]:\n",
        "          max_profit =max(currentProfit,max_profit)\n",
        "      else:\n",
        "          left = right\n",
        "      right += 1\n",
        "  return max_profit\n",
        "print(maxProfit(prices))"
      ],
      "metadata": {
        "colab": {
          "base_uri": "https://localhost:8080/"
        },
        "id": "Xls32FPcz4D1",
        "outputId": "787e83cc-be39-4d12-dc8c-387d9ba98c75"
      },
      "execution_count": null,
      "outputs": [
        {
          "output_type": "stream",
          "name": "stdout",
          "text": [
            "5\n"
          ]
        }
      ]
    },
    {
      "cell_type": "code",
      "source": [
        "l=0,1, , , ,\n",
        "r=1,2,3,4,5\n",
        "m=0, ,4,4,(5)"
      ],
      "metadata": {
        "id": "U-1lHm6Vy2-a"
      },
      "execution_count": null,
      "outputs": []
    },
    {
      "cell_type": "markdown",
      "source": [
        "we can also do that with min(prices) and find index of that in array and move forword from that index. whichever is highest difference that is yr answer."
      ],
      "metadata": {
        "id": "xBc0Waom5Dal"
      }
    },
    {
      "cell_type": "markdown",
      "source": [
        "7."
      ],
      "metadata": {
        "id": "7wEb7bYy1GQh"
      }
    },
    {
      "cell_type": "code",
      "source": [
        "# Input:\n",
        "nums = [1,12,-5,-6,50,3]\n",
        "k = 4\n",
        "\n",
        "# Output:\n",
        "12.75"
      ],
      "metadata": {
        "colab": {
          "base_uri": "https://localhost:8080/"
        },
        "id": "aBHQioRjqSkg",
        "outputId": "898961b5-163c-43f1-a243-533f96b54565"
      },
      "execution_count": null,
      "outputs": [
        {
          "output_type": "execute_result",
          "data": {
            "text/plain": [
              "12.75"
            ]
          },
          "metadata": {},
          "execution_count": 22
        }
      ]
    },
    {
      "cell_type": "code",
      "source": [
        "nums = [1,12,-5,-6,50,3]\n",
        "k = 4\n",
        "def findMaxAverage(nums, k):\n",
        "  listt=[]\n",
        "  for i in range((len(nums)-k)+1):\n",
        "    ll=0\n",
        "    for j in range(i,k+i):\n",
        "      ll+=nums[j]\n",
        "    listt.append(ll)\n",
        "  print(listt)\n",
        "  return max(listt)/k\n",
        "print(findMaxAverage(nums,k))"
      ],
      "metadata": {
        "colab": {
          "base_uri": "https://localhost:8080/"
        },
        "id": "azv9yBYI6Dh5",
        "outputId": "a6d63998-a14e-43b0-99e9-b50f34b10011"
      },
      "execution_count": null,
      "outputs": [
        {
          "output_type": "stream",
          "name": "stdout",
          "text": [
            "[2, 51, 42]\n",
            "12.75\n"
          ]
        }
      ]
    },
    {
      "cell_type": "markdown",
      "source": [
        "8. "
      ],
      "metadata": {
        "id": "yg_pTi01W4KS"
      }
    },
    {
      "cell_type": "code",
      "source": [
        "# Input:\n",
        "nums = [-4,-2,1,4,8]\n",
        "\n",
        "# Output:\n",
        "1"
      ],
      "metadata": {
        "colab": {
          "base_uri": "https://localhost:8080/"
        },
        "id": "Q-a1j0FTSJN6",
        "outputId": "13d515a8-8878-47ab-80cb-8125c8de8369"
      },
      "execution_count": null,
      "outputs": [
        {
          "output_type": "execute_result",
          "data": {
            "text/plain": [
              "1"
            ]
          },
          "metadata": {},
          "execution_count": 47
        }
      ]
    },
    {
      "cell_type": "code",
      "source": [
        "def findClosestNumber(nums):\n",
        "  pos_list=[]\n",
        "  for i in nums:\n",
        "    if i>=0:\n",
        "      pos_list.append(i)\n",
        "  return min(pos_list)\n",
        "print(findClosestNumber(nums))"
      ],
      "metadata": {
        "colab": {
          "base_uri": "https://localhost:8080/"
        },
        "id": "P-6q9d-QXI5n",
        "outputId": "e0f42c25-77f1-48f3-8830-d5ea58d9614b"
      },
      "execution_count": null,
      "outputs": [
        {
          "output_type": "stream",
          "name": "stdout",
          "text": [
            "1\n"
          ]
        }
      ]
    },
    {
      "cell_type": "markdown",
      "source": [
        "9."
      ],
      "metadata": {
        "id": "sIz5hqWVZLVz"
      }
    },
    {
      "cell_type": "code",
      "source": [
        "# input:\n",
        "arr = [40,10,20,30]\n",
        "\n",
        "# Output:\n",
        "[4,1,2,3]"
      ],
      "metadata": {
        "colab": {
          "base_uri": "https://localhost:8080/"
        },
        "id": "3V0VMoPDXupX",
        "outputId": "99ac8b2e-081c-424d-f783-a0c7eb8d1dbb"
      },
      "execution_count": 60,
      "outputs": [
        {
          "output_type": "execute_result",
          "data": {
            "text/plain": [
              "[4, 1, 2, 3]"
            ]
          },
          "metadata": {},
          "execution_count": 60
        }
      ]
    },
    {
      "cell_type": "code",
      "source": [
        "arr = [40,10,20,30]\n",
        "def arrayRankTransform(arr):\n",
        "\tc = 1\n",
        "\td = dict()\n",
        "\tfor i in sorted(list(set(arr))):\n",
        "\t\td[i] = c\n",
        "\t\tc += 1\n",
        "\tfor i in range(len(arr)):\n",
        "\t\tarr[i] = d[arr[i]]\n",
        "\treturn arr\n",
        "\n",
        "print(arrayRankTransform(arr))"
      ],
      "metadata": {
        "colab": {
          "base_uri": "https://localhost:8080/"
        },
        "id": "_Ke2I5EIaTPt",
        "outputId": "dd78880c-a8a7-4776-efb0-964f80788ddb"
      },
      "execution_count": 48,
      "outputs": [
        {
          "output_type": "stream",
          "name": "stdout",
          "text": [
            "[4, 1, 2, 3]\n"
          ]
        }
      ]
    },
    {
      "cell_type": "code",
      "source": [
        "d={10: 1, 20: 2, 30: 3, 40: 4}"
      ],
      "metadata": {
        "id": "2FjQyCGxdXNR"
      },
      "execution_count": 53,
      "outputs": []
    },
    {
      "cell_type": "code",
      "source": [
        "d[20]"
      ],
      "metadata": {
        "colab": {
          "base_uri": "https://localhost:8080/"
        },
        "id": "1OIlofO3dd2X",
        "outputId": "a66d1089-7d5d-4091-c6b5-5335e6989537"
      },
      "execution_count": 58,
      "outputs": [
        {
          "output_type": "execute_result",
          "data": {
            "text/plain": [
              "2"
            ]
          },
          "metadata": {},
          "execution_count": 58
        }
      ]
    },
    {
      "cell_type": "code",
      "source": [
        "arr[1]"
      ],
      "metadata": {
        "colab": {
          "base_uri": "https://localhost:8080/"
        },
        "id": "b77gM_TNeJA9",
        "outputId": "be19cccb-198e-4241-86ef-db3c430a19d4"
      },
      "execution_count": 61,
      "outputs": [
        {
          "output_type": "execute_result",
          "data": {
            "text/plain": [
              "10"
            ]
          },
          "metadata": {},
          "execution_count": 61
        }
      ]
    },
    {
      "cell_type": "markdown",
      "source": [
        "10."
      ],
      "metadata": {
        "id": "M7m1Ky5QeeF_"
      }
    },
    {
      "cell_type": "code",
      "source": [
        "arr = [0,2,1,-6,6,-7,9,1,2,0,1]\n",
        "\n",
        "# Output:\n",
        "True"
      ],
      "metadata": {
        "colab": {
          "base_uri": "https://localhost:8080/"
        },
        "id": "GspAIxDQYBOB",
        "outputId": "203f889a-7bc8-4eb0-ca87-70fdd6542404"
      },
      "execution_count": 62,
      "outputs": [
        {
          "output_type": "execute_result",
          "data": {
            "text/plain": [
              "True"
            ]
          },
          "metadata": {},
          "execution_count": 62
        }
      ]
    },
    {
      "cell_type": "code",
      "source": [
        "arr = [0,2,1,-6,6,-7,9,1,2,0,1]\n",
        "\n",
        "def canThreePartsEqualSum(arr):\n",
        "  total = sum(arr)\n",
        "  if total % 3 != 0:\n",
        "      return False\n",
        "  ave = total // 3\n",
        "  stage = 0\n",
        "  add = 0\n",
        "  for i in arr[:-1]:\n",
        "      add += i\n",
        "      if add == ave:\n",
        "          stage +=1\n",
        "          add = 0\n",
        "      if stage == 2:\n",
        "          return True\n",
        "  return False\n",
        "print(canThreePartsEqualSum(arr))"
      ],
      "metadata": {
        "colab": {
          "base_uri": "https://localhost:8080/"
        },
        "id": "gGkjAYxBei5x",
        "outputId": "f82cf4e4-336a-424f-ca22-544e50718098"
      },
      "execution_count": 63,
      "outputs": [
        {
          "output_type": "stream",
          "name": "stdout",
          "text": [
            "True\n"
          ]
        }
      ]
    },
    {
      "cell_type": "markdown",
      "source": [
        "11."
      ],
      "metadata": {
        "id": "lFJNheHKh3i-"
      }
    },
    {
      "cell_type": "code",
      "source": [
        "nums = [3,4,5,1,2]\n",
        "\n",
        "# Output:\n",
        "True"
      ],
      "metadata": {
        "id": "mHRLc5Z3hdeT"
      },
      "execution_count": null,
      "outputs": []
    },
    {
      "cell_type": "code",
      "source": [],
      "metadata": {
        "id": "igOuS-Mwh8_z"
      },
      "execution_count": null,
      "outputs": []
    }
  ]
}