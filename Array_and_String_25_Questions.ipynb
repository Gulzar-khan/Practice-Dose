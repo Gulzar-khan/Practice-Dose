{
  "nbformat": 4,
  "nbformat_minor": 0,
  "metadata": {
    "colab": {
      "name": "Array and String 25 Questions.ipynb",
      "provenance": [],
      "collapsed_sections": [],
      "authorship_tag": "ABX9TyPdvwSWCnF3TOHKlKAwRjwJ"
    },
    "kernelspec": {
      "name": "python3",
      "display_name": "Python 3"
    },
    "language_info": {
      "name": "python"
    }
  },
  "cells": [
    {
      "cell_type": "markdown",
      "source": [
        "Array  and string\n"
      ],
      "metadata": {
        "id": "9bGiW_rM0xnr"
      }
    },
    {
      "cell_type": "code",
      "source": [
        "# arr=eval(input())\n",
        "# k=int(input())\n",
        "k=5\n",
        "arr=[2,3,4,7,11]\n",
        "def findKthPositive(arr, k):\n",
        "  arr=sorted(arr)\n",
        "  res=[]\n",
        "  for i in range(max(arr)):\n",
        "    if i not in arr:\n",
        "      res.append(i)\n",
        "  return res[k]\n",
        "\n",
        "print(findKthPositive(arr, k))"
      ],
      "metadata": {
        "colab": {
          "base_uri": "https://localhost:8080/"
        },
        "id": "9gLFJwh_0xJE",
        "outputId": "fe09747a-3e70-4422-965d-51dc082e88a3"
      },
      "execution_count": 18,
      "outputs": [
        {
          "output_type": "stream",
          "name": "stdout",
          "text": [
            "9\n"
          ]
        }
      ]
    },
    {
      "cell_type": "markdown",
      "source": [
        "2."
      ],
      "metadata": {
        "id": "b3gKCZYNcR2Q"
      }
    },
    {
      "cell_type": "code",
      "source": [
        "digits = [1,2,3,4]\n",
        "def plusOne(digits):\n",
        "  digit=[]\n",
        "  for i in digits:\n",
        "    if i==len(digits):\n",
        "      i=i+1\n",
        "      digit.append(i)\n",
        "    else:\n",
        "      digit.append(i)\n",
        "  return digit\n",
        "print(plusOne(digits))"
      ],
      "metadata": {
        "colab": {
          "base_uri": "https://localhost:8080/"
        },
        "id": "5iHV44R7cTqb",
        "outputId": "72d85a20-3d50-4e01-e344-c5658a8afcb5"
      },
      "execution_count": 1,
      "outputs": [
        {
          "output_type": "stream",
          "name": "stdout",
          "text": [
            "[1, 2, 3, 5]\n"
          ]
        }
      ]
    },
    {
      "cell_type": "code",
      "source": [
        "digits = [1,2,3,9]\n",
        "def plusOne(digits):\n",
        "  st=''\n",
        "  for i in digits:\n",
        "    st=st+str(i)\n",
        "    ab=str(int(st)+1)\n",
        "  ls=[]\n",
        "  for j in ab:\n",
        "    ls.append(int(j))\n",
        "  return ls\n",
        "\n",
        "print(plusOne(digits))"
      ],
      "metadata": {
        "colab": {
          "base_uri": "https://localhost:8080/"
        },
        "id": "I5nEeiaXmkiH",
        "outputId": "021213b2-14e3-48b7-9e45-15ecf49cdd01"
      },
      "execution_count": 23,
      "outputs": [
        {
          "output_type": "stream",
          "name": "stdout",
          "text": [
            "[1, 2, 4, 0]\n"
          ]
        }
      ]
    },
    {
      "cell_type": "markdown",
      "source": [
        "3."
      ],
      "metadata": {
        "id": "hRdwxbHwHujA"
      }
    },
    {
      "cell_type": "code",
      "source": [
        "A = [2,1,2]\n",
        "def largestPerimeter(A):\n",
        "  return(sum(A))\n",
        "print(largestPerimeter(A))"
      ],
      "metadata": {
        "colab": {
          "base_uri": "https://localhost:8080/"
        },
        "id": "mgyhL-3zIFo8",
        "outputId": "6340d156-2afd-4da8-a527-0182b4a6c07b"
      },
      "execution_count": 26,
      "outputs": [
        {
          "output_type": "stream",
          "name": "stdout",
          "text": [
            "5\n"
          ]
        }
      ]
    },
    {
      "cell_type": "markdown",
      "source": [
        "4."
      ],
      "metadata": {
        "id": "G_W8OcpbJ8aQ"
      }
    },
    {
      "cell_type": "code",
      "source": [
        "Input:\n",
        "A = [2,1,4,3]\n",
        "L=2\n",
        "R=3\n",
        "Output:\n",
        "3"
      ],
      "metadata": {
        "id": "EayBAqOkHtte"
      },
      "execution_count": null,
      "outputs": []
    },
    {
      "cell_type": "code",
      "source": [
        "A=eval(input())\n",
        "L=int(input())\n",
        "R=int(input())"
      ],
      "metadata": {
        "colab": {
          "base_uri": "https://localhost:8080/"
        },
        "id": "ir-m7XBUEq1Z",
        "outputId": "7cfe4632-0309-4f22-880c-5257da3732d9"
      },
      "execution_count": 14,
      "outputs": [
        {
          "name": "stdout",
          "output_type": "stream",
          "text": [
            "[2,1,4,3]\n",
            "2\n",
            "3\n"
          ]
        }
      ]
    },
    {
      "cell_type": "code",
      "source": [
        "def numSubarrayBoundedMax(A, L, R):\n",
        "        \n",
        "            start=count=cur=0\n",
        "            \n",
        "            for i in range(len(A)):\n",
        "                \n",
        "                if L <= A[i] <= R:\n",
        "                    cur=i-start+1\n",
        "                    \n",
        "                elif A[i] > R:\n",
        "                    cur=0\n",
        "                    start=i+1\n",
        "                    \n",
        "                count+=cur\n",
        "                \n",
        "            return count\n",
        "print(numSubarrayBoundedMax(A,L,R))"
      ],
      "metadata": {
        "colab": {
          "base_uri": "https://localhost:8080/"
        },
        "id": "AgpYUFIKJ6t6",
        "outputId": "dc1ad3dd-2927-460b-a8a1-b6cc4f8b94d8"
      },
      "execution_count": 17,
      "outputs": [
        {
          "output_type": "stream",
          "name": "stdout",
          "text": [
            "3\n"
          ]
        }
      ]
    },
    {
      "cell_type": "markdown",
      "source": [
        "5."
      ],
      "metadata": {
        "id": "J8tIb6VJUAyp"
      }
    },
    {
      "cell_type": "code",
      "source": [
        "Input:\n",
        "nums = [100,4,200,1,3,2]\n",
        "\n",
        "Output:\n",
        "4"
      ],
      "metadata": {
        "id": "49J8rJmFUDNz"
      },
      "execution_count": null,
      "outputs": []
    },
    {
      "cell_type": "code",
      "source": [
        "# nums=eval(input())\n",
        "def longestConsecutive(nums):\n",
        "\n",
        "  return \n",
        "print(longestConsecutive(nums))"
      ],
      "metadata": {
        "colab": {
          "base_uri": "https://localhost:8080/"
        },
        "id": "nma0hEMMDeAh",
        "outputId": "3fa0aa1d-242b-4af9-cf76-cc02766caea9"
      },
      "execution_count": 15,
      "outputs": [
        {
          "output_type": "execute_result",
          "data": {
            "text/plain": [
              "3"
            ]
          },
          "metadata": {},
          "execution_count": 15
        }
      ]
    },
    {
      "cell_type": "code",
      "source": [
        "aa=[1,2,3,4,300,400,101,102,103,104,105]\n",
        "# inn=0\n",
        "lst=[]\n",
        "for i in range(len(aa)):\n",
        "  for j in range(1,len(aa)):\n",
        "    if aa[j]==aa[i]+1:\n",
        "      # inn+=1\n",
        "      lst.extend\n",
        "\n",
        "print(inn)\n"
      ],
      "metadata": {
        "colab": {
          "base_uri": "https://localhost:8080/"
        },
        "id": "wyNtHZp32TSn",
        "outputId": "6e286a1c-f722-43d0-b78a-d31eee8e8171"
      },
      "execution_count": 25,
      "outputs": [
        {
          "output_type": "stream",
          "name": "stdout",
          "text": [
            "7\n"
          ]
        }
      ]
    },
    {
      "cell_type": "code",
      "source": [
        "cc=[[1,2],[1,2,3],[1]]"
      ],
      "metadata": {
        "id": "bf18k4bOWbf0"
      },
      "execution_count": 40,
      "outputs": []
    },
    {
      "cell_type": "code",
      "source": [
        "max(cc)"
      ],
      "metadata": {
        "colab": {
          "base_uri": "https://localhost:8080/"
        },
        "id": "ULtRHRlQYFrL",
        "outputId": "0eb36038-1ee7-464d-d65a-4c417460df78"
      },
      "execution_count": 41,
      "outputs": [
        {
          "output_type": "execute_result",
          "data": {
            "text/plain": [
              "[1, 2, 3]"
            ]
          },
          "metadata": {},
          "execution_count": 41
        }
      ]
    },
    {
      "cell_type": "code",
      "source": [
        "cc.append([1,9])"
      ],
      "metadata": {
        "id": "rpRMwUIDYKUc"
      },
      "execution_count": 42,
      "outputs": []
    },
    {
      "cell_type": "code",
      "source": [
        "cc[2]+[1]"
      ],
      "metadata": {
        "colab": {
          "base_uri": "https://localhost:8080/"
        },
        "id": "UyfvO7gyZMfe",
        "outputId": "d31f3f22-046a-4e50-c33e-894b1621862b"
      },
      "execution_count": 46,
      "outputs": [
        {
          "output_type": "execute_result",
          "data": {
            "text/plain": [
              "[1, 1]"
            ]
          },
          "metadata": {},
          "execution_count": 46
        }
      ]
    },
    {
      "cell_type": "code",
      "source": [
        "cc"
      ],
      "metadata": {
        "colab": {
          "base_uri": "https://localhost:8080/"
        },
        "id": "Pf1nF0NKZNIM",
        "outputId": "e44aad67-a1aa-472c-f8f6-d7144fba5b57"
      },
      "execution_count": 47,
      "outputs": [
        {
          "output_type": "execute_result",
          "data": {
            "text/plain": [
              "[[1, 2], [1, 2, 3], [1], [1, 9]]"
            ]
          },
          "metadata": {},
          "execution_count": 47
        }
      ]
    },
    {
      "cell_type": "code",
      "source": [],
      "metadata": {
        "id": "pMnPUosqZf5g"
      },
      "execution_count": null,
      "outputs": []
    }
  ]
}