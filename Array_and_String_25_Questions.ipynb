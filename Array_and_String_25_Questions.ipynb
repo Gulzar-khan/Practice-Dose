{
  "nbformat": 4,
  "nbformat_minor": 0,
  "metadata": {
    "colab": {
      "provenance": [],
      "collapsed_sections": [],
      "authorship_tag": "ABX9TyOW2dx0GCx483gFfZYaxiau"
    },
    "kernelspec": {
      "name": "python3",
      "display_name": "Python 3"
    },
    "language_info": {
      "name": "python"
    }
  },
  "cells": [
    {
      "cell_type": "markdown",
      "source": [
        "Array  and string\n"
      ],
      "metadata": {
        "id": "9bGiW_rM0xnr"
      }
    },
    {
      "cell_type": "markdown",
      "source": [
        "1-   Kth Missing Positive Number 50% passed"
      ],
      "metadata": {
        "id": "5GitnrgkRNIi"
      }
    },
    {
      "cell_type": "code",
      "source": [
        "# arr=eval(input())\n",
        "# k=int(input())\n",
        "k=2\n",
        "arr=[1,2,3,4]\n",
        "def findKthPositive(arr, k):\n",
        "  arr=sorted(arr)\n",
        "  res=[]\n",
        "  for i in range(max(arr)*10):\n",
        "    if i not in arr:\n",
        "      res.append(i)\n",
        "  return res[k]\n",
        "\n",
        "print(findKthPositive(arr, k))"
      ],
      "metadata": {
        "colab": {
          "base_uri": "https://localhost:8080/"
        },
        "id": "9gLFJwh_0xJE",
        "outputId": "ed349360-eb87-4b31-9a58-e3ad88a708ed"
      },
      "execution_count": null,
      "outputs": [
        {
          "output_type": "stream",
          "name": "stdout",
          "text": [
            "6\n"
          ]
        }
      ]
    },
    {
      "cell_type": "markdown",
      "source": [
        "2."
      ],
      "metadata": {
        "id": "b3gKCZYNcR2Q"
      }
    },
    {
      "cell_type": "code",
      "source": [
        "digits = [1,2,3,4]\n",
        "def plusOne(digits):\n",
        "  digit=[]\n",
        "  for i in digits:\n",
        "    if i==len(digits):\n",
        "      i=i+1\n",
        "      digit.append(i)\n",
        "    else:\n",
        "      digit.append(i)\n",
        "  return digit\n",
        "print(plusOne(digits))"
      ],
      "metadata": {
        "colab": {
          "base_uri": "https://localhost:8080/"
        },
        "id": "5iHV44R7cTqb",
        "outputId": "72d85a20-3d50-4e01-e344-c5658a8afcb5"
      },
      "execution_count": null,
      "outputs": [
        {
          "output_type": "stream",
          "name": "stdout",
          "text": [
            "[1, 2, 3, 5]\n"
          ]
        }
      ]
    },
    {
      "cell_type": "code",
      "source": [
        "digits = [1,2,3,9]\n",
        "def plusOne(digits):\n",
        "  st=''\n",
        "  for i in digits:\n",
        "    st=st+str(i)\n",
        "    ab=str(int(st)+1)\n",
        "  ls=[]\n",
        "  for j in ab:\n",
        "    ls.append(int(j))\n",
        "  return ls\n",
        "\n",
        "print(plusOne(digits))"
      ],
      "metadata": {
        "colab": {
          "base_uri": "https://localhost:8080/"
        },
        "id": "I5nEeiaXmkiH",
        "outputId": "021213b2-14e3-48b7-9e45-15ecf49cdd01"
      },
      "execution_count": null,
      "outputs": [
        {
          "output_type": "stream",
          "name": "stdout",
          "text": [
            "[1, 2, 4, 0]\n"
          ]
        }
      ]
    },
    {
      "cell_type": "markdown",
      "source": [
        "3. Largest Perimeter Triangle 50%passed"
      ],
      "metadata": {
        "id": "hRdwxbHwHujA"
      }
    },
    {
      "cell_type": "code",
      "source": [
        "A = [2,1,2]\n",
        "def largestPerimeter(A):\n",
        "  return (sum(A))\n",
        "print(largestPerimeter(A))"
      ],
      "metadata": {
        "colab": {
          "base_uri": "https://localhost:8080/"
        },
        "id": "mgyhL-3zIFo8",
        "outputId": "6340d156-2afd-4da8-a527-0182b4a6c07b"
      },
      "execution_count": null,
      "outputs": [
        {
          "output_type": "stream",
          "name": "stdout",
          "text": [
            "5\n"
          ]
        }
      ]
    },
    {
      "cell_type": "code",
      "source": [
        "A = [1,2,1]    #passed in test cases\n",
        "def largestPerimeter(A):\n",
        "  A.sort(reverse=True)\n",
        "  b=0\n",
        "  for i in range(len(A)-2):\n",
        "    if A[i]<A[i+1]+A[i+2]:\n",
        "      b=A[i]+A[i+1]+A[i+2]\n",
        "      break\n",
        "  return b\n",
        "print(largestPerimeter(A))"
      ],
      "metadata": {
        "colab": {
          "base_uri": "https://localhost:8080/"
        },
        "id": "0rgEA14tV1u4",
        "outputId": "1b1aeb43-5269-4df6-d6c0-84d0aa3adb0b"
      },
      "execution_count": null,
      "outputs": [
        {
          "output_type": "stream",
          "name": "stdout",
          "text": [
            "0\n"
          ]
        }
      ]
    },
    {
      "cell_type": "markdown",
      "source": [
        "4."
      ],
      "metadata": {
        "id": "G_W8OcpbJ8aQ"
      }
    },
    {
      "cell_type": "code",
      "source": [
        "# Input:\n",
        "A = [2,1,4,3]\n",
        "L=2\n",
        "R=3\n",
        "# Output:\n",
        "3"
      ],
      "metadata": {
        "id": "EayBAqOkHtte"
      },
      "execution_count": null,
      "outputs": []
    },
    {
      "cell_type": "code",
      "source": [
        "A=eval(input())\n",
        "L=int(input())\n",
        "R=int(input())"
      ],
      "metadata": {
        "colab": {
          "base_uri": "https://localhost:8080/"
        },
        "id": "ir-m7XBUEq1Z",
        "outputId": "7cfe4632-0309-4f22-880c-5257da3732d9"
      },
      "execution_count": null,
      "outputs": [
        {
          "name": "stdout",
          "output_type": "stream",
          "text": [
            "[2,1,4,3]\n",
            "2\n",
            "3\n"
          ]
        }
      ]
    },
    {
      "cell_type": "code",
      "source": [
        "def numSubarrayBoundedMax(A, L, R):\n",
        "        \n",
        "            start=count=cur=0\n",
        "            \n",
        "            for i in range(len(A)):\n",
        "                \n",
        "                if L <= A[i] <= R:\n",
        "                    cur=i-start+1\n",
        "                    \n",
        "                elif A[i] > R:\n",
        "                    cur=0\n",
        "                    start=i+1\n",
        "                    \n",
        "                count+=cur\n",
        "                \n",
        "            return count\n",
        "print(numSubarrayBoundedMax(A,L,R))"
      ],
      "metadata": {
        "colab": {
          "base_uri": "https://localhost:8080/"
        },
        "id": "AgpYUFIKJ6t6",
        "outputId": "dc1ad3dd-2927-460b-a8a1-b6cc4f8b94d8"
      },
      "execution_count": null,
      "outputs": [
        {
          "output_type": "stream",
          "name": "stdout",
          "text": [
            "3\n"
          ]
        }
      ]
    },
    {
      "cell_type": "markdown",
      "source": [
        "5."
      ],
      "metadata": {
        "id": "J8tIb6VJUAyp"
      }
    },
    {
      "cell_type": "code",
      "source": [
        "# Input:\n",
        "nums = [100,4,200,1,3,2]\n",
        "\n",
        "# Output:\n",
        "4"
      ],
      "metadata": {
        "id": "49J8rJmFUDNz",
        "colab": {
          "base_uri": "https://localhost:8080/"
        },
        "outputId": "132a85c7-46ce-4af1-82e2-e3442909c37c"
      },
      "execution_count": null,
      "outputs": [
        {
          "output_type": "execute_result",
          "data": {
            "text/plain": [
              "4"
            ]
          },
          "metadata": {},
          "execution_count": 182
        }
      ]
    },
    {
      "cell_type": "code",
      "source": [
        "# nums=eval(input()) #passed in testcase\n",
        "nums = [100,4,200,1,3,2]\n",
        "def longestConsecutive(nums):\n",
        "  nums = sorted(nums)\n",
        "  cur = 0\n",
        "  mx = 0\n",
        "  for i in range(len(nums)-1):\n",
        "      if nums[i]!=nums[i+1]:\n",
        "          if nums[i+1] == nums[i]+1:\n",
        "              cur += 1\n",
        "          else:\n",
        "              mx = max(mx,cur)\n",
        "              cur = 0\n",
        "  return max(cur,mx)+1\n",
        "print(longestConsecutive(nums))"
      ],
      "metadata": {
        "colab": {
          "base_uri": "https://localhost:8080/"
        },
        "id": "nma0hEMMDeAh",
        "outputId": "c63c7636-dfb2-4e44-8de4-7282d8973fdc"
      },
      "execution_count": null,
      "outputs": [
        {
          "output_type": "stream",
          "name": "stdout",
          "text": [
            "4\n"
          ]
        }
      ]
    },
    {
      "cell_type": "code",
      "source": [
        "aa=[1,2,3,4,300,400,101,102,103,104,105]#not completed \n",
        "# inn=0\n",
        "ll=[]\n",
        "\n",
        "for i in range(1,len(aa)-1):\n",
        "  # print(i)\n",
        " if aa[i]+1==aa[i+1]:\n",
        "   ll.append(i)\n",
        "print(ll)\n"
      ],
      "metadata": {
        "colab": {
          "base_uri": "https://localhost:8080/"
        },
        "id": "wyNtHZp32TSn",
        "outputId": "699599bf-060e-46bc-b894-56d22f09f68c"
      },
      "execution_count": null,
      "outputs": [
        {
          "output_type": "stream",
          "name": "stdout",
          "text": [
            "[1, 2, 6, 7, 8, 9]\n"
          ]
        }
      ]
    },
    {
      "cell_type": "markdown",
      "source": [
        "6."
      ],
      "metadata": {
        "id": "r2FhxB5LkE7e"
      }
    },
    {
      "cell_type": "code",
      "source": [
        "prices = [7,1,5,3,6,4]\n",
        "output=5"
      ],
      "metadata": {
        "id": "6KH56CxnkEjB"
      },
      "execution_count": null,
      "outputs": []
    },
    {
      "cell_type": "code",
      "source": [
        "def maxProfit(prices):\n",
        "  left = 0 #Buy\n",
        "  right = 1 #Sell\n",
        "  max_profit = 0\n",
        "  while right < len(prices):\n",
        "      currentProfit = prices[right] - prices[left] #our current Profit\n",
        "      if prices[left] < prices[right]:\n",
        "          max_profit =max(currentProfit,max_profit)\n",
        "      else:\n",
        "          left = right\n",
        "      right += 1\n",
        "  return max_profit\n",
        "print(maxProfit(prices))"
      ],
      "metadata": {
        "colab": {
          "base_uri": "https://localhost:8080/"
        },
        "id": "Xls32FPcz4D1",
        "outputId": "787e83cc-be39-4d12-dc8c-387d9ba98c75"
      },
      "execution_count": null,
      "outputs": [
        {
          "output_type": "stream",
          "name": "stdout",
          "text": [
            "5\n"
          ]
        }
      ]
    },
    {
      "cell_type": "code",
      "source": [
        "l=0,1, , , ,\n",
        "r=1,2,3,4,5\n",
        "m=0, ,4,4,(5)"
      ],
      "metadata": {
        "id": "U-1lHm6Vy2-a"
      },
      "execution_count": null,
      "outputs": []
    },
    {
      "cell_type": "markdown",
      "source": [
        "we can also do that with min(prices) and find index of that in array and move forword from that index. whichever is highest difference that is yr answer."
      ],
      "metadata": {
        "id": "xBc0Waom5Dal"
      }
    },
    {
      "cell_type": "markdown",
      "source": [
        "7."
      ],
      "metadata": {
        "id": "7wEb7bYy1GQh"
      }
    },
    {
      "cell_type": "code",
      "source": [
        "# Input:\n",
        "nums = [1,12,-5,-6,50,3]\n",
        "k = 4\n",
        "\n",
        "# Output:\n",
        "12.75"
      ],
      "metadata": {
        "colab": {
          "base_uri": "https://localhost:8080/"
        },
        "id": "aBHQioRjqSkg",
        "outputId": "898961b5-163c-43f1-a243-533f96b54565"
      },
      "execution_count": null,
      "outputs": [
        {
          "output_type": "execute_result",
          "data": {
            "text/plain": [
              "12.75"
            ]
          },
          "metadata": {},
          "execution_count": 22
        }
      ]
    },
    {
      "cell_type": "code",
      "source": [
        "nums = [1,12,-5,-6,50,3]\n",
        "k = 4\n",
        "def findMaxAverage(nums, k):\n",
        "  listt=[]\n",
        "  for i in range((len(nums)-k)+1):\n",
        "    ll=0\n",
        "    for j in range(i,k+i):\n",
        "      ll+=nums[j]\n",
        "    listt.append(ll)\n",
        "  print(listt)\n",
        "  return max(listt)/k\n",
        "print(findMaxAverage(nums,k))"
      ],
      "metadata": {
        "colab": {
          "base_uri": "https://localhost:8080/"
        },
        "id": "azv9yBYI6Dh5",
        "outputId": "a6d63998-a14e-43b0-99e9-b50f34b10011"
      },
      "execution_count": null,
      "outputs": [
        {
          "output_type": "stream",
          "name": "stdout",
          "text": [
            "[2, 51, 42]\n",
            "12.75\n"
          ]
        }
      ]
    },
    {
      "cell_type": "markdown",
      "source": [
        "8. "
      ],
      "metadata": {
        "id": "yg_pTi01W4KS"
      }
    },
    {
      "cell_type": "code",
      "source": [
        "# Input:\n",
        "nums = [-4,-2,1,4,8]\n",
        "\n",
        "# Output:\n",
        "1"
      ],
      "metadata": {
        "colab": {
          "base_uri": "https://localhost:8080/"
        },
        "id": "Q-a1j0FTSJN6",
        "outputId": "13d515a8-8878-47ab-80cb-8125c8de8369"
      },
      "execution_count": null,
      "outputs": [
        {
          "output_type": "execute_result",
          "data": {
            "text/plain": [
              "1"
            ]
          },
          "metadata": {},
          "execution_count": 47
        }
      ]
    },
    {
      "cell_type": "code",
      "source": [
        "def findClosestNumber(nums):\n",
        "  pos_list=[]\n",
        "  for i in nums:\n",
        "    if i>=0:\n",
        "      pos_list.append(i)\n",
        "  return min(pos_list)\n",
        "print(findClosestNumber(nums))"
      ],
      "metadata": {
        "colab": {
          "base_uri": "https://localhost:8080/"
        },
        "id": "P-6q9d-QXI5n",
        "outputId": "e0f42c25-77f1-48f3-8830-d5ea58d9614b"
      },
      "execution_count": null,
      "outputs": [
        {
          "output_type": "stream",
          "name": "stdout",
          "text": [
            "1\n"
          ]
        }
      ]
    },
    {
      "cell_type": "markdown",
      "source": [
        "9."
      ],
      "metadata": {
        "id": "sIz5hqWVZLVz"
      }
    },
    {
      "cell_type": "code",
      "source": [
        "# input:\n",
        "arr = [40,10,20,30]\n",
        "\n",
        "# Output:\n",
        "[4,1,2,3]"
      ],
      "metadata": {
        "colab": {
          "base_uri": "https://localhost:8080/"
        },
        "id": "3V0VMoPDXupX",
        "outputId": "99ac8b2e-081c-424d-f783-a0c7eb8d1dbb"
      },
      "execution_count": null,
      "outputs": [
        {
          "output_type": "execute_result",
          "data": {
            "text/plain": [
              "[4, 1, 2, 3]"
            ]
          },
          "metadata": {},
          "execution_count": 60
        }
      ]
    },
    {
      "cell_type": "code",
      "source": [
        "arr = [40,10,20,30]\n",
        "def arrayRankTransform(arr):\n",
        "\tc = 1\n",
        "\td = dict()\n",
        "\tfor i in sorted(list(set(arr))):\n",
        "\t\td[i] = c\n",
        "\t\tc += 1\n",
        "\tfor i in range(len(arr)):\n",
        "\t\tarr[i] = d[arr[i]]\n",
        "\treturn arr\n",
        "\n",
        "print(arrayRankTransform(arr))"
      ],
      "metadata": {
        "colab": {
          "base_uri": "https://localhost:8080/"
        },
        "id": "_Ke2I5EIaTPt",
        "outputId": "dd78880c-a8a7-4776-efb0-964f80788ddb"
      },
      "execution_count": null,
      "outputs": [
        {
          "output_type": "stream",
          "name": "stdout",
          "text": [
            "[4, 1, 2, 3]\n"
          ]
        }
      ]
    },
    {
      "cell_type": "code",
      "source": [
        "d={10: 1, 20: 2, 30: 3, 40: 4}"
      ],
      "metadata": {
        "id": "2FjQyCGxdXNR"
      },
      "execution_count": null,
      "outputs": []
    },
    {
      "cell_type": "code",
      "source": [
        "d[20]"
      ],
      "metadata": {
        "colab": {
          "base_uri": "https://localhost:8080/"
        },
        "id": "1OIlofO3dd2X",
        "outputId": "a66d1089-7d5d-4091-c6b5-5335e6989537"
      },
      "execution_count": null,
      "outputs": [
        {
          "output_type": "execute_result",
          "data": {
            "text/plain": [
              "2"
            ]
          },
          "metadata": {},
          "execution_count": 58
        }
      ]
    },
    {
      "cell_type": "code",
      "source": [
        "arr[1]"
      ],
      "metadata": {
        "colab": {
          "base_uri": "https://localhost:8080/"
        },
        "id": "b77gM_TNeJA9",
        "outputId": "be19cccb-198e-4241-86ef-db3c430a19d4"
      },
      "execution_count": null,
      "outputs": [
        {
          "output_type": "execute_result",
          "data": {
            "text/plain": [
              "10"
            ]
          },
          "metadata": {},
          "execution_count": 61
        }
      ]
    },
    {
      "cell_type": "markdown",
      "source": [
        "10."
      ],
      "metadata": {
        "id": "M7m1Ky5QeeF_"
      }
    },
    {
      "cell_type": "code",
      "source": [
        "arr = [0,2,1,-6,6,-7,9,1,2,0,1]\n",
        "\n",
        "# Output:\n",
        "True"
      ],
      "metadata": {
        "colab": {
          "base_uri": "https://localhost:8080/"
        },
        "id": "GspAIxDQYBOB",
        "outputId": "203f889a-7bc8-4eb0-ca87-70fdd6542404"
      },
      "execution_count": null,
      "outputs": [
        {
          "output_type": "execute_result",
          "data": {
            "text/plain": [
              "True"
            ]
          },
          "metadata": {},
          "execution_count": 62
        }
      ]
    },
    {
      "cell_type": "code",
      "source": [
        "arr = [0,2,1,-6,6,-7,9,1,2,0,1]\n",
        "\n",
        "def canThreePartsEqualSum(arr):\n",
        "  total = sum(arr)\n",
        "  if total % 3 != 0:\n",
        "      return False\n",
        "  ave = total // 3\n",
        "  stage = 0\n",
        "  add = 0\n",
        "  for i in arr[:-1]:\n",
        "      add += i\n",
        "      if add == ave:\n",
        "          stage +=1\n",
        "          add = 0\n",
        "      if stage == 2:\n",
        "          return True\n",
        "  return False\n",
        "print(canThreePartsEqualSum(arr))"
      ],
      "metadata": {
        "colab": {
          "base_uri": "https://localhost:8080/"
        },
        "id": "gGkjAYxBei5x",
        "outputId": "e97405a2-1bb8-4cda-ad75-f72394635e33"
      },
      "execution_count": null,
      "outputs": [
        {
          "output_type": "stream",
          "name": "stdout",
          "text": [
            "True\n"
          ]
        }
      ]
    },
    {
      "cell_type": "code",
      "source": [
        "arr[:-1]"
      ],
      "metadata": {
        "colab": {
          "base_uri": "https://localhost:8080/"
        },
        "id": "M0-Q6iF3iQUB",
        "outputId": "a1135c40-ac1a-466f-e992-e5a1326709d3"
      },
      "execution_count": null,
      "outputs": [
        {
          "output_type": "execute_result",
          "data": {
            "text/plain": [
              "[0, 2, 1, -6, 6, -7, 9, 1, 2, 0]"
            ]
          },
          "metadata": {},
          "execution_count": 65
        }
      ]
    },
    {
      "cell_type": "code",
      "source": [],
      "metadata": {
        "id": "fkUOp1dTiP1Q"
      },
      "execution_count": null,
      "outputs": []
    },
    {
      "cell_type": "markdown",
      "source": [
        "11."
      ],
      "metadata": {
        "id": "lFJNheHKh3i-"
      }
    },
    {
      "cell_type": "code",
      "source": [
        "nums = [4,5,1,2,3]\n",
        "\n",
        "# Output:\n",
        "True"
      ],
      "metadata": {
        "id": "mHRLc5Z3hdeT",
        "colab": {
          "base_uri": "https://localhost:8080/"
        },
        "outputId": "054d2950-84c9-4f9f-91a1-309b2921e05f"
      },
      "execution_count": null,
      "outputs": [
        {
          "output_type": "execute_result",
          "data": {
            "text/plain": [
              "True"
            ]
          },
          "metadata": {},
          "execution_count": 125
        }
      ]
    },
    {
      "cell_type": "code",
      "source": [
        "def check(nums):\n",
        "  RI = 0\n",
        "  for i in range(1, len(nums)):\n",
        "      if(nums[i] < nums[i-1]):\n",
        "          RI = i\n",
        "          break\n",
        "      elif(i == len(nums)-1):\n",
        "          return True\n",
        "\n",
        "  for i in range(RI, len(nums)):\n",
        "      if(nums[i] > nums[0]):\n",
        "          return False\n",
        "      if(i == len(nums)-1):\n",
        "          return True\n",
        "      if(nums[i+1] < nums[i]):\n",
        "          return False\n",
        "print(check(nums)) #passed in test cases"
      ],
      "metadata": {
        "colab": {
          "base_uri": "https://localhost:8080/"
        },
        "id": "hTLuppxTs13i",
        "outputId": "cd7ea7f8-51c9-489a-ad41-ea29808d6737"
      },
      "execution_count": null,
      "outputs": [
        {
          "output_type": "stream",
          "name": "stdout",
          "text": [
            "True\n"
          ]
        }
      ]
    },
    {
      "cell_type": "code",
      "source": [
        "nums = [4,5,1,2,3]\n",
        "# the first element and last element are connected\n",
        "def chek(nums):\n",
        "  # nums.append(nums[0])\n",
        "  cnt = 0\n",
        "  for i in range(1, len(nums)):\n",
        "    if nums[i] < nums[i - 1]:\n",
        "      cnt += 1\n",
        "  return cnt <= 1\n",
        "print(chek(nums))"
      ],
      "metadata": {
        "colab": {
          "base_uri": "https://localhost:8080/"
        },
        "id": "E40WqPmXuZvU",
        "outputId": "5a9d838a-412d-4935-b4f9-06d798ad2c29"
      },
      "execution_count": null,
      "outputs": [
        {
          "output_type": "stream",
          "name": "stdout",
          "text": [
            "True\n"
          ]
        }
      ]
    },
    {
      "cell_type": "markdown",
      "source": [
        "12"
      ],
      "metadata": {
        "id": "Qft1JBSluBWg"
      }
    },
    {
      "cell_type": "code",
      "source": [
        "# Input:\n",
        "set1 = {1,2,2,1}\n",
        "set2 = {2,2,3}\n",
        "\n",
        "# Output:\n",
        "[2]"
      ],
      "metadata": {
        "colab": {
          "base_uri": "https://localhost:8080/"
        },
        "id": "iCRitnOSuBzT",
        "outputId": "4df87e0c-2ed2-4cb1-c1a3-c6f93109fbfb"
      },
      "execution_count": null,
      "outputs": [
        {
          "output_type": "execute_result",
          "data": {
            "text/plain": [
              "[2]"
            ]
          },
          "metadata": {},
          "execution_count": 148
        }
      ]
    },
    {
      "cell_type": "code",
      "source": [
        "set1 = {1,2,2,1}\n",
        "set2 = {2,2,3}\n",
        "def set_intersection(set1, set2):\n",
        "  listt=[]\n",
        "  for i in set1:\n",
        "    if i in set2:\n",
        "      listt.append(i)\n",
        "  return list(set(listt))\n",
        "print(set_intersection(set1,set2))"
      ],
      "metadata": {
        "colab": {
          "base_uri": "https://localhost:8080/"
        },
        "id": "MBZOG6qwuHtN",
        "outputId": "2cd19a5b-6824-40d7-e677-8aacead0b75d"
      },
      "execution_count": null,
      "outputs": [
        {
          "output_type": "stream",
          "name": "stdout",
          "text": [
            "[2]\n"
          ]
        }
      ]
    },
    {
      "cell_type": "markdown",
      "source": [
        "13"
      ],
      "metadata": {
        "id": "Sy-dAVgs_Z4N"
      }
    },
    {
      "cell_type": "code",
      "source": [
        "# Input:\n",
        "nums = [3,2,3]\n",
        "\n",
        "# Output:\n",
        "3"
      ],
      "metadata": {
        "colab": {
          "base_uri": "https://localhost:8080/"
        },
        "id": "2l-sGrUf_AAS",
        "outputId": "3d89a7c9-9f92-4113-a524-e369f6b684b7"
      },
      "execution_count": null,
      "outputs": [
        {
          "output_type": "execute_result",
          "data": {
            "text/plain": [
              "3"
            ]
          },
          "metadata": {},
          "execution_count": 152
        }
      ]
    },
    {
      "cell_type": "code",
      "source": [
        "nums.index(2)"
      ],
      "metadata": {
        "colab": {
          "base_uri": "https://localhost:8080/"
        },
        "id": "I_CTlq2RCLzH",
        "outputId": "2e60b676-e8a6-45fe-b093-9cbb62856611"
      },
      "execution_count": null,
      "outputs": [
        {
          "output_type": "execute_result",
          "data": {
            "text/plain": [
              "1"
            ]
          },
          "metadata": {},
          "execution_count": 165
        }
      ]
    },
    {
      "cell_type": "code",
      "source": [
        "nums.count(3)"
      ],
      "metadata": {
        "colab": {
          "base_uri": "https://localhost:8080/"
        },
        "id": "ZVfNMhqzAqSl",
        "outputId": "3fb7c1d8-d6ca-46c3-9a0f-ef59cac1f094"
      },
      "execution_count": null,
      "outputs": [
        {
          "output_type": "execute_result",
          "data": {
            "text/plain": [
              "2"
            ]
          },
          "metadata": {},
          "execution_count": 155
        }
      ]
    },
    {
      "cell_type": "code",
      "source": [
        "nums = [3,2,3]\n",
        "def majorityElement(nums):\n",
        "  return max(nums)\n",
        "print(majorityElement(nums))  #passed in testcases"
      ],
      "metadata": {
        "colab": {
          "base_uri": "https://localhost:8080/"
        },
        "id": "9_c5ONs76rI1",
        "outputId": "e282d2a4-6e8f-4f6b-cb2d-6e18a6f3c5ee"
      },
      "execution_count": null,
      "outputs": [
        {
          "output_type": "stream",
          "name": "stdout",
          "text": [
            "3\n"
          ]
        }
      ]
    },
    {
      "cell_type": "code",
      "source": [
        "nums = [3,2,3,4,4,4]\n",
        "def majorityElement(nums):\n",
        "  count=[]\n",
        "  for i in nums:\n",
        "    count.append(nums.count(i))\n",
        "  # print(count)\n",
        "  return nums[count.index(max(count))]\n",
        "print(majorityElement(nums))"
      ],
      "metadata": {
        "colab": {
          "base_uri": "https://localhost:8080/"
        },
        "id": "vBorv1-aAFpI",
        "outputId": "55b23403-72fd-435a-f30f-44c856e22762"
      },
      "execution_count": null,
      "outputs": [
        {
          "output_type": "stream",
          "name": "stdout",
          "text": [
            "4\n"
          ]
        }
      ]
    },
    {
      "cell_type": "code",
      "source": [
        "def CountFrequency(my_list):\n",
        " \n",
        "    # Creating an empty dictionary\n",
        "    freq = {}\n",
        "    for item in my_list:\n",
        "        if (item in freq):\n",
        "            freq[item] += 1\n",
        "        else:\n",
        "            freq[item] = 1\n",
        " \n",
        "    for key, value in freq.items():\n",
        "        print (\"% d : % d\"%(key, value))\n",
        "    return freq\n",
        " \n",
        "# # Driver function\n",
        "# if __name__ == \"__main__\":\n",
        "# my_list =[1, 1, 1, 5, 5, 3, 1, 3, 3, 1, 4, 4, 4, 2, 2, 2, 2]\n",
        "CountFrequency(nums)"
      ],
      "metadata": {
        "colab": {
          "base_uri": "https://localhost:8080/"
        },
        "id": "D5PJrhAYwcsl",
        "outputId": "b9b24157-d28d-4c1e-d818-61bfc3d18de3"
      },
      "execution_count": null,
      "outputs": [
        {
          "output_type": "stream",
          "name": "stdout",
          "text": [
            " 3 :  2\n",
            " 2 :  1\n",
            " 4 :  3\n"
          ]
        },
        {
          "output_type": "execute_result",
          "data": {
            "text/plain": [
              "{3: 2, 2: 1, 4: 3}"
            ]
          },
          "metadata": {},
          "execution_count": 360
        }
      ]
    },
    {
      "cell_type": "code",
      "source": [
        "import collections\n",
        "nums= [3,2,3,4,4,4,3]\n",
        "def majorityElement(nums):\n",
        "  counter = collections.Counter(nums)\n",
        "  lll=[]\n",
        "  for i in counter.keys():\n",
        "    if counter[i]==max(counter.values()):\n",
        "      lll.append(i)\n",
        "  return lll\n",
        "print(majorityElement(nums))"
      ],
      "metadata": {
        "colab": {
          "base_uri": "https://localhost:8080/"
        },
        "id": "iBicT1D35LXK",
        "outputId": "4e6b1ef7-241e-45f7-cf58-a78a10a204f8"
      },
      "execution_count": null,
      "outputs": [
        {
          "output_type": "stream",
          "name": "stdout",
          "text": [
            "[3, 4]\n"
          ]
        }
      ]
    },
    {
      "cell_type": "markdown",
      "source": [
        "14"
      ],
      "metadata": {
        "id": "SZhA5CoeDou7"
      }
    },
    {
      "cell_type": "code",
      "source": [
        "# Input:\n",
        "nums = [2,2,1,1,1,3]\n",
        "\n",
        "# Output:\n",
        "1"
      ],
      "metadata": {
        "id": "3TfkkZ6L_xpS",
        "colab": {
          "base_uri": "https://localhost:8080/"
        },
        "outputId": "61a20013-e6f5-4216-ace0-dfeb515c97b9"
      },
      "execution_count": null,
      "outputs": [
        {
          "output_type": "execute_result",
          "data": {
            "text/plain": [
              "1"
            ]
          },
          "metadata": {},
          "execution_count": 196
        }
      ]
    },
    {
      "cell_type": "code",
      "source": [
        "nums = [2,2,1]\n",
        "def singleNumber(nums):\n",
        "  for i in nums:\n",
        "    if nums.count(i)==1:\n",
        "      return i\n",
        "print(singleNumber(nums))"
      ],
      "metadata": {
        "id": "1rQRlH4KD24f",
        "colab": {
          "base_uri": "https://localhost:8080/"
        },
        "outputId": "686692bd-17fe-4655-842e-a4553ebf8b65"
      },
      "execution_count": null,
      "outputs": [
        {
          "output_type": "stream",
          "name": "stdout",
          "text": [
            "1\n"
          ]
        }
      ]
    },
    {
      "cell_type": "markdown",
      "source": [
        "15"
      ],
      "metadata": {
        "id": "_EaGx5u7dffq"
      }
    },
    {
      "cell_type": "code",
      "source": [
        "# Input:\n",
        "nums = [1,2,2,3,1]\n",
        "\n",
        "# Output:\n",
        "2\n"
      ],
      "metadata": {
        "colab": {
          "base_uri": "https://localhost:8080/"
        },
        "id": "0Z8eKWEXcgWd",
        "outputId": "b790bb72-0d2a-4cdb-82d9-307f2b3d417b"
      },
      "execution_count": null,
      "outputs": [
        {
          "output_type": "execute_result",
          "data": {
            "text/plain": [
              "2"
            ]
          },
          "metadata": {},
          "execution_count": 280
        }
      ]
    },
    {
      "cell_type": "code",
      "source": [
        "nums.index(1)"
      ],
      "metadata": {
        "colab": {
          "base_uri": "https://localhost:8080/"
        },
        "id": "oyPixfUjinYK",
        "outputId": "703c9d13-ae20-4805-becd-feaff88e5f98"
      },
      "execution_count": null,
      "outputs": [
        {
          "output_type": "execute_result",
          "data": {
            "text/plain": [
              "0"
            ]
          },
          "metadata": {},
          "execution_count": 250
        }
      ]
    },
    {
      "cell_type": "code",
      "source": [
        "nums[::-1].index(1)"
      ],
      "metadata": {
        "colab": {
          "base_uri": "https://localhost:8080/"
        },
        "id": "QZp4nBZP9QWL",
        "outputId": "5e8c6531-8ea3-46d0-ca26-10e2c047361f"
      },
      "execution_count": null,
      "outputs": [
        {
          "output_type": "execute_result",
          "data": {
            "text/plain": [
              "0"
            ]
          },
          "metadata": {},
          "execution_count": 383
        }
      ]
    },
    {
      "cell_type": "code",
      "source": [
        "(len(nums)-nums[::-1].index(1))-1"
      ],
      "metadata": {
        "colab": {
          "base_uri": "https://localhost:8080/"
        },
        "id": "2eJ7wGvQmyB3",
        "outputId": "27674b4e-ca58-4f18-cdf6-5220e9939cb6"
      },
      "execution_count": null,
      "outputs": [
        {
          "output_type": "execute_result",
          "data": {
            "text/plain": [
              "4"
            ]
          },
          "metadata": {},
          "execution_count": 253
        }
      ]
    },
    {
      "cell_type": "code",
      "source": [
        "import collections\n",
        "nums = [1,2,2,3,1]\n",
        "def findShortestSubArray(nums):\n",
        "  def majorityElement(nums):\n",
        "    counter = collections.Counter(nums)\n",
        "    lll=[]\n",
        "    for i in counter.keys():\n",
        "      if counter[i]==max(counter.values()):\n",
        "        lll.append(i)\n",
        "    return lll\n",
        "\n",
        "\n",
        "  listt=[]\n",
        "  for i in nums:\n",
        "    if i in majorityElement(nums):\n",
        "      index1=nums.index(i)\n",
        "      # print(index1)\n",
        "      index2=(len(nums)-nums[::-1].index(i))-1\n",
        "      # print('.',index2)\n",
        "      diff=(index2-index1)\n",
        "      if diff>0:\n",
        "        listt.append(diff)\n",
        "  return min(listt)+1\n",
        "print(findShortestSubArray(nums))"
      ],
      "metadata": {
        "colab": {
          "base_uri": "https://localhost:8080/"
        },
        "id": "zPuQSmzidm4f",
        "outputId": "9a220799-f552-4f4e-8a2b-b11c60aa673a"
      },
      "execution_count": null,
      "outputs": [
        {
          "output_type": "stream",
          "name": "stdout",
          "text": [
            "2\n"
          ]
        }
      ]
    },
    {
      "cell_type": "markdown",
      "source": [
        "16"
      ],
      "metadata": {
        "id": "QwRzuY7x9x02"
      }
    },
    {
      "cell_type": "code",
      "source": [
        "piles = [3,6,7,11]\n",
        "\n",
        "h = 8\n",
        "\n",
        "# Output:\n",
        "4"
      ],
      "metadata": {
        "colab": {
          "base_uri": "https://localhost:8080/"
        },
        "id": "z1aRj60a2ynR",
        "outputId": "eaa6309e-87db-489c-98ad-a4132b46aa2f"
      },
      "execution_count": null,
      "outputs": [
        {
          "output_type": "execute_result",
          "data": {
            "text/plain": [
              "4"
            ]
          },
          "metadata": {},
          "execution_count": 8
        }
      ]
    },
    {
      "cell_type": "code",
      "source": [
        "import math\n",
        "piles = [3,6,7,11]\n",
        "h = 8\n",
        "def minEatingSpeed(piles,h):\n",
        "  def totalHoursTaken(piles, k):\n",
        "      totalHours = 0\n",
        "      for pile in piles:\n",
        "          totalHours += math.ceil(pile / k)\n",
        "      return totalHours\n",
        "    \n",
        "\n",
        "  l, r = 1, max(piles)\n",
        "  while l < r:\n",
        "      mid = (l + r) // 2\n",
        "      if totalHoursTaken(piles, mid) > h:\n",
        "          l = mid + 1\n",
        "      else:\n",
        "          r = mid\n",
        "\n",
        "  return l\n",
        "print(minEatingSpeed(piles,h))"
      ],
      "metadata": {
        "colab": {
          "base_uri": "https://localhost:8080/"
        },
        "id": "mGT_W0nw-wOl",
        "outputId": "4c095558-e665-402c-ebe8-8c696501cb7f"
      },
      "execution_count": null,
      "outputs": [
        {
          "output_type": "stream",
          "name": "stdout",
          "text": [
            "4\n"
          ]
        }
      ]
    },
    {
      "cell_type": "code",
      "source": [
        "import math\n",
        "piles = [3,6,7,11]\n",
        "h = 8\n",
        "def minEatingSpeed(piles, h):\n",
        "             \n",
        "    #init pointers on the range of K\n",
        "        left = 1                                #min K cannot be 0. Starting from 1\n",
        "        right = max(piles)\n",
        "        sol = right\n",
        "        \n",
        "    #Apply binary search on the range of K. If mid K is less than hours, We can try for next best minimum value.\n",
        "        \n",
        "        while (left <= right):\n",
        "            \n",
        "            mid_K = ( left + right ) // 2\n",
        "            hours_spent = 0\n",
        "          \n",
        "    #hours_spent = work (i.e. bananas) / rate \n",
        "        \n",
        "            for pile in piles:\n",
        "                hours_spent += math.ceil(pile / mid_K)\n",
        "\n",
        "            if hours_spent <= h:\n",
        "                sol = mid_K\n",
        "                right = mid_K - 1\n",
        "            else:\n",
        "                left = mid_K + 1\n",
        "            \n",
        "        return sol\n",
        "print(minEatingSpeed(piles,h))"
      ],
      "metadata": {
        "colab": {
          "base_uri": "https://localhost:8080/"
        },
        "id": "CMRHLgrSCxzq",
        "outputId": "0ac24700-31a0-4192-bfa8-ae02b9600e2a"
      },
      "execution_count": null,
      "outputs": [
        {
          "output_type": "stream",
          "name": "stdout",
          "text": [
            "4\n"
          ]
        }
      ]
    },
    {
      "cell_type": "code",
      "source": [
        "import math"
      ],
      "metadata": {
        "id": "lnoGXV1FHQEj"
      },
      "execution_count": null,
      "outputs": []
    },
    {
      "cell_type": "code",
      "source": [
        "math.ceil(16/5)"
      ],
      "metadata": {
        "colab": {
          "base_uri": "https://localhost:8080/"
        },
        "id": "xGCD7KklHDU5",
        "outputId": "db9c8bcd-0831-4c57-8550-cb9800a36921"
      },
      "execution_count": null,
      "outputs": [
        {
          "output_type": "execute_result",
          "data": {
            "text/plain": [
              "4"
            ]
          },
          "metadata": {},
          "execution_count": 7
        }
      ]
    },
    {
      "cell_type": "code",
      "source": [
        "piles = [3,6,7,11]\n",
        "h = 8\n",
        "import math\n",
        "def minEatingSpeed(piles, h):\n",
        "        # brute force approch\n",
        "        # from 1 to max of piles check for eack number\n",
        "        # if total time takes is less than equal to the given time store\n",
        "        # keep the loop untill the min is found\n",
        "        ans = float('inf')\n",
        "        \n",
        "        for i in range(1,max(piles) + 1):\n",
        "            \n",
        "            currAns = 0\n",
        "            for ele in piles:\n",
        "                currAns += math.ceil(ele / i)\n",
        "                \n",
        "            if currAns <= h:\n",
        "                ans = min(ans,i)\n",
        "            \n",
        "        return ans\n",
        "print(minEatingSpeed(piles,h))"
      ],
      "metadata": {
        "colab": {
          "base_uri": "https://localhost:8080/"
        },
        "id": "q1vUvLN1CQOb",
        "outputId": "ad3de957-aad1-4600-d08a-d72cc039c9b3"
      },
      "execution_count": null,
      "outputs": [
        {
          "output_type": "stream",
          "name": "stdout",
          "text": [
            "4\n"
          ]
        }
      ]
    },
    {
      "cell_type": "markdown",
      "source": [
        "17"
      ],
      "metadata": {
        "id": "W5GbNtQ6KnNS"
      }
    },
    {
      "cell_type": "code",
      "source": [
        "arr = [1,2,3,4,5]\n",
        "\n",
        "k = 5\n",
        "\n",
        "x = 4\n",
        "\n",
        "# Output:\n",
        "[1, 2, 3, 4]"
      ],
      "metadata": {
        "id": "ool1BR5fEvSK"
      },
      "execution_count": null,
      "outputs": []
    },
    {
      "cell_type": "code",
      "source": [
        "arr = [1,2,3,4,5] #passed in TC with commenting of input\n",
        "k = 4\n",
        "x = 3\n",
        "def findClosestElements(arr, k, x):\n",
        "  arr=sorted(arr)\n",
        "  tt=[]\n",
        "  for i in range(len(arr)):\n",
        "    if x<0:\n",
        "      for j in range(i,k):\n",
        "        tt.append(arr[j])\n",
        "    else :\n",
        "      for l in range(i,k):\n",
        "        tt.append(arr[l])\n",
        "  return list(set(tt))\n",
        "print(findClosestElements(arr,k,x))"
      ],
      "metadata": {
        "colab": {
          "base_uri": "https://localhost:8080/"
        },
        "id": "eiXsAIEDKouE",
        "outputId": "22c1d03f-c330-4866-950f-2c8c7bec2670"
      },
      "execution_count": null,
      "outputs": [
        {
          "output_type": "stream",
          "name": "stdout",
          "text": [
            "[1, 2, 3, 4]\n"
          ]
        }
      ]
    },
    {
      "cell_type": "markdown",
      "source": [
        "18"
      ],
      "metadata": {
        "id": "OiRiM8H3jm36"
      }
    },
    {
      "cell_type": "code",
      "source": [
        "# Input:\n",
        "nums1 = [4,1,2]\n",
        "\n",
        "nums2 = [1,3,4,2]\n",
        "\n",
        "# Output:\n",
        "[-1,3,-1]"
      ],
      "metadata": {
        "colab": {
          "base_uri": "https://localhost:8080/"
        },
        "id": "LnQP33i3NbJ9",
        "outputId": "4c28b0f6-d76e-43da-8934-78e8cf0f3113"
      },
      "execution_count": null,
      "outputs": [
        {
          "output_type": "execute_result",
          "data": {
            "text/plain": [
              "[-1, 3, -1]"
            ]
          },
          "metadata": {},
          "execution_count": 71
        }
      ]
    },
    {
      "cell_type": "code",
      "source": [
        "nums1[-1]"
      ],
      "metadata": {
        "colab": {
          "base_uri": "https://localhost:8080/"
        },
        "id": "EjmTIBYNpZbB",
        "outputId": "37d1e026-a076-4b86-bc43-852c4f3bbfa7"
      },
      "execution_count": null,
      "outputs": [
        {
          "output_type": "execute_result",
          "data": {
            "text/plain": [
              "2"
            ]
          },
          "metadata": {},
          "execution_count": 72
        }
      ]
    },
    {
      "cell_type": "code",
      "source": [
        "nums1 = [4,1,2]\n",
        "nums2 = [1,3,4,2]\n",
        "\n",
        "def nextGreaterElement(nums1, nums2):\n",
        "  ll=[]\n",
        "  for i in nums1:\n",
        "    if i in nums2:\n",
        "      ind=nums2.index(i)\n",
        "      if ind!=(len(nums2)-1):\n",
        "        if nums2[ind]<nums2[ind+1]:\n",
        "          ll.append(nums2[ind+1])\n",
        "        else:\n",
        "          ll.append(-1)\n",
        "      else :\n",
        "        ll.append(-1)\n",
        "    else:\n",
        "      ll.append(-1)\n",
        "  return ll\n",
        "print(nextGreaterElement(nums1,nums2))\n"
      ],
      "metadata": {
        "colab": {
          "base_uri": "https://localhost:8080/"
        },
        "id": "GzSGFDpVjvaM",
        "outputId": "584244aa-bd27-4a4e-d919-f2f77bc62040"
      },
      "execution_count": null,
      "outputs": [
        {
          "output_type": "stream",
          "name": "stdout",
          "text": [
            "[-1, 3, -1]\n"
          ]
        }
      ]
    },
    {
      "cell_type": "markdown",
      "source": [
        "19"
      ],
      "metadata": {
        "id": "B_kYPq9kP2_y"
      }
    },
    {
      "cell_type": "code",
      "source": [
        "seats = [1,0,0,0,1,0,1]\n",
        "\n",
        "# Output:\n",
        "2"
      ],
      "metadata": {
        "colab": {
          "base_uri": "https://localhost:8080/"
        },
        "id": "AG3rQaySP2P6",
        "outputId": "2ef2b70e-2145-4316-db81-3e9886e09fd0"
      },
      "execution_count": null,
      "outputs": [
        {
          "output_type": "execute_result",
          "data": {
            "text/plain": [
              "2"
            ]
          },
          "metadata": {},
          "execution_count": 1
        }
      ]
    },
    {
      "cell_type": "code",
      "source": [
        "seats = [1,0,0,0,1,0,1]\n",
        "def maxDistToClosest(seats):\n",
        "  lstt=[]\n",
        "  for i in range(len(seats)):\n",
        "    if seats[i]!=0:\n",
        "      lstt.append(i)\n",
        "  # print(lstt)\n",
        "  ans = max(lstt[0], len(seats)-1-lstt[-1])\n",
        "  # print(ans)\n",
        "  lstt2=[]\n",
        "  for j in range(len(lstt)-1):\n",
        "    lstt2.append((lstt[j+1]-lstt[j])//2)\n",
        "  return max(lstt2+[ans])\n",
        "print(maxDistToClosest(seats))"
      ],
      "metadata": {
        "colab": {
          "base_uri": "https://localhost:8080/"
        },
        "id": "mJNnY_bdo95W",
        "outputId": "abb66f2e-ac35-43eb-c0b1-927db4b1be25"
      },
      "execution_count": null,
      "outputs": [
        {
          "output_type": "stream",
          "name": "stdout",
          "text": [
            "2\n"
          ]
        }
      ]
    },
    {
      "cell_type": "code",
      "source": [
        "#second method\n",
        "def maxDistToClosest(seats):\n",
        "\tseats = ''.join([str(seat) for seat in seats]).split('1')\n",
        "\treturn max([(len(tmp)-1)/2+1 if 0 < i < len(seats)-1 else len(tmp) for i, tmp in enumerate(seats)])\n",
        "maxDistToClosest(seats)"
      ],
      "metadata": {
        "colab": {
          "base_uri": "https://localhost:8080/"
        },
        "id": "oNqoaTKYw8bH",
        "outputId": "1671e802-2005-45f2-cf52-8166c20a534d"
      },
      "execution_count": null,
      "outputs": [
        {
          "output_type": "execute_result",
          "data": {
            "text/plain": [
              "2.0"
            ]
          },
          "metadata": {},
          "execution_count": 3
        }
      ]
    },
    {
      "cell_type": "markdown",
      "source": [
        "20"
      ],
      "metadata": {
        "id": "HEN2hGA6MLrl"
      }
    },
    {
      "cell_type": "code",
      "source": [
        "# Input:\n",
        "nums = [3,0,1]\n",
        "\n",
        "# Output:\n",
        "2"
      ],
      "metadata": {
        "colab": {
          "base_uri": "https://localhost:8080/"
        },
        "id": "Z3nALenPw8tu",
        "outputId": "8a0a512b-db8a-4e2a-f373-2dfc519c82b0"
      },
      "execution_count": null,
      "outputs": [
        {
          "output_type": "execute_result",
          "data": {
            "text/plain": [
              "2"
            ]
          },
          "metadata": {},
          "execution_count": 26
        }
      ]
    },
    {
      "cell_type": "code",
      "source": [
        "nums = [3,0,1]\n",
        "def missingNumber(nums):\n",
        "  for i in range(len(nums)+1):\n",
        "    if i not in nums:\n",
        "      return i\n",
        "print(missingNumber(nums))"
      ],
      "metadata": {
        "colab": {
          "base_uri": "https://localhost:8080/"
        },
        "id": "zltykKNtw87K",
        "outputId": "dee53521-aea8-452f-a464-414e4a26c1fc"
      },
      "execution_count": null,
      "outputs": [
        {
          "output_type": "stream",
          "name": "stdout",
          "text": [
            "2\n"
          ]
        }
      ]
    },
    {
      "cell_type": "markdown",
      "source": [
        "21"
      ],
      "metadata": {
        "id": "EDtzlaw1NSvy"
      }
    },
    {
      "cell_type": "code",
      "source": [
        "# Input:\n",
        "nums = [1,3,5,6]\n",
        "\n",
        "target = 5\n",
        "\n",
        "# Output:\n",
        "2"
      ],
      "metadata": {
        "id": "VfMLJMk3w9Ga"
      },
      "execution_count": null,
      "outputs": []
    },
    {
      "cell_type": "code",
      "source": [
        "nums = [1,3,5,6]\n",
        "target = 5\n",
        "def searchInsert(nums, target):\n",
        "  if target in nums:\n",
        "    return nums.index(target)\n",
        "  if target not in nums:\n",
        "    indd=0\n",
        "    for i in sorted(nums):\n",
        "      # print(i)\n",
        "      if i<target:\n",
        "        indd=indd+1\n",
        "    return indd\n",
        "print(searchInsert(nums, target))"
      ],
      "metadata": {
        "colab": {
          "base_uri": "https://localhost:8080/"
        },
        "id": "nDEp-q_4w9S7",
        "outputId": "cd77c594-f3e1-43d1-bc0e-c79e2cf52887"
      },
      "execution_count": null,
      "outputs": [
        {
          "output_type": "stream",
          "name": "stdout",
          "text": [
            "2\n"
          ]
        }
      ]
    },
    {
      "cell_type": "markdown",
      "source": [
        "22"
      ],
      "metadata": {
        "id": "QAyfw4iMY9Gd"
      }
    },
    {
      "cell_type": "code",
      "source": [
        "# Input:\n",
        "heights = [4,2,3,1]\n",
        "\n",
        "# Output:\n",
        "[0, 2, 3]"
      ],
      "metadata": {
        "id": "VBXgORJ_w9fO"
      },
      "execution_count": null,
      "outputs": []
    },
    {
      "cell_type": "code",
      "source": [
        "heights = [4,2,3,1]\n",
        "def findBuildings(heights):\n",
        "  height=heights.copy()\n",
        "  for i in range(len(heights)):\n",
        "    for j in range(i+1,len(heights)):\n",
        "      # print(j)\n",
        "      if heights[i]<heights[j]:\n",
        "        height.remove(heights[i])\n",
        "        break\n",
        "  # print(height)\n",
        "  indexes=[]\n",
        "  for i in height:\n",
        "    indexes.append(heights.index(i))\n",
        "  return indexes\n",
        "print(findBuildings(heights))"
      ],
      "metadata": {
        "colab": {
          "base_uri": "https://localhost:8080/"
        },
        "id": "NHwulhv6w-Mb",
        "outputId": "2b49f8f4-667d-4f50-b554-3c04487f7071"
      },
      "execution_count": null,
      "outputs": [
        {
          "output_type": "stream",
          "name": "stdout",
          "text": [
            "[0, 2, 3]\n"
          ]
        }
      ]
    },
    {
      "cell_type": "markdown",
      "source": [
        "23"
      ],
      "metadata": {
        "id": "hwAHL_gbqsHX"
      }
    },
    {
      "cell_type": "code",
      "source": [
        "# Input:\n",
        "stones = [2,7,4,1,8,1]\n",
        "\n",
        "# Output:\n",
        "1"
      ],
      "metadata": {
        "id": "n5kDS5Qkqrfq"
      },
      "execution_count": null,
      "outputs": []
    },
    {
      "cell_type": "code",
      "source": [
        "stone"
      ],
      "metadata": {
        "colab": {
          "base_uri": "https://localhost:8080/"
        },
        "id": "1W_q3ClBqrXp",
        "outputId": "07c3b3fa-8377-498f-ca9e-450b4c5ef757"
      },
      "execution_count": null,
      "outputs": [
        {
          "output_type": "execute_result",
          "data": {
            "text/plain": [
              "[1, 1, 2, 4, 7, 8]"
            ]
          },
          "metadata": {},
          "execution_count": 128
        }
      ]
    },
    {
      "cell_type": "code",
      "source": [
        "stones = [2,7,4,1,8,1]\n",
        "def lastStoneWeight(stones):\n",
        "  stone=sorted(stones)\n",
        "  for i in range(len(stone)):\n",
        "    stone=sorted(stone)\n",
        "    if len(stone)==1:\n",
        "      return stone[0]\n",
        "    else:\n",
        "      if stone[-1]>stone[-2]:\n",
        "        stone[-1]=stone[-1]-stone[-2]\n",
        "        stone.remove(stone[-2])\n",
        "      elif stone[-1]==stone[-2]:\n",
        "        stone.remove(stone[-2])\n",
        "        stone.remove(stone[-1])\n",
        "        break\n",
        "      else:\n",
        "        return 0\n",
        "  return stone[0]\n",
        "print(lastStoneWeight(stones))"
      ],
      "metadata": {
        "colab": {
          "base_uri": "https://localhost:8080/"
        },
        "id": "GA0STfm5qrbf",
        "outputId": "b864ea32-48da-4932-986f-c7272d2fba0a"
      },
      "execution_count": null,
      "outputs": [
        {
          "output_type": "stream",
          "name": "stdout",
          "text": [
            "1\n"
          ]
        }
      ]
    },
    {
      "cell_type": "code",
      "source": [
        "#second method\n",
        "def lastStoneWeight(stones):\n",
        "  if len(stones) == 1:\n",
        "      return stones[0]\n",
        "  stones.sort(reverse=True)\n",
        "  while len(stones) > 1:\n",
        "      #print(stones)\n",
        "      leftOver = abs(stones[0]-stones[1])\n",
        "      stones.pop(0)\n",
        "      stones.pop(0)\n",
        "      stones.append(leftOver)\n",
        "      stones.sort(reverse=True)\n",
        "  \n",
        "  if len(stones) == 1:\n",
        "      return stones[0]\n",
        "  return 0\n",
        "print(lastStoneWeight(stones))\n"
      ],
      "metadata": {
        "colab": {
          "base_uri": "https://localhost:8080/"
        },
        "id": "DZWUrSga2kbZ",
        "outputId": "1c81d551-019c-454d-d829-c70d86dd07c9"
      },
      "execution_count": null,
      "outputs": [
        {
          "output_type": "stream",
          "name": "stdout",
          "text": [
            "1\n"
          ]
        }
      ]
    },
    {
      "cell_type": "markdown",
      "source": [
        "24   Fair Candy Swap"
      ],
      "metadata": {
        "id": "WrtyV7Ef3eJm"
      }
    },
    {
      "cell_type": "code",
      "source": [
        "# Input:\n",
        "aliceSizes = [1,1]\n",
        "\n",
        "bobSizes = [2,2]\n",
        "\n",
        "# Output:\n",
        "[1,2]"
      ],
      "metadata": {
        "colab": {
          "base_uri": "https://localhost:8080/"
        },
        "id": "YkZyJlyEqrTn",
        "outputId": "2a938972-1024-4990-a438-8255001b4c7a"
      },
      "execution_count": null,
      "outputs": [
        {
          "output_type": "execute_result",
          "data": {
            "text/plain": [
              "[1, 2]"
            ]
          },
          "metadata": {},
          "execution_count": 190
        }
      ]
    },
    {
      "cell_type": "code",
      "source": [
        "aliceSizes = [1,1]\n",
        "bobSizes = [2,2]\n",
        "def fairCandySwap(aliceSizes, bobSizes):\n",
        "        aliceSum = 0\n",
        "        bobSum = 0\n",
        "        bobHash = set()\n",
        "\n",
        "        for a in aliceSizes:\n",
        "            aliceSum += a\n",
        "\n",
        "        for b in bobSizes:\n",
        "            bobSum += b\n",
        "            bobHash.add(b)\n",
        "\n",
        "        delta = (bobSum - aliceSum) / 2\n",
        "\n",
        "        for i in aliceSizes:\n",
        "            if(i+delta in bobHash):\n",
        "                value=[float(i), int(i+delta)]\n",
        "        return value  \n",
        "print(fairCandySwap(aliceSizes, bobSizes))"
      ],
      "metadata": {
        "colab": {
          "base_uri": "https://localhost:8080/"
        },
        "id": "-wGgCHnD0rc0",
        "outputId": "6ac0fb4f-289c-4bb4-c626-96cf476c7c5d"
      },
      "execution_count": 2,
      "outputs": [
        {
          "output_type": "stream",
          "name": "stdout",
          "text": [
            "[1.0, 2]\n"
          ]
        }
      ]
    },
    {
      "cell_type": "code",
      "source": [
        "aliceSizes = [1,1]\n",
        "\n",
        "bobSizes = [2,2]\n",
        "def fairCandySwap(aliceSizes, bobSizes):\n",
        "  sumAlice, sumBob, ans = sum(aliceSizes), sum(bobSizes), []\n",
        "  diff = (sumBob - sumAlice) / 2\n",
        "  setAliceSizes = set(aliceSizes)\n",
        "  for bobItem in bobSizes:\n",
        "      if bobItem - diff in setAliceSizes:\n",
        "          ans.append(int(bobItem - diff))\n",
        "          ans.append(bobItem)\n",
        "          return ans\n",
        "  return ans\n",
        "print(fairCandySwap(aliceSizes, bobSizes))\n"
      ],
      "metadata": {
        "colab": {
          "base_uri": "https://localhost:8080/"
        },
        "id": "kMVXX-RXqrPk",
        "outputId": "80ec43ee-0de4-4a04-8de4-82bb42f9b475"
      },
      "execution_count": null,
      "outputs": [
        {
          "output_type": "stream",
          "name": "stdout",
          "text": [
            "[1, 2]\n"
          ]
        }
      ]
    },
    {
      "cell_type": "code",
      "source": [
        "#second method\n",
        "aliceSizes = [1,1]\n",
        "bobSizes = [2,2]\n",
        "from collections import Counter\n",
        "def fairCandySwap(aliceSizes, bobSizes):\n",
        "        sumAlice = sum(aliceSizes)\n",
        "        sumBob = sum(bobSizes)     \n",
        "        \n",
        "        m = (sumAlice + sumBob) // 2\n",
        "        \n",
        "        differencea = m - sumAlice\n",
        "        \n",
        "        aC, bC = Counter(aliceSizes), Counter(bobSizes)\n",
        "        \n",
        "        for i in aC:\n",
        "            if bC[i+differencea]:\n",
        "                return [i, i+differencea]\n",
        "print(fairCandySwap(aliceSizes, bobSizes))\n"
      ],
      "metadata": {
        "colab": {
          "base_uri": "https://localhost:8080/"
        },
        "id": "Ku2-X3aWIo5H",
        "outputId": "79d3aced-c259-4440-9e6f-5eb0f9a08b8a"
      },
      "execution_count": null,
      "outputs": [
        {
          "output_type": "stream",
          "name": "stdout",
          "text": [
            "[1, 2]\n"
          ]
        }
      ]
    },
    {
      "cell_type": "code",
      "source": [
        "#third method\n",
        "aliceSizes = [1,1]\n",
        "bobSizes = [2,2]\n",
        "def fairCandySwap(aliceSizes, bobSizes):\n",
        "        aliceSum = sum(aliceSizes)\n",
        "        bobSum = sum(bobSizes)\n",
        "        if aliceSum > bobSum:\n",
        "            dif = (aliceSum - bobSum) // 2\n",
        "            for i in range(len(aliceSizes)):\n",
        "                if aliceSizes[i] - dif in bobSizes:\n",
        "                    return [aliceSizes[i], aliceSizes[i] - dif]\n",
        "        else:\n",
        "            dif = (bobSum - aliceSum) // 2\n",
        "            for i in range(len(aliceSizes)):\n",
        "                if aliceSizes[i] + dif in bobSizes:\n",
        "                    return [aliceSizes[i], aliceSizes[i] + dif]\n",
        "print(fairCandySwap(aliceSizes, bobSizes))"
      ],
      "metadata": {
        "colab": {
          "base_uri": "https://localhost:8080/"
        },
        "id": "-f05tiUXJwSY",
        "outputId": "a18579d6-29ca-4705-85d4-7db36017bdb2"
      },
      "execution_count": null,
      "outputs": [
        {
          "output_type": "stream",
          "name": "stdout",
          "text": [
            "[1, 2]\n"
          ]
        }
      ]
    },
    {
      "cell_type": "markdown",
      "source": [
        "25"
      ],
      "metadata": {
        "id": "MNCNovlQK-lo"
      }
    },
    {
      "cell_type": "code",
      "source": [
        "# Input:\n",
        "[3,1,2,4]\n",
        "\n",
        "# Output:\n",
        "[2, 4, 3, 1]"
      ],
      "metadata": {
        "id": "K6cxeChmqrL2"
      },
      "execution_count": null,
      "outputs": []
    },
    {
      "cell_type": "code",
      "source": [
        "A=[3,1,2,4]\n",
        "def sortArrayByParity(A):\n",
        "  ans1=[]\n",
        "  ans2=[]\n",
        "  for i in A:\n",
        "    if i%2==0:\n",
        "      ans1+=[i]\n",
        "    else:\n",
        "      ans2+=[i]\n",
        "  return ans1+ans2\n",
        "print(sortArrayByParity(A))"
      ],
      "metadata": {
        "colab": {
          "base_uri": "https://localhost:8080/"
        },
        "id": "LRxdfmd_qrHy",
        "outputId": "90e46f59-452f-469d-f2e6-197715d70e47"
      },
      "execution_count": null,
      "outputs": [
        {
          "output_type": "stream",
          "name": "stdout",
          "text": [
            "[2, 4, 3, 1]\n"
          ]
        }
      ]
    },
    {
      "cell_type": "code",
      "source": [],
      "metadata": {
        "id": "SWMHepOFqrDp"
      },
      "execution_count": null,
      "outputs": []
    },
    {
      "cell_type": "code",
      "source": [],
      "metadata": {
        "id": "XGnj6ac-qq_m"
      },
      "execution_count": null,
      "outputs": []
    },
    {
      "cell_type": "code",
      "source": [],
      "metadata": {
        "id": "n2-sa6W7qq7n"
      },
      "execution_count": null,
      "outputs": []
    },
    {
      "cell_type": "code",
      "source": [],
      "metadata": {
        "id": "fkibidmBqq34"
      },
      "execution_count": null,
      "outputs": []
    },
    {
      "cell_type": "code",
      "source": [],
      "metadata": {
        "id": "7gaUlcVTqqy3"
      },
      "execution_count": null,
      "outputs": []
    },
    {
      "cell_type": "code",
      "source": [],
      "metadata": {
        "id": "22Oys9ONqquf"
      },
      "execution_count": null,
      "outputs": []
    },
    {
      "cell_type": "code",
      "source": [],
      "metadata": {
        "id": "THfmMc6lqqqE"
      },
      "execution_count": null,
      "outputs": []
    },
    {
      "cell_type": "code",
      "source": [],
      "metadata": {
        "id": "qb2RNf1Wqql7"
      },
      "execution_count": null,
      "outputs": []
    },
    {
      "cell_type": "code",
      "source": [],
      "metadata": {
        "id": "2Z66R30Dqqb2"
      },
      "execution_count": null,
      "outputs": []
    },
    {
      "cell_type": "code",
      "source": [],
      "metadata": {
        "id": "oNmRci-RqqPM"
      },
      "execution_count": null,
      "outputs": []
    },
    {
      "cell_type": "code",
      "source": [],
      "metadata": {
        "id": "U-sj_KXLqqJM"
      },
      "execution_count": null,
      "outputs": []
    },
    {
      "cell_type": "code",
      "source": [],
      "metadata": {
        "id": "bbhwWyxrqqFU"
      },
      "execution_count": null,
      "outputs": []
    },
    {
      "cell_type": "code",
      "source": [],
      "metadata": {
        "id": "knLh_6AnqpyH"
      },
      "execution_count": null,
      "outputs": []
    },
    {
      "cell_type": "code",
      "source": [],
      "metadata": {
        "id": "UIb7D7APw_fi"
      },
      "execution_count": null,
      "outputs": []
    },
    {
      "cell_type": "code",
      "source": [],
      "metadata": {
        "id": "R9bUnzFFw_on"
      },
      "execution_count": null,
      "outputs": []
    },
    {
      "cell_type": "code",
      "source": [],
      "metadata": {
        "id": "huDSe8tjw_zW"
      },
      "execution_count": null,
      "outputs": []
    },
    {
      "cell_type": "code",
      "source": [],
      "metadata": {
        "id": "Jnd7OLtGcsyg"
      },
      "execution_count": null,
      "outputs": []
    },
    {
      "cell_type": "code",
      "source": [],
      "metadata": {
        "id": "gR62eJRRcsnd"
      },
      "execution_count": null,
      "outputs": []
    },
    {
      "cell_type": "code",
      "source": [],
      "metadata": {
        "id": "l2yD9N7YcsYH"
      },
      "execution_count": null,
      "outputs": []
    },
    {
      "cell_type": "code",
      "source": [],
      "metadata": {
        "id": "GTjwci1wcsJT"
      },
      "execution_count": null,
      "outputs": []
    },
    {
      "cell_type": "code",
      "source": [],
      "metadata": {
        "id": "Ml7JnXSYcr9v"
      },
      "execution_count": null,
      "outputs": []
    },
    {
      "cell_type": "code",
      "source": [],
      "metadata": {
        "id": "rge0R614crtw"
      },
      "execution_count": null,
      "outputs": []
    },
    {
      "cell_type": "code",
      "source": [],
      "metadata": {
        "id": "_k_J9Myxcre-"
      },
      "execution_count": null,
      "outputs": []
    },
    {
      "cell_type": "code",
      "source": [],
      "metadata": {
        "id": "7nuTNYgecrQz"
      },
      "execution_count": null,
      "outputs": []
    },
    {
      "cell_type": "code",
      "source": [],
      "metadata": {
        "id": "Kq0ZxdCLcq5T"
      },
      "execution_count": null,
      "outputs": []
    },
    {
      "cell_type": "markdown",
      "source": [
        "Recursion:"
      ],
      "metadata": {
        "id": "sFJ8lF4TysDk"
      }
    },
    {
      "cell_type": "code",
      "source": [
        "def pi(a,b):\n",
        "  if a>b:\n",
        "    return\n",
        "  print(a)\n",
        "  pi(a+1,b)\n",
        "pi(2,8)"
      ],
      "metadata": {
        "colab": {
          "base_uri": "https://localhost:8080/"
        },
        "id": "bqdxjGjHxB62",
        "outputId": "ae9ee39a-8a55-4695-8b53-4f2ea7ef99cb"
      },
      "execution_count": null,
      "outputs": [
        {
          "output_type": "stream",
          "name": "stdout",
          "text": [
            "2\n",
            "3\n",
            "4\n",
            "5\n",
            "6\n",
            "7\n",
            "8\n"
          ]
        }
      ]
    },
    {
      "cell_type": "code",
      "source": [
        "def pd(a,b):\n",
        "  if a>b:\n",
        "    return\n",
        "  pd(a+1,b)\n",
        "  print(a)\n",
        "pd(2,8)"
      ],
      "metadata": {
        "colab": {
          "base_uri": "https://localhost:8080/"
        },
        "id": "W4BuFi8oxgtQ",
        "outputId": "2d032409-87c2-4132-f460-b421c4f74f86"
      },
      "execution_count": null,
      "outputs": [
        {
          "output_type": "stream",
          "name": "stdout",
          "text": [
            "8\n",
            "7\n",
            "6\n",
            "5\n",
            "4\n",
            "3\n",
            "2\n"
          ]
        }
      ]
    },
    {
      "cell_type": "code",
      "source": [
        "def pi(a,b):\n",
        "  if a>b:\n",
        "    return\n",
        "  print(a)\n",
        "  pi(a+1,b)\n",
        "pi(2,8)"
      ],
      "metadata": {
        "id": "PnDXthzqyXq5"
      },
      "execution_count": null,
      "outputs": []
    }
  ]
}