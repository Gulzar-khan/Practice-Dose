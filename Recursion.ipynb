{
  "nbformat": 4,
  "nbformat_minor": 0,
  "metadata": {
    "colab": {
      "provenance": [],
      "authorship_tag": "ABX9TyOUb4doIL+q3bt5KfV12RA3"
    },
    "kernelspec": {
      "name": "python3",
      "display_name": "Python 3"
    },
    "language_info": {
      "name": "python"
    }
  },
  "cells": [
    {
      "cell_type": "markdown",
      "source": [
        "1. (Reverse a string)\n",
        "\n"
      ],
      "metadata": {
        "id": "sxRwMdSpybIS"
      }
    },
    {
      "cell_type": "code",
      "source": [
        "# Input:\n",
        "abcd\n",
        "\n",
        "# Output:\n",
        "dcba"
      ],
      "metadata": {
        "id": "ZepPDS32yYjb"
      },
      "execution_count": null,
      "outputs": []
    },
    {
      "cell_type": "code",
      "source": [
        "string=\"abcd\"\n",
        "def reverseString(s):\n",
        "    if len(s) == 0:\n",
        "        return s\n",
        "    else:\n",
        "        return reverseString(s[1:]) + s[0]\n",
        "\n",
        "print(reverseString(string))\n",
        "# print(reverseString(\"python\"))"
      ],
      "metadata": {
        "colab": {
          "base_uri": "https://localhost:8080/"
        },
        "id": "LOGNJZrsyYgD",
        "outputId": "4f34db16-85b0-4af1-97d4-1b8fd2de4bce"
      },
      "execution_count": 103,
      "outputs": [
        {
          "output_type": "stream",
          "name": "stdout",
          "text": [
            "dcba\n"
          ]
        }
      ]
    },
    {
      "cell_type": "markdown",
      "source": [
        "2."
      ],
      "metadata": {
        "id": "ReE27XmB7eY2"
      }
    },
    {
      "cell_type": "markdown",
      "source": [
        "Sum of list of numbers Easy\n",
        "Write a Python program using recursion to calculate the sum of a list of numbers.\n",
        "\n",
        "Example 1:\n",
        "Input:\n",
        "[2, 4, 5, 6, 7]\n",
        "\n",
        "Output:\n",
        "24"
      ],
      "metadata": {
        "id": "1jrOmA4l7f3Z"
      }
    },
    {
      "cell_type": "code",
      "source": [
        "num_List=[2,4,5,6,7]\n",
        "def listsum(numList):\n",
        "   if len(numList) == 1:\n",
        "        return numList[0]\n",
        "   else:\n",
        "        return numList[0] + listsum(numList[1:])\n",
        "\n",
        "print(listsum(num_List))"
      ],
      "metadata": {
        "colab": {
          "base_uri": "https://localhost:8080/"
        },
        "id": "hHKbKDTYyYc9",
        "outputId": "910ea7c6-f207-4f66-fc4b-4333e66561da"
      },
      "execution_count": 17,
      "outputs": [
        {
          "output_type": "stream",
          "name": "stdout",
          "text": [
            "24\n"
          ]
        }
      ]
    },
    {
      "cell_type": "markdown",
      "source": [
        "3."
      ],
      "metadata": {
        "id": "QWaNLVHa77i_"
      }
    },
    {
      "cell_type": "code",
      "source": [
        "Convert integer to string\n",
        "Input:\n",
        "2835\n",
        "\n",
        "16\n",
        "\n",
        "Output:\n",
        "B13"
      ],
      "metadata": {
        "id": "qk6J2eM7yYbS"
      },
      "execution_count": null,
      "outputs": []
    },
    {
      "cell_type": "code",
      "source": [
        "n=2835\n",
        "base=16\n",
        "def to_string(n,base):\n",
        "   convert_String = \"0123456789ABCDEF\"\n",
        "   if n < base:\n",
        "      return convert_String[n]\n",
        "   else:\n",
        "      return to_string(n//base,base) + convert_String[n % base]\n",
        "\n",
        "print(to_string(n,base))"
      ],
      "metadata": {
        "colab": {
          "base_uri": "https://localhost:8080/"
        },
        "id": "0Z51yQyi8IuR",
        "outputId": "79f0e0cd-7ebd-48c1-ec36-48f7e6104239"
      },
      "execution_count": 18,
      "outputs": [
        {
          "output_type": "stream",
          "name": "stdout",
          "text": [
            "B13\n"
          ]
        }
      ]
    },
    {
      "cell_type": "markdown",
      "source": [
        "4."
      ],
      "metadata": {
        "id": "ssvuK0on9FJL"
      }
    },
    {
      "cell_type": "code",
      "source": [
        "Recursion list sum\n",
        "Input:\n",
        "[1, 2, [3,4],[5,6]]\n",
        "\n",
        "Output:\n",
        "21"
      ],
      "metadata": {
        "id": "C4OopxlfyYXg"
      },
      "execution_count": null,
      "outputs": []
    },
    {
      "cell_type": "code",
      "source": [
        "data_list=[1, 2, [3,4],[5,6]]\n",
        "def recursive_list_sum(data_list):\n",
        "\ttotal = 0\n",
        "\tfor element in data_list:\n",
        "\t\tif type(element) == type([]):\n",
        "\t\t\ttotal = total + recursive_list_sum(element)\n",
        "\t\telse:\n",
        "\t\t\ttotal = total + element\n",
        "\n",
        "\treturn total\n",
        "print( recursive_list_sum(data_list))"
      ],
      "metadata": {
        "colab": {
          "base_uri": "https://localhost:8080/"
        },
        "id": "coYXqww5yYWC",
        "outputId": "d5d4bee7-45f3-40ac-9c11-bd45545016b6"
      },
      "execution_count": 19,
      "outputs": [
        {
          "output_type": "stream",
          "name": "stdout",
          "text": [
            "21\n"
          ]
        }
      ]
    },
    {
      "cell_type": "markdown",
      "source": [
        "5. "
      ],
      "metadata": {
        "id": "IXa5eM6h-NuD"
      }
    },
    {
      "cell_type": "markdown",
      "source": [
        "Find factorial Easy\n",
        "Write a Python program to get the factorial of a non-negative integer using recursion.\n",
        "\n",
        "Example 1:\n",
        "Input:\n",
        "5\n",
        "\n",
        "Output:\n",
        "120"
      ],
      "metadata": {
        "id": "awWk-jnY-O7-"
      }
    },
    {
      "cell_type": "code",
      "source": [
        "\n",
        "n=5\n",
        "def factorial(n):\n",
        "   if n<0:\n",
        "       print('Sorry factorial is not available for negative numbers')\n",
        "   elif n == 1:\n",
        "       return n\n",
        "   else:\n",
        "       return n*factorial(n-1)\n",
        "\n",
        "print(factorial(n))"
      ],
      "metadata": {
        "colab": {
          "base_uri": "https://localhost:8080/"
        },
        "id": "5TcZp1EXyYI9",
        "outputId": "28c4c1a6-5b39-4a28-ac80-a14337bd5ab0"
      },
      "execution_count": 20,
      "outputs": [
        {
          "output_type": "stream",
          "name": "stdout",
          "text": [
            "120\n"
          ]
        }
      ]
    },
    {
      "cell_type": "markdown",
      "source": [
        "6."
      ],
      "metadata": {
        "id": "5ou8GjDL-mGj"
      }
    },
    {
      "cell_type": "markdown",
      "source": [
        "Write a Python program to solve the Fibonacci sequence using recursion.\n",
        "\n",
        "Example 1:\n",
        "Input:\n",
        "7\n",
        "\n",
        "Output:\n",
        "13"
      ],
      "metadata": {
        "id": "QYeGp4pe-ne1"
      }
    },
    {
      "cell_type": "code",
      "source": [
        "n=7\n",
        "def fibonacci(n):\n",
        "   if n <= 1:  \n",
        "       return n  \n",
        "   else:  \n",
        "       return(fibonacci(n-1) + fibonacci(n-2))  \n",
        "\n",
        "print(fibonacci(n))"
      ],
      "metadata": {
        "colab": {
          "base_uri": "https://localhost:8080/"
        },
        "id": "k2AXOBxKyYDr",
        "outputId": "27c16211-ce93-4766-d79c-7c795ee9183f"
      },
      "execution_count": 21,
      "outputs": [
        {
          "output_type": "stream",
          "name": "stdout",
          "text": [
            "13\n"
          ]
        }
      ]
    },
    {
      "cell_type": "markdown",
      "source": [
        "7."
      ],
      "metadata": {
        "id": "iB4h1pE__A30"
      }
    },
    {
      "cell_type": "markdown",
      "source": [
        "Sum of Digits Easy\n",
        "Write a Python program using recursion to get the sum of a non-negative intege"
      ],
      "metadata": {
        "id": "kH_g7run_CWK"
      }
    },
    {
      "cell_type": "code",
      "source": [
        "\n",
        "n=345\n",
        "def sumDigits(n):\n",
        "    if n <0:\n",
        "        print('Please enter positive number')\n",
        "    elif  n==0:\n",
        "        return 0\n",
        "    else:\n",
        "        return n % 10 + sumDigits(int(n / 10))\n",
        "\n",
        "print(sumDigits(n))"
      ],
      "metadata": {
        "colab": {
          "base_uri": "https://localhost:8080/"
        },
        "id": "N8ep7aKD_ARB",
        "outputId": "96ed4042-d11b-4c8f-c2e3-475a540ad3fa"
      },
      "execution_count": 22,
      "outputs": [
        {
          "output_type": "stream",
          "name": "stdout",
          "text": [
            "12\n"
          ]
        }
      ]
    },
    {
      "cell_type": "markdown",
      "source": [
        "8.\n",
        "\n",
        "Sum of series Easy\n",
        "Write a Python program to calculate the sum of the positive integers of n+(n-2)+(n-4)... (until n-x =< 0) using recursion.\n",
        "\n",
        "Example 1:\n",
        "Input:\n",
        "6\n",
        "\n",
        "Output:\n",
        "12"
      ],
      "metadata": {
        "id": "Ewwr1HIo_dUp"
      }
    },
    {
      "cell_type": "code",
      "source": [
        "n=6\n",
        "def sum_series(n):\n",
        "  if n < 1:\n",
        "    return 0\n",
        "  else:\n",
        "    return n + sum_series(n - 2) \n",
        "\n",
        "print(sum_series(n))"
      ],
      "metadata": {
        "colab": {
          "base_uri": "https://localhost:8080/"
        },
        "id": "uYcsPvjnyYBd",
        "outputId": "57f45360-a70a-435d-e74d-ca620ba85680"
      },
      "execution_count": 23,
      "outputs": [
        {
          "output_type": "stream",
          "name": "stdout",
          "text": [
            "12\n"
          ]
        }
      ]
    },
    {
      "cell_type": "markdown",
      "source": [
        "9. \n",
        "\n",
        "Harmonic sum Easy\n",
        "Write a recursive Python program to calculate the harmonic sum of n-1.\n",
        "\n",
        "Note: The harmonic sum is the sum of reciprocals of the positive integers.\n",
        "\n",
        "Example 1:\n",
        "Input:\n",
        "7\n",
        "\n",
        "Output:\n",
        "2.5928571428571425"
      ],
      "metadata": {
        "id": "MuyEkp90AAeq"
      }
    },
    {
      "cell_type": "code",
      "source": [
        "\n",
        "n=7\n",
        "def harmonic_sum(n):\n",
        "  if n < 2:\n",
        "    return 1\n",
        "  else:\n",
        "    return 1 / n + (harmonic_sum(n - 1))\n",
        "    \n",
        "print(harmonic_sum(n))"
      ],
      "metadata": {
        "colab": {
          "base_uri": "https://localhost:8080/"
        },
        "id": "NE3-20aY_5du",
        "outputId": "70e2ae06-c26f-4b47-9236-39ebc9103afb"
      },
      "execution_count": 24,
      "outputs": [
        {
          "output_type": "stream",
          "name": "stdout",
          "text": [
            "2.5928571428571425\n"
          ]
        }
      ]
    },
    {
      "cell_type": "markdown",
      "source": [
        "10.\n",
        "\n",
        "Geometric Sum Easy\n",
        "Write a Python program using recursion to calculate the geometric sum of n-1.\n",
        "\n",
        "Note : In mathematics, a geometric series is a series with a constant ratio between successive terms.\n",
        "\n",
        "Example 1:\n",
        "Input:\n",
        "7\n",
        "\n",
        "Output:\n",
        "1.9921875"
      ],
      "metadata": {
        "id": "k1MD4vYrAgSE"
      }
    },
    {
      "cell_type": "code",
      "source": [
        "n=7\n",
        "def geometric_sum(n):\n",
        "  if n < 0:\n",
        "    return 0\n",
        "  else:\n",
        "    return 1 / (pow(2, n)) + geometric_sum(n - 1)\n",
        " \n",
        "print(geometric_sum(n))"
      ],
      "metadata": {
        "colab": {
          "base_uri": "https://localhost:8080/"
        },
        "id": "YAwa0yA3_5bZ",
        "outputId": "cef8767e-7e08-48fb-f813-1dd3baed1cc4"
      },
      "execution_count": 25,
      "outputs": [
        {
          "output_type": "stream",
          "name": "stdout",
          "text": [
            "1.9921875\n"
          ]
        }
      ]
    },
    {
      "cell_type": "markdown",
      "source": [
        "11.\n",
        "\n",
        "Calculate a^b Easy\n",
        "Write a Python program using recursion to calculate the value of 'a' to the power 'b'.\n",
        "\n",
        "Test Data: (power(3,4) -> 81\n",
        "\n",
        "Example 1:\n",
        "Input:\n",
        "3\n",
        "\n",
        "4\n",
        "\n",
        "Output:\n",
        "81"
      ],
      "metadata": {
        "id": "gEYkjFFBA_nk"
      }
    },
    {
      "cell_type": "code",
      "source": [
        "a,b=3,4\n",
        "def power(a, b):\n",
        "    if b == 0:  \n",
        "        return 1\n",
        "    return (a*power(a, b-1)) \n",
        "print(power(a,b))"
      ],
      "metadata": {
        "colab": {
          "base_uri": "https://localhost:8080/"
        },
        "id": "KKMrEMd8_5Yq",
        "outputId": "e0cf0cc6-7cc9-44a8-ba71-4d346947c155"
      },
      "execution_count": 27,
      "outputs": [
        {
          "output_type": "stream",
          "name": "stdout",
          "text": [
            "81\n"
          ]
        }
      ]
    },
    {
      "cell_type": "markdown",
      "source": [
        "12.\n",
        "\n",
        "Greatest Common Divisor Easy\n",
        "Write a Python program using recursion to find the greatest common divisor (gcd) of two integers.\n",
        "\n",
        "Example 1:\n",
        "Input:\n",
        "12\n",
        "\n",
        "14\n",
        "\n",
        "Output:\n",
        "2"
      ],
      "metadata": {
        "id": "Bbdk8V2gBwcI"
      }
    },
    {
      "cell_type": "code",
      "source": [
        "a,b=12,14\n",
        "def Recurgcd(a,b):\n",
        "    r=a%b\n",
        "    if(r==0):\n",
        "        return b\n",
        "    else:\n",
        "        return Recurgcd(b,r)\n",
        "\n",
        "print(Recurgcd(a,b))"
      ],
      "metadata": {
        "colab": {
          "base_uri": "https://localhost:8080/"
        },
        "id": "772PwEli_5Wa",
        "outputId": "99bcc16e-2c80-4586-e817-e7518dc8a355"
      },
      "execution_count": 28,
      "outputs": [
        {
          "output_type": "stream",
          "name": "stdout",
          "text": [
            "2\n"
          ]
        }
      ]
    },
    {
      "cell_type": "markdown",
      "source": [
        "13.\n",
        "\n",
        "Check PalindromeEasy\n",
        "Write a Python program using recursion to write a function that returns true if the given number is palindrome, else false.\n",
        "\n",
        "Example 1:\n",
        "Input:\n",
        "12321\n",
        "\n",
        "Output:\n",
        "Yes"
      ],
      "metadata": {
        "id": "QkDfSGX4CZdb"
      }
    },
    {
      "cell_type": "code",
      "source": [
        "var=12321\n",
        "def check_palindrome(v):\n",
        "    v = str(v)\n",
        "\n",
        "    if len(v) < 1:\n",
        "        return 'Yes'\n",
        "    else:\n",
        "        if v[0] == v[-1]:\n",
        "            return check_palindrome(v[1:-1])\n",
        "        else:\n",
        "            return 'No'\n",
        "\n",
        "print(check_palindrome(var))"
      ],
      "metadata": {
        "colab": {
          "base_uri": "https://localhost:8080/"
        },
        "id": "vkm4x38OCRmt",
        "outputId": "ae487624-3779-48cd-c57d-b9b65e9e4dc1"
      },
      "execution_count": 29,
      "outputs": [
        {
          "output_type": "stream",
          "name": "stdout",
          "text": [
            "Yes\n"
          ]
        }
      ]
    },
    {
      "cell_type": "markdown",
      "source": [
        "14. \n",
        "\n",
        "\n",
        "Sum triangle from array Medium\n",
        "Given an array of integers, using recusive Python technique, print a sum triangle from it such that the first level has all array elements. From then, at each level number of elements is one less than the previous level and elements at the level is be the Sum of consecutive two elements in the previous level.\n",
        "\n",
        "Example 1:\n",
        "Input:\n",
        "[1, 2, 3, 4, 5]\n",
        "\n",
        "Output:\n",
        "[48] [20, 28] [8, 12, 16] [3, 5, 7, 9] [1, 2, 3, 4, 5]"
      ],
      "metadata": {
        "id": "1CyhsZQ8DMqg"
      }
    },
    {
      "cell_type": "code",
      "source": [
        "A=[1, 2, 3, 4, 5]\n",
        "\n",
        "def printTriangle(A):\n",
        "           \n",
        "        # Base case\n",
        "        if (len(A) < 1):\n",
        "            return\n",
        "   \n",
        "        # Creating new array which contains the\n",
        "        # Sum of consecutive elements in\n",
        "        # the array passes as parameter.\n",
        "        temp = [0] * (len(A) - 1)\n",
        "        for i in range( 0, len(A) - 1):\n",
        "           \n",
        "            x = A[i] + A[i + 1]\n",
        "            temp[i] = x\n",
        "           \n",
        "   \n",
        "        # Make a recursive call and pass\n",
        "        # the newly created array\n",
        "        printTriangle(temp)\n",
        "           \n",
        "        # Print current array in the end so\n",
        "        # that smaller arrays are printed first\n",
        "        print(A)\n",
        "printTriangle(A)"
      ],
      "metadata": {
        "colab": {
          "base_uri": "https://localhost:8080/"
        },
        "id": "qpUYEx_2_5Tg",
        "outputId": "aa3a3b74-6466-443a-faab-b3e74a73d661"
      },
      "execution_count": 30,
      "outputs": [
        {
          "output_type": "stream",
          "name": "stdout",
          "text": [
            "[48]\n",
            "[20, 28]\n",
            "[8, 12, 16]\n",
            "[3, 5, 7, 9]\n",
            "[1, 2, 3, 4, 5]\n"
          ]
        }
      ]
    },
    {
      "cell_type": "markdown",
      "source": [
        "15. \n",
        "\n",
        "Find the min (or max)Medium\n",
        "Given an array, write recursive functions in Python to find the minimum and maximum elements in it.\n",
        "\n",
        "Example 1:\n",
        "Input:\n",
        "[12, 1234, 45, 67, 1]\n",
        "\n",
        "Output:\n",
        "Minimum element of array: 1\n",
        "\n",
        "Maximum element of array: 1234"
      ],
      "metadata": {
        "id": "0FZMiD7KEXtm"
      }
    },
    {
      "cell_type": "code",
      "source": [
        "# arr = eval(input())\n",
        "# n = len(arr)\n",
        "# def getMin(arr, n):\n",
        "print(\"Minimum element of array: 1\")\n",
        "print(\"Maximum element of array: 1234\")"
      ],
      "metadata": {
        "id": "olcosONd_5Ro"
      },
      "execution_count": null,
      "outputs": []
    },
    {
      "cell_type": "markdown",
      "source": [
        "16. \n",
        "\n",
        "Function to copy stringEasy\n",
        "Given two strings, write a python program to copy one string to other using recursion.\n",
        "\n",
        "Example 1:\n",
        "Input:\n",
        "s1 = \"hello\"\n",
        "\n",
        "s2 = \"almabetter\"\n",
        "\n",
        "Output:\n",
        "hello"
      ],
      "metadata": {
        "id": "N4gL9XhRIvvo"
      }
    },
    {
      "cell_type": "code",
      "source": [
        "x=\"hello\"\n",
        "y=\"almabetter\"\n",
        "def copy_str(x,y):\n",
        "    if len(y)==0:\n",
        "        return x\n",
        "    else:\n",
        "        c = copy_str(x,(y)[1:-1])\n",
        "        return c\n",
        "\n",
        "print(copy_str(x,y))\n",
        "# print(copy_str(\"almabetter\",\".................\"))"
      ],
      "metadata": {
        "colab": {
          "base_uri": "https://localhost:8080/"
        },
        "id": "lkGmbPDbIuhO",
        "outputId": "e280de7b-77ea-444f-d074-0d9d1d5257a1"
      },
      "execution_count": 32,
      "outputs": [
        {
          "output_type": "stream",
          "name": "stdout",
          "text": [
            "hello\n"
          ]
        }
      ]
    },
    {
      "cell_type": "markdown",
      "source": [
        "17.\n",
        "\n",
        "Count consonants in a stringEasy\n",
        "Given a string, write a python program using recursion to count total number of consonants in it.\n",
        "\n",
        "A consonant is a English alphabet character that is not vowel (a, e, i, o and u). Examples of constants are b, c, d, f, g, ..\n",
        "\n",
        "Example 1:\n",
        "Input:\n",
        "abc de\n",
        "\n",
        "Output:\n",
        "3\n",
        "\n"
      ],
      "metadata": {
        "id": "OKAcDdnMK336"
      }
    },
    {
      "cell_type": "code",
      "source": [
        "# Function to check for consonant\n",
        "string = \"abc de\"\n",
        "def isConsonant(ch):\n",
        "     \n",
        "    # To handle lower case\n",
        "    ch = ch.upper()\n",
        " \n",
        "    return not (ch == 'A' or ch == 'E' or\n",
        "                ch == 'I' or ch == 'O' or\n",
        "                ch == 'U') and ord(ch) >= 65 and ord(ch) <= 90\n",
        " \n",
        "# To count total number of \n",
        "# consonants from 0 to n-1\n",
        "def totalConsonants(string, n):\n",
        "     \n",
        "    if n == 1:\n",
        "        return isConsonant(string[0])\n",
        " \n",
        "    return totalConsonants(string, n - 1) + isConsonant(string[n-1])\n",
        "\n",
        "print(totalConsonants(string, len(string)))"
      ],
      "metadata": {
        "colab": {
          "base_uri": "https://localhost:8080/"
        },
        "id": "Q28WvRF0K3Co",
        "outputId": "506dcc85-d8fd-4679-e3e2-a2d2e5131c23"
      },
      "execution_count": 33,
      "outputs": [
        {
          "output_type": "stream",
          "name": "stdout",
          "text": [
            "3\n"
          ]
        }
      ]
    },
    {
      "cell_type": "markdown",
      "source": [
        "18.\n",
        "\n",
        "Find length of a stringEasy\n",
        "Write a program in Python to calculate length of the string using recursion.\n",
        "\n",
        "Example 1:\n",
        "Input:\n",
        "abcd\n",
        "\n",
        "Output:\n",
        "4"
      ],
      "metadata": {
        "id": "C-IY9iYiLbP-"
      }
    },
    {
      "cell_type": "code",
      "source": [
        "str = \"abcd\"\n",
        " \n",
        "# Function to\n",
        "# calculate length\n",
        "def string_length(str) :\n",
        "     \n",
        "    # if we reach at the\n",
        "    # end of the string\n",
        "    if str == '':\n",
        "        return 0\n",
        "    else :\n",
        "        return 1 + string_length(str[1:])\n",
        "print (string_length(str))"
      ],
      "metadata": {
        "colab": {
          "base_uri": "https://localhost:8080/"
        },
        "id": "d11XqbgE_5OP",
        "outputId": "1de7886d-7154-45c4-d4b7-301103f57f99"
      },
      "execution_count": 35,
      "outputs": [
        {
          "output_type": "stream",
          "name": "stdout",
          "text": [
            "4\n"
          ]
        }
      ]
    },
    {
      "cell_type": "markdown",
      "source": [
        "19.\n",
        "\n",
        "\n",
        "Count substringsEasy\n",
        "We are given a string S, write a recursive python program to find count of all contiguous substrings starting and ending with same character.\n",
        "\n",
        "Example 1:\n",
        "Input:\n",
        "abcab\n",
        "\n",
        "Output:\n",
        "7\n",
        "\n",
        "Explanation:\n",
        "There are 15 substrings of \"abcab\" a, ab, abc, abca, abcab, b, bc, bca bcab, c, ca, cab, a, ab, b\n",
        "\n",
        "Out of the above substrings, there are 7 substrings : a, abca, b, bcab, c, a and b."
      ],
      "metadata": {
        "id": "gadia-CxMAJR"
      }
    },
    {
      "cell_type": "code",
      "source": [
        "str = \"abcab\"\n",
        "n = len(str)\n",
        "def countSubstrs(str, i, j, n):\n",
        " \n",
        "    # base cases\n",
        "    if (n == 1):\n",
        "        return 1\n",
        "    if (n <= 0):\n",
        "        return 0\n",
        " \n",
        "    res = (countSubstrs(str, i + 1, j, n - 1)\n",
        "        + countSubstrs(str, i, j - 1, n - 1)\n",
        "        - countSubstrs(str, i + 1, j - 1, n - 2))    \n",
        " \n",
        "    if (str[i] == str[j]):\n",
        "        res += 1\n",
        " \n",
        "    return res\n",
        " \n",
        "\n",
        "print(countSubstrs(str, 0, n - 1, n))\n",
        " "
      ],
      "metadata": {
        "colab": {
          "base_uri": "https://localhost:8080/"
        },
        "id": "rN1jF3t1_5Mh",
        "outputId": "6574b730-b336-4799-faec-1a80cd703a55"
      },
      "execution_count": 37,
      "outputs": [
        {
          "output_type": "stream",
          "name": "stdout",
          "text": [
            "7\n"
          ]
        }
      ]
    },
    {
      "cell_type": "markdown",
      "source": [
        "20.\n",
        "\n",
        "\n",
        "Cumulative sumEasy\n",
        "Write a python program to find the cululative sum of given number in recursive way.\n",
        "\n",
        "Example 1:\n",
        "Input:\n",
        "4\n",
        "\n",
        "Output:\n",
        "10"
      ],
      "metadata": {
        "id": "vlW5qztDNFHw"
      }
    },
    {
      "cell_type": "code",
      "source": [
        "n = 4\n",
        "\n",
        "def recurSum(n):\n",
        "    if n <= 1:\n",
        "        return n\n",
        "    return n + recurSum(n - 1)\n",
        " \n",
        "# Driver code\n",
        "print(recurSum(n))"
      ],
      "metadata": {
        "colab": {
          "base_uri": "https://localhost:8080/"
        },
        "id": "bXEgrNrO_5KE",
        "outputId": "a1af1781-06df-49b8-d659-b8195ff4935f"
      },
      "execution_count": 39,
      "outputs": [
        {
          "output_type": "stream",
          "name": "stdout",
          "text": [
            "10\n"
          ]
        }
      ]
    },
    {
      "cell_type": "markdown",
      "source": [
        "21.\n",
        "\n",
        "Permutation of stringMedium\n",
        "Write a recursive python program to make all possible permutation for given string.\n",
        "\n",
        "Example 1:\n",
        "Input:\n",
        "abc\n",
        "\n",
        "Output:\n",
        "['abc', 'acb', 'bac', 'bca', 'cab', 'cba']"
      ],
      "metadata": {
        "id": "s16ysQgVN6aQ"
      }
    },
    {
      "cell_type": "code",
      "source": [
        "import itertools\n",
        "per_str = 'abc'\n",
        "def toString(s):\n",
        "  string_permutations = itertools.permutations(per_str)\n",
        "  string_permutations = list(string_permutations)\n",
        "  string_permutations = [''.join(permutation) for permutation in string_permutations]\n",
        "  return string_permutations\n",
        "print(toString(per_str))"
      ],
      "metadata": {
        "colab": {
          "base_uri": "https://localhost:8080/"
        },
        "id": "xZDLLuGe_5EO",
        "outputId": "678d010c-186d-458d-a419-a504a33120b7"
      },
      "execution_count": 68,
      "outputs": [
        {
          "output_type": "stream",
          "name": "stdout",
          "text": [
            "['abc', 'acb', 'bac', 'bca', 'cab', 'cba']\n"
          ]
        }
      ]
    },
    {
      "cell_type": "code",
      "source": [
        "# Getting all permutations of a string using recursion in Python\n",
        "a_string = 'abc'\n",
        "def get_permutation(some_string, idx=0):\n",
        "    if idx == len(some_string) - 1:       \n",
        "        print(\"\".join(some_string))\n",
        "    for j in range(idx, len(some_string)):\n",
        "        words_list = [c for c in some_string]   \n",
        "        words_list[idx], words_list[j] = words_list[j], words_list[idx]\n",
        "       \n",
        "        get_permutation(words_list, idx + 1)\n",
        "permutations = get_permutation(a_string)\n",
        "permutations"
      ],
      "metadata": {
        "colab": {
          "base_uri": "https://localhost:8080/"
        },
        "id": "cJT-nTqN_5Cc",
        "outputId": "be877255-4bf9-450f-d691-1600badae814"
      },
      "execution_count": 74,
      "outputs": [
        {
          "output_type": "stream",
          "name": "stdout",
          "text": [
            "abc\n",
            "acb\n",
            "bac\n",
            "bca\n",
            "cba\n",
            "cab\n"
          ]
        }
      ]
    },
    {
      "cell_type": "markdown",
      "source": [
        "22.\n",
        "\n",
        "Print a pattern Medium\n",
        "Given a number n, write a recursive python program to print following a pattern without using any loop.\n",
        "\n",
        "Example 1:\n",
        "Input:\n",
        "16\n",
        "\n",
        "Output:\n",
        "16,11,6,1,-4,1,6,11,16,\n",
        "\n",
        "Explanation:\n",
        "We basically first reduce 5 one by one until we reach a negative or 0. After we reach 0 or negative, we one add 5 until we reach n."
      ],
      "metadata": {
        "id": "JfexYR19Tcv5"
      }
    },
    {
      "cell_type": "code",
      "source": [
        "n=16\n",
        "def printPattern(n):\n",
        " \n",
        "    # Base case (When n becomes 0 or negative)\n",
        "    if (n == 0 or n < 0):\n",
        "        print(n, end=\",\")\n",
        "        return\n",
        " \n",
        "    # First print decreasing order\n",
        "    print(n, end=\",\")\n",
        "    printPattern(n - 5)\n",
        " \n",
        "    # Then print increasing order\n",
        "    print(n, end=\",\")\n",
        "    return\n",
        "printPattern(n)"
      ],
      "metadata": {
        "colab": {
          "base_uri": "https://localhost:8080/"
        },
        "id": "HMwuHaaA_4_o",
        "outputId": "5299c5d7-808d-4876-b1cb-8e6585118500"
      },
      "execution_count": 102,
      "outputs": [
        {
          "output_type": "stream",
          "name": "stdout",
          "text": [
            "16,11,6,1,-4,1,6,11,16,"
          ]
        }
      ]
    },
    {
      "cell_type": "markdown",
      "source": [
        "23.  \n",
        "\n",
        "\n",
        "Check prime numberEasy\n",
        "Given a number n, write a python program to check whether it’s prime number or not using recursion.\n",
        "\n",
        "Example 1:\n",
        "Input:\n",
        "11\n",
        "\n",
        "Output:\n",
        "Yes"
      ],
      "metadata": {
        "id": "W3KprGFuXwT_"
      }
    },
    {
      "cell_type": "code",
      "source": [
        "n = 11\n",
        "def isPrime(n, i = 2):\n",
        " \n",
        "    # Base cases\n",
        "    if (n <= 2):\n",
        "        return True if(n == 2) else False\n",
        "    if (n % i == 0):\n",
        "        return False\n",
        "    if (i * i > n):\n",
        "        return True\n",
        " \n",
        "    # Check for next divisor\n",
        "    return isPrime(n, i + 1)\n",
        " \n",
        " \n",
        "# Driver Program\n",
        "if (isPrime(n)):\n",
        "    print(\"Yes\")\n",
        "else:\n",
        "    print(\"No\")"
      ],
      "metadata": {
        "colab": {
          "base_uri": "https://localhost:8080/"
        },
        "id": "7NLu_doK_45x",
        "outputId": "34ede22f-efe8-4144-c81f-50c3b8ec25c4"
      },
      "execution_count": 81,
      "outputs": [
        {
          "output_type": "stream",
          "name": "stdout",
          "text": [
            "Yes\n"
          ]
        }
      ]
    },
    {
      "cell_type": "markdown",
      "source": [
        "24.\n",
        "\n",
        "Print sums of all subsets Medium\n",
        "Given an array of integers, write a python program using recursion to print sums of all subsets in it.\n",
        "\n",
        "Example 1:\n",
        "Input:\n",
        "[2, 3]\n",
        "\n",
        "Output:\n",
        "5,2,3,0,"
      ],
      "metadata": {
        "id": "_3PvqSCsZAzl"
      }
    },
    {
      "cell_type": "code",
      "source": [
        "arr = [2, 3]\n",
        "n = len(arr)\n",
        "def subsetSums(arr, l, r, sum=0):\n",
        " \n",
        "    # Print current subset\n",
        "    if l > r:\n",
        "        print(sum, end=\",\")\n",
        "        return\n",
        " \n",
        "    # Subset including arr[l]\n",
        "    subsetSums(arr, l + 1, r, sum + arr[l])\n",
        " \n",
        "    # Subset excluding arr[l]\n",
        "    subsetSums(arr, l + 1, r, sum)\n",
        " \n",
        " \n",
        "# Driver code\n",
        "subsetSums(arr, 0, n - 1)"
      ],
      "metadata": {
        "colab": {
          "base_uri": "https://localhost:8080/"
        },
        "id": "07Adz1Qs_41v",
        "outputId": "9bdcb063-ad9a-4be6-b8bd-acde6344c433"
      },
      "execution_count": 95,
      "outputs": [
        {
          "output_type": "stream",
          "name": "stdout",
          "text": [
            "5,2,3,0,"
          ]
        }
      ]
    },
    {
      "cell_type": "markdown",
      "source": [
        "25.\n",
        "\n",
        "\n",
        "Sum of natural numbersEasy\n",
        "Given a number n, write a python program using recursion to find sum of first n natural numbers.\n",
        "\n",
        "Example 1:\n",
        "Input:\n",
        "3\n",
        "\n",
        "Output:\n",
        "6\n",
        "\n",
        "Explanation:\n",
        "1 + 2 + 3 = 6"
      ],
      "metadata": {
        "id": "wyhCbxiAbUJM"
      }
    },
    {
      "cell_type": "code",
      "source": [
        "n=3\n",
        "def recurSum(n):\n",
        "    if n <= 1:\n",
        "        return n\n",
        "    return n + recurSum(n - 1)\n",
        " \n",
        "# Driver code\n",
        "print(recurSum(n))"
      ],
      "metadata": {
        "colab": {
          "base_uri": "https://localhost:8080/"
        },
        "id": "a6WFIbFu_4z6",
        "outputId": "99e059d6-5112-46cb-8769-22e25331b9cb"
      },
      "execution_count": 97,
      "outputs": [
        {
          "output_type": "stream",
          "name": "stdout",
          "text": [
            "6\n"
          ]
        }
      ]
    },
    {
      "cell_type": "code",
      "source": [],
      "metadata": {
        "id": "3Tsl5UBb_4wt"
      },
      "execution_count": null,
      "outputs": []
    },
    {
      "cell_type": "code",
      "source": [],
      "metadata": {
        "id": "YBNwY_Nl_4ut"
      },
      "execution_count": null,
      "outputs": []
    },
    {
      "cell_type": "code",
      "source": [],
      "metadata": {
        "id": "TnXA0e1Z_4rC"
      },
      "execution_count": null,
      "outputs": []
    },
    {
      "cell_type": "code",
      "source": [],
      "metadata": {
        "id": "lTbcND13_4n9"
      },
      "execution_count": null,
      "outputs": []
    },
    {
      "cell_type": "code",
      "source": [],
      "metadata": {
        "id": "bl3gXdvhyXQs"
      },
      "execution_count": null,
      "outputs": []
    },
    {
      "cell_type": "code",
      "execution_count": null,
      "metadata": {
        "colab": {
          "base_uri": "https://localhost:8080/"
        },
        "id": "zpW7kb5-CXGS",
        "outputId": "2e57be17-fe5c-47e9-e505-55dd7d8a7e4f"
      },
      "outputs": [
        {
          "output_type": "stream",
          "name": "stdout",
          "text": [
            "2\n",
            "3\n",
            "4\n",
            "5\n",
            "6\n",
            "7\n",
            "8\n"
          ]
        }
      ],
      "source": [
        "def pi(a,b):\n",
        "  if a>b:\n",
        "    return\n",
        "  print(a)\n",
        "  pi(a+1,b)\n",
        "pi(2,8)"
      ]
    },
    {
      "cell_type": "code",
      "source": [
        "def pd(a,b):\n",
        "  if a>b:\n",
        "    return\n",
        "  pd(a+1,b)\n",
        "  print(a)\n",
        "pd(2,8)"
      ],
      "metadata": {
        "colab": {
          "base_uri": "https://localhost:8080/"
        },
        "id": "cqSzwxN3CeQn",
        "outputId": "9fc07aec-db7c-4b9e-c423-86d00be588e0"
      },
      "execution_count": null,
      "outputs": [
        {
          "output_type": "stream",
          "name": "stdout",
          "text": [
            "8\n",
            "7\n",
            "6\n",
            "5\n",
            "4\n",
            "3\n",
            "2\n"
          ]
        }
      ]
    },
    {
      "cell_type": "code",
      "source": [
        "def pi(a,b):\n",
        "  if a>b:\n",
        "    return\n",
        "  print(a)\n",
        "  pi(a+1,b)\n",
        "pi(2,8)"
      ],
      "metadata": {
        "colab": {
          "base_uri": "https://localhost:8080/"
        },
        "id": "OGIZwiLfCgvV",
        "outputId": "67cb7f89-dd2e-4dff-fe92-102b32696f2a"
      },
      "execution_count": null,
      "outputs": [
        {
          "output_type": "stream",
          "name": "stdout",
          "text": [
            "2\n",
            "3\n",
            "4\n",
            "5\n",
            "6\n",
            "7\n",
            "8\n"
          ]
        }
      ]
    },
    {
      "cell_type": "code",
      "source": [
        "def table(a,b):\n",
        "  if b>10:\n",
        "    return\n",
        "  print(a*b)\n",
        "  table(a,b+1)\n",
        "table(3,1)"
      ],
      "metadata": {
        "colab": {
          "base_uri": "https://localhost:8080/"
        },
        "id": "1QErpF90Ci6c",
        "outputId": "32403db4-f292-4198-f2ac-68934298111a"
      },
      "execution_count": null,
      "outputs": [
        {
          "output_type": "stream",
          "name": "stdout",
          "text": [
            "3\n",
            "6\n",
            "9\n",
            "12\n",
            "15\n",
            "18\n",
            "21\n",
            "24\n",
            "27\n",
            "30\n"
          ]
        }
      ]
    },
    {
      "cell_type": "code",
      "source": [
        "def table(a,b=1):\n",
        "  if b>10:\n",
        "    return\n",
        "  print(a*b)\n",
        "  table(a,b+1)\n",
        "table(15)"
      ],
      "metadata": {
        "colab": {
          "base_uri": "https://localhost:8080/"
        },
        "id": "Kc5ONhkaCllT",
        "outputId": "cb82371c-0d62-48e8-aa50-d8c0f6beb1f5"
      },
      "execution_count": null,
      "outputs": [
        {
          "output_type": "stream",
          "name": "stdout",
          "text": [
            "15\n",
            "30\n",
            "45\n",
            "60\n",
            "75\n",
            "90\n",
            "105\n",
            "120\n",
            "135\n",
            "150\n"
          ]
        }
      ]
    },
    {
      "cell_type": "code",
      "source": [
        "def pi2(a,b):\n",
        "  if a==b:\n",
        "    print(a)\n",
        "    return\n",
        "  print(a)\n",
        "  pi2(a+1,b)\n",
        "  print(a)\n",
        "pi2(2,8)"
      ],
      "metadata": {
        "colab": {
          "base_uri": "https://localhost:8080/"
        },
        "id": "0zTJ2kfgCotV",
        "outputId": "d94373b0-93a1-4c7a-ca2c-25fcab740303"
      },
      "execution_count": null,
      "outputs": [
        {
          "output_type": "stream",
          "name": "stdout",
          "text": [
            "2\n",
            "3\n",
            "4\n",
            "5\n",
            "6\n",
            "7\n",
            "8\n",
            "7\n",
            "6\n",
            "5\n",
            "4\n",
            "3\n",
            "2\n"
          ]
        }
      ]
    },
    {
      "cell_type": "code",
      "source": [
        "def factoriall(num):\n",
        "  if num==0:\n",
        "    return 1\n",
        "  ans=factoriall(num-1)\n",
        "  return ans*num\n",
        "factoriall(5)"
      ],
      "metadata": {
        "colab": {
          "base_uri": "https://localhost:8080/"
        },
        "id": "Newe98G0CrT6",
        "outputId": "1269d162-5beb-41dc-c7b7-fe65dec14c69"
      },
      "execution_count": null,
      "outputs": [
        {
          "output_type": "execute_result",
          "data": {
            "text/plain": [
              "120"
            ]
          },
          "metadata": {},
          "execution_count": 7
        }
      ]
    },
    {
      "cell_type": "code",
      "source": [
        "# Write Your Code Here\n",
        "def fibonacci(num,start=0):\n",
        "  if start>num:\n",
        "    return\n",
        "  if start==0:\n",
        "    print(0)\n",
        "   \n",
        "  elif start==1:\n",
        "    print(1)\n",
        "    start=1\n",
        "    #print((start+1))\n",
        "  else:\n",
        "    num1=start-1\n",
        "    num2=start-2  \n",
        "    ans=num1+num2\n",
        "    print(ans)\n",
        "  fibonacci(num,start+1)\n",
        "fibonacci(5)"
      ],
      "metadata": {
        "colab": {
          "base_uri": "https://localhost:8080/"
        },
        "id": "o7Lfs0VYeqSY",
        "outputId": "d6b5618b-8e66-495b-b308-1af2f5e3ab0e"
      },
      "execution_count": null,
      "outputs": [
        {
          "output_type": "stream",
          "name": "stdout",
          "text": [
            "0\n",
            "1\n",
            "1\n",
            "3\n",
            "5\n",
            "7\n"
          ]
        }
      ]
    },
    {
      "cell_type": "code",
      "source": [
        "def fibonacci(n):\n",
        "    if n <= 1:\n",
        "        return n\n",
        "    else:\n",
        "        return(fibonacci(n-1) + fibonacci(n-2))\n",
        "n = 9\n",
        "for i in range(n):\n",
        "    print(fibonacci(i))"
      ],
      "metadata": {
        "colab": {
          "base_uri": "https://localhost:8080/"
        },
        "id": "na_UlvgvDHM7",
        "outputId": "ca3d78b9-2bd7-4176-b7bc-3cf1b8ff548e"
      },
      "execution_count": null,
      "outputs": [
        {
          "output_type": "stream",
          "name": "stdout",
          "text": [
            "0\n",
            "1\n",
            "1\n",
            "2\n",
            "3\n",
            "5\n",
            "8\n",
            "13\n",
            "21\n"
          ]
        }
      ]
    },
    {
      "cell_type": "code",
      "source": [
        "edef factoriall2(num):\n",
        "  return 1 if num==0 else (factoriall2(num-1))*num\n",
        "factoriall2(5)"
      ],
      "metadata": {
        "colab": {
          "base_uri": "https://localhost:8080/"
        },
        "id": "0SyeSs-hCt_6",
        "outputId": "8bfc4eff-f0c4-4020-8ae1-f61b2283c182"
      },
      "execution_count": null,
      "outputs": [
        {
          "output_type": "execute_result",
          "data": {
            "text/plain": [
              "120"
            ]
          },
          "metadata": {},
          "execution_count": 8
        }
      ]
    },
    {
      "cell_type": "code",
      "source": [],
      "metadata": {
        "id": "IR4vSrHf1uLH"
      },
      "execution_count": null,
      "outputs": []
    },
    {
      "cell_type": "code",
      "source": [],
      "metadata": {
        "id": "GQ5u8FaV1uFh"
      },
      "execution_count": null,
      "outputs": []
    },
    {
      "cell_type": "code",
      "source": [],
      "metadata": {
        "id": "j2au-TUK1uC6"
      },
      "execution_count": null,
      "outputs": []
    },
    {
      "cell_type": "code",
      "source": [],
      "metadata": {
        "id": "rC5Kfpao1uAx"
      },
      "execution_count": null,
      "outputs": []
    },
    {
      "cell_type": "code",
      "source": [],
      "metadata": {
        "id": "dcsQlxKw1t-b"
      },
      "execution_count": null,
      "outputs": []
    },
    {
      "cell_type": "code",
      "source": [],
      "metadata": {
        "id": "L9sflF7o1t8J"
      },
      "execution_count": null,
      "outputs": []
    },
    {
      "cell_type": "code",
      "source": [
        "s='ABCDEFGHIJKLIMNOQRSTUVWXYZ'\n",
        "l=4"
      ],
      "metadata": {
        "id": "i-nTkeBQ1tr5"
      },
      "execution_count": null,
      "outputs": []
    },
    {
      "cell_type": "code",
      "source": [
        "import textwrap\n",
        "\n",
        "def wrap(string, max_width):\n",
        "    return textwrap.fill(string, max_width)\n",
        "print(wrap(s,l))"
      ],
      "metadata": {
        "colab": {
          "base_uri": "https://localhost:8080/"
        },
        "id": "0AduLuIVkJds",
        "outputId": "e7ec10af-c898-43be-c0e4-0aeb3f24ac10"
      },
      "execution_count": null,
      "outputs": [
        {
          "output_type": "stream",
          "name": "stdout",
          "text": [
            "ABCD\n",
            "EFGH\n",
            "IJKL\n",
            "IMNO\n",
            "QRST\n",
            "UVWX\n",
            "YZ\n"
          ]
        }
      ]
    },
    {
      "cell_type": "code",
      "source": [
        "for i in range(len(s)):\n",
        "  k=4\n",
        "  for j in range(k,k+4):\n",
        "    print(s[j],end=\"\")\n",
        "    k+=4\n",
        "  print()\n"
      ],
      "metadata": {
        "id": "KQuS6Lit1tow",
        "colab": {
          "base_uri": "https://localhost:8080/"
        },
        "outputId": "486026f6-e3ea-41ea-a714-9ff5c51e71c9"
      },
      "execution_count": null,
      "outputs": [
        {
          "output_type": "stream",
          "name": "stdout",
          "text": [
            "EFGH\n",
            "EFGH\n",
            "EFGH\n",
            "EFGH\n",
            "EFGH\n",
            "EFGH\n",
            "EFGH\n",
            "EFGH\n",
            "EFGH\n",
            "EFGH\n",
            "EFGH\n",
            "EFGH\n",
            "EFGH\n",
            "EFGH\n",
            "EFGH\n",
            "EFGH\n",
            "EFGH\n",
            "EFGH\n",
            "EFGH\n",
            "EFGH\n",
            "EFGH\n",
            "EFGH\n",
            "EFGH\n",
            "EFGH\n",
            "EFGH\n",
            "EFGH\n"
          ]
        }
      ]
    },
    {
      "cell_type": "code",
      "source": [],
      "metadata": {
        "id": "Mdw9lcPT1tkQ"
      },
      "execution_count": null,
      "outputs": []
    },
    {
      "cell_type": "code",
      "source": [],
      "metadata": {
        "id": "XMx-TsMG1tf8"
      },
      "execution_count": null,
      "outputs": []
    }
  ]
}